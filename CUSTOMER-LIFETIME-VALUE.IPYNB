{
 "cells": [
  {
   "cell_type": "markdown",
   "metadata": {},
   "source": [
    "## **UNDERSTANDING CUSTOMER LIFETIME VALUE (CLV)**"
   ]
  },
  {
   "cell_type": "markdown",
   "metadata": {},
   "source": [
    "### **What is customer lifetime value (CLV)?**"
   ]
  },
  {
   "cell_type": "markdown",
   "metadata": {},
   "source": [
    "Customer lifetime value is the total worth to a business of a customer over the whole period of their relationship with the brand. Rather than looking at the value of individual transactions, this value takes into account all potential transactions to be made during a customer relationship timespan and calculates the specific revenue from that customer."
   ]
  },
  {
   "cell_type": "markdown",
   "metadata": {},
   "source": [
    "For example, if someone is loyal to an auto brand whose vehicles average at $30,000 and the customer buys three cars from them in their lifetime, their CLV is $90,000. Whereas, someone who visits their local coffee chain five days a week and spends $4 on a coffee, will have a CLV of $10,400 over the course of 10 years.\n",
    "\n",
    "Understanding CLV is crucial for businesses because it helps determine how much money to invest in acquiring and retaining customers."
   ]
  },
  {
   "cell_type": "markdown",
   "metadata": {},
   "source": [
    "<p>There are two ways of looking at customer lifetime value: <strong>historic customer lifetime value</strong> (how much each existing customer has already spent with your brand) and <strong>predictive customer lifetime value </strong>(how much customers could spend with your brand). Both measurements of customer lifetime value are useful for tracking business success.</p>"
   ]
  },
  {
   "cell_type": "markdown",
   "metadata": {},
   "source": [
    "<strong>Historic customer lifetime value</strong>\n",
    "\n",
    "<p>If you’ve bought a $4 Christmas tree from the same grower for the last 10 years, for example, your customer lifetime value has been $40 – pretty straightforward. This is an example of <strong>historic </strong><strong>customer lifetime value</strong>– a measure that works by looking back at past events. It’s helpful to understand what an existing customer has brought to your brand and for building profiles of ideal customers.</p>"
   ]
  },
  {
   "cell_type": "markdown",
   "metadata": {},
   "source": [
    "<strong>Predictive customer lifetime value</strong>\n",
    "\n",
    "<p>You can also calculate <strong>predictive </strong><strong>customer lifetime value</strong>. This is an algorithmic process that takes historical data and uses it to make a smart prediction of how long a customer relationship is likely to last and what its value will be. It can take into account customer acquisition costs, average purchase frequency rate, business overheads and more to give you a more realistic customer lifetime value prediction. It can be a more complex way to calculate customer lifetime value, but it can help you to see when you need to invest in your customer loyalty.</p>"
   ]
  },
  {
   "cell_type": "markdown",
   "metadata": {},
   "source": [
    "<img class=\"img-responsive lazyloaded\" data-src=\"https://emtemp.gcom.cloud/ngw/globalassets/en/digital-markets/images/graphs/comparing-historical-and-predictive-clv-models.jpg\" alt=\"Comparing historical and predictive CLV models\" src=\"https://emtemp.gcom.cloud/ngw/globalassets/en/digital-markets/images/graphs/comparing-historical-and-predictive-clv-models.jpg\">"
   ]
  },
  {
   "cell_type": "markdown",
   "metadata": {},
   "source": [
    "### **Why is customer lifetime value important to your business?**"
   ]
  },
  {
   "cell_type": "markdown",
   "metadata": {},
   "source": [
    "<strong>It helps you save money</strong>\n",
    "\n",
    "<p>Customer lifetime value is an important metric to track, as it costs less to keep existing, loyal customers than it does to acquire new ones. Recent research has found that even in sectors with potentially easier customer acquisition, such as e-commerce, <a href=\"https://www.businesswire.com/news/home/20220719005425/en/Brands-Losing-a-Record-29-for-Each-New-Customer-Acquired\">there’s been a 222% increase in costs for new customers</a> over the last eight years.</p>\n",
    "\n",
    "\n",
    "<p>Focusing on increasing the current customer lifetime value of your existing customers is a great way to drive growth. Rather than relying on new customers (and spending lots to get them), you can figure out what keeps your customer base loyal and replicate your actions for increased value with existing customers.</p>"
   ]
  },
  {
   "cell_type": "markdown",
   "metadata": {},
   "source": [
    "<strong>It helps you spot and stop attrition</strong>\n",
    "\n",
    "Customer lifetime value is a great metric to use to spot early signs of attrition and combat them. Let’s say you notice that customer lifetime value is dropping, and pinpoint that customers are neglecting to sign up for a continuation of an ongoing subscription of your product or service. You might decide to launch or improve a loyalty program to tempt customers back, or provide better customer support or marketing efforts around renewal times to help encourage customers to sign up again. This will help to increase customer lifetime value and business revenue again."
   ]
  },
  {
   "cell_type": "markdown",
   "metadata": {},
   "source": [
    "<strong>It helps you find your best customers and replicate them</strong>\n",
    "\n",
    "Your best customers will have a higher customer lifetime value, and through careful analysis you’ll be able to understand the commonalities between these individuals. What drives them to buy into your brand again and again? Is it a common need, a particular income bracket, a specific geographical location? You can define a whole customer segment based on these higher value existing customers alone.\n",
    "\n",
    "Once you’ve analyzed the drivers for high customer lifetime value and created a buyer persona specifically for this type of customer, you can seek out new customers using this information. Once you’ve got them on board, you have your predictive customer lifetime value to rely on for future revenue.\n",
    "\n",
    "Understanding CLV helps you determine the most effective strategy for your business growth. If your CLV is low, you may need to invest more in loyalty programs and initiatives to boost customer retention. In contrast, a high CLV means you may need to look into the best-selling products and campaigns driving growth to keep the momentum going. Over time, this strategy will help you create more cost-effective strategies around customer acquisition, marketing and sales."
   ]
  },
  {
   "cell_type": "markdown",
   "metadata": {},
   "source": [
    "<strong>Determine customer acquisition cost</strong>\n",
    "\n",
    "\n",
    "How much should you invest in hiring a new customer? When you can determine the amount a customer will spend on your business, you can gauge the amount of money to spend on marketing campaigns.\n",
    "\n",
    "For example, when you find out a customer spends an average of $1,000 on your business over time⁠—you might have the budget to spend more on advertising and targeting campaigns. Not only that, but you have room to invest more money to personalize your email marketing strategy or content strategy.\n",
    "\n",
    "Alternatively, if the estimated CLV is $1,000, you would only invest this much in convincing a customer to stay. Otherwise, you wouldn’t profit from the relationship."
   ]
  },
  {
   "cell_type": "markdown",
   "metadata": {},
   "source": [
    "<strong>More accurate forecasting</strong>\n",
    "\n",
    "Customer lifetime value (CLV) can help you make better production, workforce and inventory decisions. It helps pinpoint the types of clients you have, the best-selling products you buy and the factors that drive customer loyalty. Otherwise, you may spend more on producing products with insufficient demand."
   ]
  },
  {
   "cell_type": "markdown",
   "metadata": {},
   "source": [
    "<strong>Better understand loyal customers</strong>\n",
    "\n",
    "Customer lifetime value helps you understand the most loyal brand advocates. How often do they shop from your business? What items are they more likely to purchase? Through which channel do they make purchases. Answering these questions can help you brainstorm ways to engage with your most loyal customers."
   ]
  },
  {
   "cell_type": "markdown",
   "metadata": {},
   "source": [
    "### **Other important factors for your customer lifetime value calculation**"
   ]
  },
  {
   "cell_type": "markdown",
   "metadata": {},
   "source": [
    "As you can imagine, in bigger companies with more complex products and business models, customer lifetime value gets more complicated to calculate.\n",
    "\n",
    "Some companies don’t attempt to measure customer lifetime value, citing the challenges of segregated teams, inadequate systems, and untargeted marketing.\n",
    "\n",
    "When data from all areas of an organization is integrated, however, it becomes easier to calculate customer lifetime value more accurately."
   ]
  },
  {
   "cell_type": "markdown",
   "metadata": {},
   "source": [
    "\n",
    "Customer lifetime value can be measured in the following way:\n",
    "\n",
    "<ul>\n",
    "<li>Identify the touchpoints where the customer creates the value</li>\n",
    "<li>Integrate records to create the <a href=\"https://www.qualtrics.com/uk/experience-management/customer/customer-journey-mapping/\">customer journey</a></li>\n",
    "<li>Measure revenue at each touchpoint</li>\n",
    "<li>Add together over the lifetime of that customer</li>\n",
    "</ul>"
   ]
  },
  {
   "cell_type": "markdown",
   "metadata": {},
   "source": [
    "### **How to improve customer lifetime value (CLV)**"
   ]
  },
  {
   "cell_type": "markdown",
   "metadata": {},
   "source": [
    "Customer lifetime value is all about forming a lasting positive connection with your customers. So it naturally follows that the way to boost your customer lifetime value figures is to nurture those customer relationships. Here are a few ways of doing that."
   ]
  },
  {
   "cell_type": "markdown",
   "metadata": {},
   "source": [
    "<strong>Invest in customer experience</strong>\n",
    "\n",
    "<p>Customer experience is made up of every instance of connection between a customer and a <a href=\"https://www.qualtrics.com/experience-management/brand/\">brand</a>, including store visits, contact center queries, purchases, product use and even their exposure to advertising and social media. Improving the experience is a business-wide endeavor that’s often addressed using a <a href=\"https://www.qualtrics.com/experience-management/customer/customer-experience-program/\">customer experience management program</a>. This is a process of monitoring, listening and making changes that add up to a lasting improvement in how customers feel and their tendency to be loyal over the long-term.</p>\n",
    "\n",
    "\n",
    "<p>Good customer service is essential to encourage customers to be long-time patrons. It only takes one bad experience to prompt a customer to switch to your competitors. A Qualtrics study found <a href=\"https://www.qualtrics.com/blog/qualtrics-servicenow-customer-service-research/\" target=\"_blank\" rel=\"noopener\">80% of customers</a> have changed brands because of a poor customer experience.</p>\n",
    "\n",
    "<p>A good tip is to increase communication channels for customer support. Ideally, it would help if you looked into the channels your consumers use the most and created touchpoints there. A study <a href=\"https://1worldsync.com/resource-center/blog/2018-the-year-of-the-omni-channel-brand/\" target=\"_blank\" rel=\"noopener\">found</a> companies with solid omnichannel customer engagement retain 89% of their buyers.</p>"
   ]
  },
  {
   "cell_type": "markdown",
   "metadata": {},
   "source": [
    "<strong>Ensure your onboarding process is seamless</strong>\n",
    "\n",
    "<p><a href=\"https://www.qualtrics.com/uk/experience-management/customer/customer-experience/\">Customer experience</a> starts the moment a potential customer encounters your brand, but often companies can forget that customers need care <em>after </em>the purchase. Make sure your onboarding process is optimized for your <a href=\"https://www.qualtrics.com/experience-management/research/customer-needs-analysis/\">customers’ needs,</a> and it’s as simple and easy as possible for <a href=\"https://www.qualtrics.com/experience-management/customer/customer-effort-score/\">minimal customer effort</a>. Personalization and communicating the extra value you provide to your customers should be a priority. You should also remember that how you treat your customers during the onboarding process is how they expect to be treated ongoing, so make sure your customer experience reflects this.</p>"
   ]
  },
  {
   "cell_type": "markdown",
   "metadata": {},
   "source": [
    "<strong>Start a loyalty program</strong>\n",
    "\n",
    "A loyalty program incentivizes repeat business by offering discounts or benefits in return. A loyalty program might take the form of a loyalty card or app, or a points system that customers accrue when they make a purchase. Although it’s not a silver bullet for customer retention, a loyalty program can yield great results when it’s planned and executed well.\n",
    "\n",
    "\n",
    "A growing body of research proves rewards programs effectively drive loyalty and retention. Gamify the experience by offering discounts and perks every time customers complete a milestone (e.g., making their first order and spending a specific amount).\n",
    "\n",
    "<p>For example, Victoria’s Secret <a href=\"https://www.victoriassecret.com/us/pink/pink-nation\" target=\"_blank\" rel=\"noopener\">Pink Nation loyalty program</a> lets customers receive members-only perks such as exclusive content, early access to sales, mental health tips and playlists.</p>"
   ]
  },
  {
   "cell_type": "markdown",
   "metadata": {},
   "source": [
    "<strong>Recognize and reward your best customers</strong>\n",
    "\n",
    "With your customer experience management program up and running, you’ll already have some ideas about which customers are likely to have the best customer lifetime value. You can nurture your relationships with these individuals or groups using targeted marketing and special offers that recognise their loyalty. This could include free expedited shipping, top-tier benefits in your loyalty program, or access to exclusive or pre-release products and services."
   ]
  },
  {
   "cell_type": "markdown",
   "metadata": {},
   "source": [
    "<strong>Provide omnichannel support</strong>\n",
    "\n",
    "\n",
    "<p>Your customers will have a variety of preferences for how they engage with you, so your support channels need to reflect this. Do your research to find out which channels your particular customer base prefers, rather than just offering what you think they’ll want to use. Get <a href=\"https://www.qualtrics.com/experience-management/customer/collecting-customer-feedback/\">customer feedback</a> on <a href=\"https://www.qualtrics.com/experience-management/customer/customer-self-service/\">self-service options</a> and frontline interactions to provide a great customer experience with <a href=\"https://www.qualtrics.com/experience-management/customer/omnichannel-experience-design/\">omnichannel</a> support.</p>"
   ]
  },
  {
   "cell_type": "markdown",
   "metadata": {},
   "source": [
    "<strong>Remember the power of social media</strong>\n",
    "\n",
    "<p>Social media is increasingly important not only for customer communication, but for customers to gather information on your brand and public image. If customers feel as though your social media responses to a query or issue aren’t fast enough, thorough enough, or empathetic, this will affect the opinion the customer has of your brand moving forward. Make sure you factor in social media – mentions, and responses into your <a href=\"https://www.qualtrics.com/experience-management/customer/design-customer-experience-strategy/\">customer experience strategy.</a></p>"
   ]
  },
  {
   "cell_type": "markdown",
   "metadata": {},
   "source": [
    "<strong>Close the loop with unhappy customers</strong>\n",
    "\n",
    "<p><a href=\"https://www.qualtrics.com/experience-management/customer/closed-loop-cx/\">Closed-loop feedback</a> is a powerful way to reduce unwanted churn and turn dissatisfied customers into newly loyal ones. In this model, businesses proactively reach out to <a href=\"https://www.qualtrics.com/experience-management/customer/detractors/\">detractors o</a>r complainants and intervene before issues can escalate and lead to a breakdown of the customer relationship. In many cases, this targeted effort and active listening on the part of the business actually makes the relationship stronger than it was originally. It’s a valuable extension of your customer experience management program.</p>"
   ]
  },
  {
   "cell_type": "markdown",
   "metadata": {},
   "source": [
    "Improving your CLV can enhance your business’s profitability over time. To that end, here are a few ways to improve customer loyalty and retention."
   ]
  },
  {
   "cell_type": "markdown",
   "metadata": {},
   "source": [
    "<strong> Place product recommendations</strong>\n",
    "\n",
    "<p>Product recommendations matter. A study found <a href=\"https://www.forbes.com/sites/forbestechcouncil/2022/08/16/online-reviews-the-customer-reference-that-never-sleeps/?sh=1cc007c32921\" target=\"_blank\" rel=\"noopener\">92.4% of consumers</a> are influenced by reviews when purchasing. <a href=\"https://www.forbes.com/sites/forbesagencycouncil/2017/10/09/the-power-of-review-sites-for-brands/?sh=4ef20dd369d5\" target=\"_blank\" rel=\"noopener\">Nearly 90% of consumers</a> believe in product reviews as much as advice from family and friends.</p>\n",
    "\n",
    "<p>Product recommendations matter. A study found <a href=\"https://www.forbes.com/sites/forbestechcouncil/2022/08/16/online-reviews-the-customer-reference-that-never-sleeps/?sh=1cc007c32921\" target=\"_blank\" rel=\"noopener\">92.4% of consumers</a> are influenced by reviews when purchasing. <a href=\"https://www.forbes.com/sites/forbesagencycouncil/2017/10/09/the-power-of-review-sites-for-brands/?sh=4ef20dd369d5\" target=\"_blank\" rel=\"noopener\">Nearly 90% of consumers</a> believe in product reviews as much as advice from family and friends.</p>\n",
    "\n",
    "<p>Amazon’s algorithm selects product recommendations based on users’ past purchases and browsing behavior. Using this information, it can make suggestions such as “similar items viewed” or “frequently bought together” by consumers with the same interests or preferences. That’s why <a href=\"https://www.rejoiner.com/resources/amazon-recommendations-secret-selling-online\" target=\"_blank\" rel=\"noopener\">35% of Amazon.com’s revenue</a> comes from its recommendation engine. Judging by the numbers, recommendations are crucial to increasing CLV.</p>\n",
    "\n",
    "\n"
   ]
  },
  {
   "cell_type": "markdown",
   "metadata": {},
   "source": [
    "<strong>Create personalized experiences</strong>\n",
    "\n",
    "<p>Businesses that want to retain customers should focus on increasing their value and relevance. That’s why creating personalized experiences relevant to shoppers’ interests is essential. A survey of 1,000 U.S. adults by Epsilon and GBH Insights found that 80% of respondents want personalization from retailers. Likewise, McKinsey <a href=\"https://www.mckinsey.com/business-functions/marketing-and-sales/our-insights/omnichannel-shopping-in-2030\" target=\"_blank\" rel=\"noopener\">predicts</a> shopping will feel <a href=\"https://www.mckinsey.com/industries/retail/our-insights/personalizing-the-customer-experience-driving-differentiation-in-retail\" target=\"_blank\" rel=\"noopener\">incredibly personalized</a> by 2030.</p>\n",
    "\n",
    "<p>Moving forward, businesses must be able to segment customers based on their demographics, interests and purchasing behaviors. This could mean tailoring content recommendations based on browsing behavior.</p>"
   ]
  },
  {
   "cell_type": "markdown",
   "metadata": {},
   "source": [
    "<strong>Create unified customer experiences</strong>\n",
    "\n",
    "\n",
    "Thanks to the evolution of technology, most consumers adopt a hybrid approach when purchasing. They may discover a product on Facebook, visit the brand’s website and go to an in-store outlet to examine the physical product—and this won’t stop soon.\n",
    "\n",
    "<p>While brands can create different touchpoints, ensuring these experiences are streamlined is essential. For example, Timberland lets people stand in front of <a href=\"https://lemonandorange.com/portfolio_item/timberland-campaign/\" target=\"_blank\" rel=\"noopener\">augmented reality mirrors</a> to envision how apparel fits before going to the fitting room. Similarly, <a href=\"https://apps.apple.com/us/app/ikea-place/id1279244498\" target=\"_blank\" rel=\"noopener\">IKEA’s app</a> allows shoppers to browse products online and use their smartphone’s camera to see how it looks in a room.</p>"
   ]
  },
  {
   "cell_type": "markdown",
   "metadata": {},
   "source": [
    "<strong> Make returns easy (and ideally, free) </strong>\n",
    "\n",
    "\n",
    "Sometimes customers aren’t delighted with the product—and that’s perfectly okay. Just make it easy for customers to return products and services. A fast and easy return process will encourage customers to return to your online store and give it a try again."
   ]
  },
  {
   "cell_type": "markdown",
   "metadata": {},
   "source": [
    "<strong> Create actionable surveys </strong>\n",
    "\n",
    "Understand your customers by creating actionable surveys. This information will help you understand customers’ level of satisfaction with your products or services. Not only that, but it will help you determine the most effective strategies to drive higher CLV while growing your customer base.\n",
    "\n",
    "<p>For example, Sephora collected consumer data and found that <a href=\"https://etailwest.wbresearch.com/blog/how-sephora-integrates-retail-online-marketing#:~:text=Utilizing%20the%20power%20of%20influencer,the%20platforms%20they%20use%20most.\" target=\"_blank\" rel=\"noopener\">70% of customers</a> that visited its website within 24 hours before visiting the store spent 13% more than other customers.</p>\n",
    "\n",
    "After realizing the importance of online customer journeys, it launched online campaigns that improved in-store engagement. The results? It found a higher return on ad spend (ROAS) by 3.9 times and a threefold increase in conversion rates."
   ]
  },
  {
   "cell_type": "markdown",
   "metadata": {},
   "source": [
    "## **ANALYSIS OF CLV**"
   ]
  },
  {
   "cell_type": "markdown",
   "metadata": {},
   "source": [
    "### **THE BUSINESS PROBLEM**"
   ]
  },
  {
   "cell_type": "markdown",
   "metadata": {},
   "source": [
    "Case study of a online retailer specializing in consumer electronics seeking patterns on performance of each acquisition channel, revealing which channels to double down and which to cut budget onto. With a wide range marketing channels that brands are present to reach their customer prospects and put the messaging out there, it's important to reflect on which channel converts better, which channel costs less and which channel brings in the most revenue. The objective of this analysis is to extract useful knowledge on performance of each acquisition channel and bring out insights to inform budgeting as well as customer targeting strategies."
   ]
  },
  {
   "cell_type": "markdown",
   "metadata": {},
   "source": [
    "The given dataset provides data values and categories on following variables:\n",
    "* customer_id: unique identifier of each customer\n",
    "* channel: marketing channel that acquires the customer (first-touch attribution)\n",
    "* cost: total cost to acquire the particular customer\n",
    "* conversion_rate: ratio of successful purchase conversions to the total number of interactions of the customer\n",
    "* revenue: total revenue the customer has brought in"
   ]
  },
  {
   "cell_type": "markdown",
   "metadata": {},
   "source": [
    "### **IMPORT NEEDED LIBRARIES**"
   ]
  },
  {
   "cell_type": "markdown",
   "metadata": {},
   "source": [
    "\n",
    "\n",
    "Imports necessary libraries:\n",
    "   - pandas as pd: is used for data manipulation and analysis.\n",
    "\n",
    "   - plotly.graph_objs as go: This is part of the Plotly library, which is used for creating interactive visualizations.\n",
    "\n",
    "   - plotly.express as px: This is another module of the Plotly library that provides a high-level interface for creating various types of visualizations.\n",
    "   \n",
    "   - plotly.io as pio: This module provides functions to work with Plotly's interactive output.\n",
    "\n",
    "\n",
    "   - pio.templates.default = \"plotly_white\"`: This line sets the default style template for the plots created using Plotly. The \"plotly_white\" template provides a white background with clean, minimal styling.\n",
    "\n",
    "this code initializes the necessary libraries for data manipulation and interactive plotting using Plotly. It also sets the default plot style to a clean, white background."
   ]
  },
  {
   "cell_type": "code",
   "execution_count": 1,
   "metadata": {},
   "outputs": [],
   "source": [
    "\n",
    "\n",
    "import pandas as pd\n",
    "import plotly.graph_objs as go\n",
    "import plotly.express as px\n",
    "import plotly.io as pio\n",
    "pio.templates.default = \"plotly_white\"\n",
    "\n"
   ]
  },
  {
   "cell_type": "markdown",
   "metadata": {},
   "source": [
    "### **UNDERSTANDING THE DATA**"
   ]
  },
  {
   "cell_type": "markdown",
   "metadata": {},
   "source": [
    "this code loads customer acquisition data from a CSV file and displays the initial rows to provide an overview of the dataset's structure and content."
   ]
  },
  {
   "cell_type": "code",
   "execution_count": 3,
   "metadata": {},
   "outputs": [
    {
     "name": "stdout",
     "output_type": "stream",
     "text": [
      "   customer_id           channel       cost  conversion_rate  revenue\n",
      "0            1          referral   8.320327         0.123145     4199\n",
      "1            2  paid advertising  30.450327         0.016341     3410\n",
      "2            3   email marketing   5.246263         0.043822     3164\n",
      "3            4      social media   9.546326         0.167592     1520\n",
      "4            5          referral   8.320327         0.123145     2419\n"
     ]
    }
   ],
   "source": [
    "\n",
    "data = pd.read_csv('customer_acquisition_data.csv')\n",
    "print(data.head())\n"
   ]
  },
  {
   "cell_type": "markdown",
   "metadata": {},
   "source": [
    "The code `data.shape` returns a tuple containing two values. The first value represents the number of rows in the dataset, and the second value represents the number of columns. The dataset has 800 rows and 5 columns - `(800, 5)`"
   ]
  },
  {
   "cell_type": "code",
   "execution_count": 4,
   "metadata": {},
   "outputs": [
    {
     "data": {
      "text/plain": [
       "(800, 5)"
      ]
     },
     "execution_count": 4,
     "metadata": {},
     "output_type": "execute_result"
    }
   ],
   "source": [
    "\n",
    "data.shape\n"
   ]
  },
  {
   "cell_type": "markdown",
   "metadata": {},
   "source": [
    "The code `data.info()` provides a concise summary of the dataset's structure. It includes the following information:\n",
    "\n",
    "1. The total number of entries (rows) in the dataset.\n",
    "2. The data type of each column.\n",
    "3. The number of non-null entries in each column, which helps identify missing data.\n",
    "4. The memory usage of the dataset.\n",
    "\n",
    "This code is useful for understanding the dataset's composition and identifying any potential data quality issues, such as missing values or incorrect data types."
   ]
  },
  {
   "cell_type": "code",
   "execution_count": 5,
   "metadata": {},
   "outputs": [
    {
     "name": "stdout",
     "output_type": "stream",
     "text": [
      "<class 'pandas.core.frame.DataFrame'>\n",
      "RangeIndex: 800 entries, 0 to 799\n",
      "Data columns (total 5 columns):\n",
      " #   Column           Non-Null Count  Dtype  \n",
      "---  ------           --------------  -----  \n",
      " 0   customer_id      800 non-null    int64  \n",
      " 1   channel          800 non-null    object \n",
      " 2   cost             800 non-null    float64\n",
      " 3   conversion_rate  800 non-null    float64\n",
      " 4   revenue          800 non-null    int64  \n",
      "dtypes: float64(2), int64(2), object(1)\n",
      "memory usage: 31.4+ KB\n"
     ]
    }
   ],
   "source": [
    "\n",
    "data.info()\n"
   ]
  },
  {
   "cell_type": "markdown",
   "metadata": {},
   "source": [
    "The `data.describe()` function provides summary statistics for each numerical column in the dataset:\n",
    "\n",
    "- **count**: Shows the number of non-null values in each column.\n",
    "- **mean**: Represents the average value for each column.\n",
    "- **std**: Denotes the standard deviation, which measures the spread of data around the mean.\n",
    "- **min**: Displays the minimum value in each column.\n",
    "- **25%**: Represents the first quartile (Q1), which is the value below which 25% of the data falls.\n",
    "- **50%**: Represents the median or second quartile (Q2), which is the value below which 50% of the data falls.\n",
    "- **75%**: Denotes the third quartile (Q3), which is the value below which 75% of the data falls.\n",
    "- **max**: Shows the maximum value in each column.\n",
    "\n",
    "The code provides a quick insight into the distribution and central tendency of the numerical data(**cost,\tconversion_rate and revenue**) in the dataset. It helps in understanding the range of values, the presence of outliers, and the overall distribution of each numerical feature."
   ]
  },
  {
   "cell_type": "code",
   "execution_count": 6,
   "metadata": {},
   "outputs": [
    {
     "data": {
      "text/html": [
       "<div>\n",
       "<style scoped>\n",
       "    .dataframe tbody tr th:only-of-type {\n",
       "        vertical-align: middle;\n",
       "    }\n",
       "\n",
       "    .dataframe tbody tr th {\n",
       "        vertical-align: top;\n",
       "    }\n",
       "\n",
       "    .dataframe thead th {\n",
       "        text-align: right;\n",
       "    }\n",
       "</style>\n",
       "<table border=\"1\" class=\"dataframe\">\n",
       "  <thead>\n",
       "    <tr style=\"text-align: right;\">\n",
       "      <th></th>\n",
       "      <th>customer_id</th>\n",
       "      <th>cost</th>\n",
       "      <th>conversion_rate</th>\n",
       "      <th>revenue</th>\n",
       "    </tr>\n",
       "  </thead>\n",
       "  <tbody>\n",
       "    <tr>\n",
       "      <th>count</th>\n",
       "      <td>800.0000</td>\n",
       "      <td>800.000000</td>\n",
       "      <td>800.000000</td>\n",
       "      <td>800.000000</td>\n",
       "    </tr>\n",
       "    <tr>\n",
       "      <th>mean</th>\n",
       "      <td>400.5000</td>\n",
       "      <td>13.148052</td>\n",
       "      <td>0.086305</td>\n",
       "      <td>2769.151250</td>\n",
       "    </tr>\n",
       "    <tr>\n",
       "      <th>std</th>\n",
       "      <td>231.0844</td>\n",
       "      <td>9.922337</td>\n",
       "      <td>0.059611</td>\n",
       "      <td>1259.543706</td>\n",
       "    </tr>\n",
       "    <tr>\n",
       "      <th>min</th>\n",
       "      <td>1.0000</td>\n",
       "      <td>5.246263</td>\n",
       "      <td>0.016341</td>\n",
       "      <td>500.000000</td>\n",
       "    </tr>\n",
       "    <tr>\n",
       "      <th>25%</th>\n",
       "      <td>200.7500</td>\n",
       "      <td>5.246263</td>\n",
       "      <td>0.043822</td>\n",
       "      <td>1694.000000</td>\n",
       "    </tr>\n",
       "    <tr>\n",
       "      <th>50%</th>\n",
       "      <td>400.5000</td>\n",
       "      <td>8.320327</td>\n",
       "      <td>0.043822</td>\n",
       "      <td>2764.000000</td>\n",
       "    </tr>\n",
       "    <tr>\n",
       "      <th>75%</th>\n",
       "      <td>600.2500</td>\n",
       "      <td>9.546326</td>\n",
       "      <td>0.123145</td>\n",
       "      <td>3824.250000</td>\n",
       "    </tr>\n",
       "    <tr>\n",
       "      <th>max</th>\n",
       "      <td>800.0000</td>\n",
       "      <td>30.450327</td>\n",
       "      <td>0.167592</td>\n",
       "      <td>4998.000000</td>\n",
       "    </tr>\n",
       "  </tbody>\n",
       "</table>\n",
       "</div>"
      ],
      "text/plain": [
       "       customer_id        cost  conversion_rate      revenue\n",
       "count     800.0000  800.000000       800.000000   800.000000\n",
       "mean      400.5000   13.148052         0.086305  2769.151250\n",
       "std       231.0844    9.922337         0.059611  1259.543706\n",
       "min         1.0000    5.246263         0.016341   500.000000\n",
       "25%       200.7500    5.246263         0.043822  1694.000000\n",
       "50%       400.5000    8.320327         0.043822  2764.000000\n",
       "75%       600.2500    9.546326         0.123145  3824.250000\n",
       "max       800.0000   30.450327         0.167592  4998.000000"
      ]
     },
     "execution_count": 6,
     "metadata": {},
     "output_type": "execute_result"
    }
   ],
   "source": [
    "\n",
    "data.describe()\n"
   ]
  },
  {
   "cell_type": "markdown",
   "metadata": {},
   "source": [
    "The code `data['channel'].unique()` is used to retrieve the unique values present in the 'channel' column of the DataFrame called 'data'. It returns an array or list containing all the distinct categories or labels found in the 'channel' column.\n",
    "\n",
    "The 'channel' column contains different marketing channels like 'referral', 'paid advertising', 'email marketing', 'social media' in all the 800 rows in the data, this code will provide a list of these unique channels. This information is useful for understanding the diversity of channels used in the dataset."
   ]
  },
  {
   "cell_type": "code",
   "execution_count": 8,
   "metadata": {},
   "outputs": [
    {
     "data": {
      "text/plain": [
       "array(['referral', 'paid advertising', 'email marketing', 'social media'],\n",
       "      dtype=object)"
      ]
     },
     "execution_count": 8,
     "metadata": {},
     "output_type": "execute_result"
    }
   ],
   "source": [
    "\n",
    "# List the unique categories of the channel variable\n",
    "data['channel'].unique()\n"
   ]
  },
  {
   "cell_type": "markdown",
   "metadata": {},
   "source": [
    "### **EXPLORATORY DATA ANALYSIS (EDA):**"
   ]
  },
  {
   "cell_type": "markdown",
   "metadata": {},
   "source": [
    "Let's conduct EDA - creating visualizations and carry out calculations to help understand relationships between the data variables. This help reveal interesting trends and insight in the data. "
   ]
  },
  {
   "cell_type": "markdown",
   "metadata": {},
   "source": [
    "Let’s start by visualizing the distribution of acquisition cost and revenue generated by the customer using histograms:"
   ]
  },
  {
   "cell_type": "code",
   "execution_count": 14,
   "metadata": {},
   "outputs": [
    {
     "data": {
      "application/vnd.plotly.v1+json": {
       "config": {
        "plotlyServerURL": "https://plot.ly"
       },
       "data": [
        {
         "alignmentgroup": "True",
         "bingroup": "x",
         "hovertemplate": "cost=%{x}<br>count=%{y}<extra></extra>",
         "legendgroup": "",
         "marker": {
          "color": "#636efa",
          "pattern": {
           "shape": ""
          }
         },
         "name": "",
         "nbinsx": 10,
         "offsetgroup": "",
         "orientation": "v",
         "showlegend": false,
         "type": "histogram",
         "x": [
          8.320326732170223,
          30.450327213520207,
          5.2462632712450965,
          9.546325667652964,
          8.320326732170223,
          30.450327213520207,
          9.546325667652964,
          5.2462632712450965,
          9.546325667652964,
          9.546325667652964,
          5.2462632712450965,
          8.320326732170223,
          9.546325667652964,
          5.2462632712450965,
          8.320326732170223,
          30.450327213520207,
          8.320326732170223,
          30.450327213520207,
          9.546325667652964,
          8.320326732170223,
          30.450327213520207,
          5.2462632712450965,
          9.546325667652964,
          5.2462632712450965,
          5.2462632712450965,
          30.450327213520207,
          5.2462632712450965,
          9.546325667652964,
          5.2462632712450965,
          30.450327213520207,
          8.320326732170223,
          9.546325667652964,
          8.320326732170223,
          9.546325667652964,
          30.450327213520207,
          8.320326732170223,
          9.546325667652964,
          9.546325667652964,
          30.450327213520207,
          8.320326732170223,
          9.546325667652964,
          9.546325667652964,
          30.450327213520207,
          30.450327213520207,
          30.450327213520207,
          9.546325667652964,
          5.2462632712450965,
          8.320326732170223,
          9.546325667652964,
          8.320326732170223,
          5.2462632712450965,
          30.450327213520207,
          8.320326732170223,
          8.320326732170223,
          30.450327213520207,
          30.450327213520207,
          5.2462632712450965,
          30.450327213520207,
          8.320326732170223,
          30.450327213520207,
          5.2462632712450965,
          9.546325667652964,
          5.2462632712450965,
          9.546325667652964,
          30.450327213520207,
          9.546325667652964,
          30.450327213520207,
          8.320326732170223,
          5.2462632712450965,
          9.546325667652964,
          30.450327213520207,
          8.320326732170223,
          30.450327213520207,
          30.450327213520207,
          8.320326732170223,
          30.450327213520207,
          5.2462632712450965,
          9.546325667652964,
          30.450327213520207,
          5.2462632712450965,
          9.546325667652964,
          5.2462632712450965,
          5.2462632712450965,
          30.450327213520207,
          30.450327213520207,
          5.2462632712450965,
          9.546325667652964,
          9.546325667652964,
          30.450327213520207,
          30.450327213520207,
          5.2462632712450965,
          5.2462632712450965,
          8.320326732170223,
          5.2462632712450965,
          9.546325667652964,
          8.320326732170223,
          9.546325667652964,
          30.450327213520207,
          5.2462632712450965,
          5.2462632712450965,
          9.546325667652964,
          9.546325667652964,
          5.2462632712450965,
          9.546325667652964,
          9.546325667652964,
          9.546325667652964,
          5.2462632712450965,
          30.450327213520207,
          5.2462632712450965,
          8.320326732170223,
          8.320326732170223,
          8.320326732170223,
          5.2462632712450965,
          8.320326732170223,
          30.450327213520207,
          5.2462632712450965,
          9.546325667652964,
          8.320326732170223,
          30.450327213520207,
          30.450327213520207,
          30.450327213520207,
          5.2462632712450965,
          5.2462632712450965,
          8.320326732170223,
          5.2462632712450965,
          5.2462632712450965,
          5.2462632712450965,
          30.450327213520207,
          30.450327213520207,
          5.2462632712450965,
          30.450327213520207,
          9.546325667652964,
          5.2462632712450965,
          8.320326732170223,
          8.320326732170223,
          9.546325667652964,
          5.2462632712450965,
          5.2462632712450965,
          30.450327213520207,
          30.450327213520207,
          8.320326732170223,
          5.2462632712450965,
          9.546325667652964,
          30.450327213520207,
          5.2462632712450965,
          9.546325667652964,
          30.450327213520207,
          8.320326732170223,
          9.546325667652964,
          5.2462632712450965,
          9.546325667652964,
          9.546325667652964,
          5.2462632712450965,
          5.2462632712450965,
          9.546325667652964,
          9.546325667652964,
          5.2462632712450965,
          5.2462632712450965,
          8.320326732170223,
          5.2462632712450965,
          5.2462632712450965,
          9.546325667652964,
          9.546325667652964,
          9.546325667652964,
          30.450327213520207,
          30.450327213520207,
          5.2462632712450965,
          30.450327213520207,
          5.2462632712450965,
          5.2462632712450965,
          8.320326732170223,
          30.450327213520207,
          8.320326732170223,
          8.320326732170223,
          9.546325667652964,
          30.450327213520207,
          5.2462632712450965,
          9.546325667652964,
          30.450327213520207,
          8.320326732170223,
          8.320326732170223,
          30.450327213520207,
          9.546325667652964,
          30.450327213520207,
          30.450327213520207,
          9.546325667652964,
          8.320326732170223,
          8.320326732170223,
          8.320326732170223,
          5.2462632712450965,
          9.546325667652964,
          9.546325667652964,
          8.320326732170223,
          5.2462632712450965,
          5.2462632712450965,
          30.450327213520207,
          8.320326732170223,
          9.546325667652964,
          5.2462632712450965,
          30.450327213520207,
          9.546325667652964,
          30.450327213520207,
          30.450327213520207,
          5.2462632712450965,
          9.546325667652964,
          8.320326732170223,
          30.450327213520207,
          8.320326732170223,
          8.320326732170223,
          9.546325667652964,
          5.2462632712450965,
          5.2462632712450965,
          9.546325667652964,
          8.320326732170223,
          9.546325667652964,
          30.450327213520207,
          30.450327213520207,
          9.546325667652964,
          8.320326732170223,
          5.2462632712450965,
          8.320326732170223,
          8.320326732170223,
          5.2462632712450965,
          5.2462632712450965,
          9.546325667652964,
          8.320326732170223,
          8.320326732170223,
          8.320326732170223,
          9.546325667652964,
          30.450327213520207,
          5.2462632712450965,
          8.320326732170223,
          9.546325667652964,
          5.2462632712450965,
          30.450327213520207,
          8.320326732170223,
          9.546325667652964,
          8.320326732170223,
          9.546325667652964,
          8.320326732170223,
          8.320326732170223,
          5.2462632712450965,
          30.450327213520207,
          8.320326732170223,
          30.450327213520207,
          5.2462632712450965,
          9.546325667652964,
          8.320326732170223,
          8.320326732170223,
          5.2462632712450965,
          30.450327213520207,
          30.450327213520207,
          9.546325667652964,
          8.320326732170223,
          30.450327213520207,
          30.450327213520207,
          5.2462632712450965,
          8.320326732170223,
          5.2462632712450965,
          8.320326732170223,
          8.320326732170223,
          8.320326732170223,
          9.546325667652964,
          9.546325667652964,
          30.450327213520207,
          5.2462632712450965,
          30.450327213520207,
          8.320326732170223,
          30.450327213520207,
          5.2462632712450965,
          5.2462632712450965,
          8.320326732170223,
          8.320326732170223,
          8.320326732170223,
          5.2462632712450965,
          8.320326732170223,
          8.320326732170223,
          30.450327213520207,
          30.450327213520207,
          9.546325667652964,
          8.320326732170223,
          8.320326732170223,
          8.320326732170223,
          30.450327213520207,
          5.2462632712450965,
          8.320326732170223,
          30.450327213520207,
          30.450327213520207,
          5.2462632712450965,
          8.320326732170223,
          9.546325667652964,
          8.320326732170223,
          5.2462632712450965,
          30.450327213520207,
          5.2462632712450965,
          8.320326732170223,
          5.2462632712450965,
          9.546325667652964,
          9.546325667652964,
          30.450327213520207,
          5.2462632712450965,
          30.450327213520207,
          30.450327213520207,
          8.320326732170223,
          9.546325667652964,
          30.450327213520207,
          5.2462632712450965,
          30.450327213520207,
          5.2462632712450965,
          9.546325667652964,
          9.546325667652964,
          30.450327213520207,
          9.546325667652964,
          8.320326732170223,
          30.450327213520207,
          8.320326732170223,
          9.546325667652964,
          5.2462632712450965,
          9.546325667652964,
          5.2462632712450965,
          30.450327213520207,
          8.320326732170223,
          9.546325667652964,
          30.450327213520207,
          8.320326732170223,
          8.320326732170223,
          5.2462632712450965,
          9.546325667652964,
          5.2462632712450965,
          8.320326732170223,
          8.320326732170223,
          5.2462632712450965,
          8.320326732170223,
          8.320326732170223,
          5.2462632712450965,
          9.546325667652964,
          8.320326732170223,
          5.2462632712450965,
          30.450327213520207,
          8.320326732170223,
          9.546325667652964,
          5.2462632712450965,
          8.320326732170223,
          8.320326732170223,
          9.546325667652964,
          5.2462632712450965,
          5.2462632712450965,
          9.546325667652964,
          9.546325667652964,
          8.320326732170223,
          8.320326732170223,
          9.546325667652964,
          8.320326732170223,
          8.320326732170223,
          8.320326732170223,
          9.546325667652964,
          9.546325667652964,
          9.546325667652964,
          5.2462632712450965,
          30.450327213520207,
          8.320326732170223,
          8.320326732170223,
          9.546325667652964,
          8.320326732170223,
          8.320326732170223,
          5.2462632712450965,
          8.320326732170223,
          5.2462632712450965,
          9.546325667652964,
          5.2462632712450965,
          8.320326732170223,
          5.2462632712450965,
          8.320326732170223,
          9.546325667652964,
          9.546325667652964,
          30.450327213520207,
          30.450327213520207,
          8.320326732170223,
          5.2462632712450965,
          5.2462632712450965,
          8.320326732170223,
          9.546325667652964,
          5.2462632712450965,
          9.546325667652964,
          30.450327213520207,
          8.320326732170223,
          8.320326732170223,
          5.2462632712450965,
          30.450327213520207,
          9.546325667652964,
          30.450327213520207,
          8.320326732170223,
          30.450327213520207,
          9.546325667652964,
          30.450327213520207,
          30.450327213520207,
          30.450327213520207,
          30.450327213520207,
          9.546325667652964,
          5.2462632712450965,
          5.2462632712450965,
          30.450327213520207,
          5.2462632712450965,
          8.320326732170223,
          8.320326732170223,
          5.2462632712450965,
          30.450327213520207,
          30.450327213520207,
          8.320326732170223,
          30.450327213520207,
          30.450327213520207,
          5.2462632712450965,
          30.450327213520207,
          5.2462632712450965,
          30.450327213520207,
          9.546325667652964,
          9.546325667652964,
          9.546325667652964,
          5.2462632712450965,
          5.2462632712450965,
          9.546325667652964,
          8.320326732170223,
          5.2462632712450965,
          30.450327213520207,
          30.450327213520207,
          8.320326732170223,
          8.320326732170223,
          5.2462632712450965,
          30.450327213520207,
          5.2462632712450965,
          5.2462632712450965,
          8.320326732170223,
          8.320326732170223,
          5.2462632712450965,
          5.2462632712450965,
          8.320326732170223,
          30.450327213520207,
          5.2462632712450965,
          5.2462632712450965,
          30.450327213520207,
          9.546325667652964,
          9.546325667652964,
          5.2462632712450965,
          9.546325667652964,
          30.450327213520207,
          9.546325667652964,
          30.450327213520207,
          5.2462632712450965,
          8.320326732170223,
          8.320326732170223,
          8.320326732170223,
          9.546325667652964,
          8.320326732170223,
          8.320326732170223,
          9.546325667652964,
          9.546325667652964,
          8.320326732170223,
          8.320326732170223,
          30.450327213520207,
          30.450327213520207,
          9.546325667652964,
          30.450327213520207,
          5.2462632712450965,
          8.320326732170223,
          8.320326732170223,
          9.546325667652964,
          8.320326732170223,
          9.546325667652964,
          5.2462632712450965,
          5.2462632712450965,
          30.450327213520207,
          8.320326732170223,
          30.450327213520207,
          5.2462632712450965,
          30.450327213520207,
          30.450327213520207,
          9.546325667652964,
          9.546325667652964,
          8.320326732170223,
          5.2462632712450965,
          5.2462632712450965,
          8.320326732170223,
          30.450327213520207,
          5.2462632712450965,
          5.2462632712450965,
          5.2462632712450965,
          5.2462632712450965,
          30.450327213520207,
          9.546325667652964,
          30.450327213520207,
          5.2462632712450965,
          30.450327213520207,
          8.320326732170223,
          9.546325667652964,
          30.450327213520207,
          8.320326732170223,
          5.2462632712450965,
          8.320326732170223,
          9.546325667652964,
          8.320326732170223,
          8.320326732170223,
          30.450327213520207,
          30.450327213520207,
          9.546325667652964,
          9.546325667652964,
          30.450327213520207,
          5.2462632712450965,
          30.450327213520207,
          5.2462632712450965,
          5.2462632712450965,
          5.2462632712450965,
          5.2462632712450965,
          30.450327213520207,
          9.546325667652964,
          9.546325667652964,
          9.546325667652964,
          5.2462632712450965,
          30.450327213520207,
          8.320326732170223,
          30.450327213520207,
          30.450327213520207,
          5.2462632712450965,
          5.2462632712450965,
          9.546325667652964,
          5.2462632712450965,
          8.320326732170223,
          30.450327213520207,
          8.320326732170223,
          5.2462632712450965,
          8.320326732170223,
          5.2462632712450965,
          9.546325667652964,
          5.2462632712450965,
          8.320326732170223,
          30.450327213520207,
          5.2462632712450965,
          5.2462632712450965,
          30.450327213520207,
          8.320326732170223,
          5.2462632712450965,
          8.320326732170223,
          30.450327213520207,
          30.450327213520207,
          8.320326732170223,
          8.320326732170223,
          8.320326732170223,
          30.450327213520207,
          8.320326732170223,
          5.2462632712450965,
          5.2462632712450965,
          9.546325667652964,
          8.320326732170223,
          9.546325667652964,
          8.320326732170223,
          9.546325667652964,
          30.450327213520207,
          9.546325667652964,
          30.450327213520207,
          8.320326732170223,
          9.546325667652964,
          30.450327213520207,
          5.2462632712450965,
          8.320326732170223,
          5.2462632712450965,
          30.450327213520207,
          9.546325667652964,
          9.546325667652964,
          30.450327213520207,
          30.450327213520207,
          5.2462632712450965,
          5.2462632712450965,
          5.2462632712450965,
          5.2462632712450965,
          5.2462632712450965,
          5.2462632712450965,
          30.450327213520207,
          5.2462632712450965,
          8.320326732170223,
          9.546325667652964,
          30.450327213520207,
          5.2462632712450965,
          30.450327213520207,
          8.320326732170223,
          5.2462632712450965,
          5.2462632712450965,
          8.320326732170223,
          30.450327213520207,
          8.320326732170223,
          30.450327213520207,
          5.2462632712450965,
          5.2462632712450965,
          30.450327213520207,
          8.320326732170223,
          30.450327213520207,
          9.546325667652964,
          9.546325667652964,
          30.450327213520207,
          8.320326732170223,
          5.2462632712450965,
          8.320326732170223,
          9.546325667652964,
          9.546325667652964,
          8.320326732170223,
          8.320326732170223,
          8.320326732170223,
          8.320326732170223,
          30.450327213520207,
          5.2462632712450965,
          8.320326732170223,
          9.546325667652964,
          30.450327213520207,
          8.320326732170223,
          5.2462632712450965,
          9.546325667652964,
          9.546325667652964,
          30.450327213520207,
          5.2462632712450965,
          9.546325667652964,
          30.450327213520207,
          5.2462632712450965,
          30.450327213520207,
          9.546325667652964,
          5.2462632712450965,
          9.546325667652964,
          5.2462632712450965,
          9.546325667652964,
          8.320326732170223,
          30.450327213520207,
          5.2462632712450965,
          5.2462632712450965,
          30.450327213520207,
          30.450327213520207,
          9.546325667652964,
          9.546325667652964,
          8.320326732170223,
          8.320326732170223,
          8.320326732170223,
          30.450327213520207,
          30.450327213520207,
          5.2462632712450965,
          9.546325667652964,
          30.450327213520207,
          8.320326732170223,
          5.2462632712450965,
          8.320326732170223,
          30.450327213520207,
          9.546325667652964,
          30.450327213520207,
          30.450327213520207,
          30.450327213520207,
          5.2462632712450965,
          5.2462632712450965,
          8.320326732170223,
          30.450327213520207,
          30.450327213520207,
          5.2462632712450965,
          30.450327213520207,
          8.320326732170223,
          8.320326732170223,
          30.450327213520207,
          9.546325667652964,
          5.2462632712450965,
          9.546325667652964,
          8.320326732170223,
          30.450327213520207,
          8.320326732170223,
          30.450327213520207,
          9.546325667652964,
          9.546325667652964,
          30.450327213520207,
          8.320326732170223,
          8.320326732170223,
          5.2462632712450965,
          9.546325667652964,
          8.320326732170223,
          8.320326732170223,
          9.546325667652964,
          30.450327213520207,
          9.546325667652964,
          5.2462632712450965,
          30.450327213520207,
          30.450327213520207,
          9.546325667652964,
          5.2462632712450965,
          8.320326732170223,
          9.546325667652964,
          30.450327213520207,
          8.320326732170223,
          8.320326732170223,
          9.546325667652964,
          9.546325667652964,
          5.2462632712450965,
          30.450327213520207,
          5.2462632712450965,
          30.450327213520207,
          8.320326732170223,
          8.320326732170223,
          5.2462632712450965,
          5.2462632712450965,
          5.2462632712450965,
          30.450327213520207,
          9.546325667652964,
          5.2462632712450965,
          5.2462632712450965,
          8.320326732170223,
          5.2462632712450965,
          9.546325667652964,
          9.546325667652964,
          8.320326732170223,
          30.450327213520207,
          5.2462632712450965,
          9.546325667652964,
          9.546325667652964,
          8.320326732170223,
          30.450327213520207,
          8.320326732170223,
          30.450327213520207,
          8.320326732170223,
          9.546325667652964,
          5.2462632712450965,
          5.2462632712450965,
          5.2462632712450965,
          9.546325667652964,
          8.320326732170223,
          30.450327213520207,
          8.320326732170223,
          9.546325667652964,
          8.320326732170223,
          5.2462632712450965,
          8.320326732170223,
          5.2462632712450965,
          9.546325667652964,
          30.450327213520207,
          9.546325667652964,
          30.450327213520207,
          8.320326732170223,
          9.546325667652964,
          30.450327213520207,
          30.450327213520207,
          8.320326732170223,
          9.546325667652964,
          5.2462632712450965,
          30.450327213520207,
          8.320326732170223,
          5.2462632712450965,
          5.2462632712450965,
          9.546325667652964,
          8.320326732170223,
          8.320326732170223,
          5.2462632712450965,
          8.320326732170223,
          9.546325667652964,
          30.450327213520207,
          8.320326732170223,
          30.450327213520207,
          9.546325667652964,
          5.2462632712450965,
          5.2462632712450965,
          9.546325667652964,
          9.546325667652964,
          9.546325667652964,
          5.2462632712450965,
          8.320326732170223,
          5.2462632712450965,
          8.320326732170223,
          30.450327213520207,
          8.320326732170223,
          5.2462632712450965,
          5.2462632712450965,
          9.546325667652964,
          9.546325667652964,
          5.2462632712450965,
          30.450327213520207,
          9.546325667652964,
          8.320326732170223,
          9.546325667652964,
          8.320326732170223,
          5.2462632712450965,
          30.450327213520207,
          9.546325667652964,
          8.320326732170223,
          5.2462632712450965,
          5.2462632712450965,
          8.320326732170223,
          5.2462632712450965,
          5.2462632712450965,
          9.546325667652964,
          5.2462632712450965,
          5.2462632712450965,
          8.320326732170223,
          9.546325667652964,
          5.2462632712450965,
          9.546325667652964,
          30.450327213520207,
          9.546325667652964,
          9.546325667652964,
          5.2462632712450965,
          9.546325667652964,
          30.450327213520207,
          5.2462632712450965
         ],
         "xaxis": "x",
         "yaxis": "y"
        }
       ],
       "layout": {
        "barmode": "relative",
        "legend": {
         "tracegroupgap": 0
        },
        "template": {
         "data": {
          "bar": [
           {
            "error_x": {
             "color": "#2a3f5f"
            },
            "error_y": {
             "color": "#2a3f5f"
            },
            "marker": {
             "line": {
              "color": "white",
              "width": 0.5
             },
             "pattern": {
              "fillmode": "overlay",
              "size": 10,
              "solidity": 0.2
             }
            },
            "type": "bar"
           }
          ],
          "barpolar": [
           {
            "marker": {
             "line": {
              "color": "white",
              "width": 0.5
             },
             "pattern": {
              "fillmode": "overlay",
              "size": 10,
              "solidity": 0.2
             }
            },
            "type": "barpolar"
           }
          ],
          "carpet": [
           {
            "aaxis": {
             "endlinecolor": "#2a3f5f",
             "gridcolor": "#C8D4E3",
             "linecolor": "#C8D4E3",
             "minorgridcolor": "#C8D4E3",
             "startlinecolor": "#2a3f5f"
            },
            "baxis": {
             "endlinecolor": "#2a3f5f",
             "gridcolor": "#C8D4E3",
             "linecolor": "#C8D4E3",
             "minorgridcolor": "#C8D4E3",
             "startlinecolor": "#2a3f5f"
            },
            "type": "carpet"
           }
          ],
          "choropleth": [
           {
            "colorbar": {
             "outlinewidth": 0,
             "ticks": ""
            },
            "type": "choropleth"
           }
          ],
          "contour": [
           {
            "colorbar": {
             "outlinewidth": 0,
             "ticks": ""
            },
            "colorscale": [
             [
              0,
              "#0d0887"
             ],
             [
              0.1111111111111111,
              "#46039f"
             ],
             [
              0.2222222222222222,
              "#7201a8"
             ],
             [
              0.3333333333333333,
              "#9c179e"
             ],
             [
              0.4444444444444444,
              "#bd3786"
             ],
             [
              0.5555555555555556,
              "#d8576b"
             ],
             [
              0.6666666666666666,
              "#ed7953"
             ],
             [
              0.7777777777777778,
              "#fb9f3a"
             ],
             [
              0.8888888888888888,
              "#fdca26"
             ],
             [
              1,
              "#f0f921"
             ]
            ],
            "type": "contour"
           }
          ],
          "contourcarpet": [
           {
            "colorbar": {
             "outlinewidth": 0,
             "ticks": ""
            },
            "type": "contourcarpet"
           }
          ],
          "heatmap": [
           {
            "colorbar": {
             "outlinewidth": 0,
             "ticks": ""
            },
            "colorscale": [
             [
              0,
              "#0d0887"
             ],
             [
              0.1111111111111111,
              "#46039f"
             ],
             [
              0.2222222222222222,
              "#7201a8"
             ],
             [
              0.3333333333333333,
              "#9c179e"
             ],
             [
              0.4444444444444444,
              "#bd3786"
             ],
             [
              0.5555555555555556,
              "#d8576b"
             ],
             [
              0.6666666666666666,
              "#ed7953"
             ],
             [
              0.7777777777777778,
              "#fb9f3a"
             ],
             [
              0.8888888888888888,
              "#fdca26"
             ],
             [
              1,
              "#f0f921"
             ]
            ],
            "type": "heatmap"
           }
          ],
          "heatmapgl": [
           {
            "colorbar": {
             "outlinewidth": 0,
             "ticks": ""
            },
            "colorscale": [
             [
              0,
              "#0d0887"
             ],
             [
              0.1111111111111111,
              "#46039f"
             ],
             [
              0.2222222222222222,
              "#7201a8"
             ],
             [
              0.3333333333333333,
              "#9c179e"
             ],
             [
              0.4444444444444444,
              "#bd3786"
             ],
             [
              0.5555555555555556,
              "#d8576b"
             ],
             [
              0.6666666666666666,
              "#ed7953"
             ],
             [
              0.7777777777777778,
              "#fb9f3a"
             ],
             [
              0.8888888888888888,
              "#fdca26"
             ],
             [
              1,
              "#f0f921"
             ]
            ],
            "type": "heatmapgl"
           }
          ],
          "histogram": [
           {
            "marker": {
             "pattern": {
              "fillmode": "overlay",
              "size": 10,
              "solidity": 0.2
             }
            },
            "type": "histogram"
           }
          ],
          "histogram2d": [
           {
            "colorbar": {
             "outlinewidth": 0,
             "ticks": ""
            },
            "colorscale": [
             [
              0,
              "#0d0887"
             ],
             [
              0.1111111111111111,
              "#46039f"
             ],
             [
              0.2222222222222222,
              "#7201a8"
             ],
             [
              0.3333333333333333,
              "#9c179e"
             ],
             [
              0.4444444444444444,
              "#bd3786"
             ],
             [
              0.5555555555555556,
              "#d8576b"
             ],
             [
              0.6666666666666666,
              "#ed7953"
             ],
             [
              0.7777777777777778,
              "#fb9f3a"
             ],
             [
              0.8888888888888888,
              "#fdca26"
             ],
             [
              1,
              "#f0f921"
             ]
            ],
            "type": "histogram2d"
           }
          ],
          "histogram2dcontour": [
           {
            "colorbar": {
             "outlinewidth": 0,
             "ticks": ""
            },
            "colorscale": [
             [
              0,
              "#0d0887"
             ],
             [
              0.1111111111111111,
              "#46039f"
             ],
             [
              0.2222222222222222,
              "#7201a8"
             ],
             [
              0.3333333333333333,
              "#9c179e"
             ],
             [
              0.4444444444444444,
              "#bd3786"
             ],
             [
              0.5555555555555556,
              "#d8576b"
             ],
             [
              0.6666666666666666,
              "#ed7953"
             ],
             [
              0.7777777777777778,
              "#fb9f3a"
             ],
             [
              0.8888888888888888,
              "#fdca26"
             ],
             [
              1,
              "#f0f921"
             ]
            ],
            "type": "histogram2dcontour"
           }
          ],
          "mesh3d": [
           {
            "colorbar": {
             "outlinewidth": 0,
             "ticks": ""
            },
            "type": "mesh3d"
           }
          ],
          "parcoords": [
           {
            "line": {
             "colorbar": {
              "outlinewidth": 0,
              "ticks": ""
             }
            },
            "type": "parcoords"
           }
          ],
          "pie": [
           {
            "automargin": true,
            "type": "pie"
           }
          ],
          "scatter": [
           {
            "fillpattern": {
             "fillmode": "overlay",
             "size": 10,
             "solidity": 0.2
            },
            "type": "scatter"
           }
          ],
          "scatter3d": [
           {
            "line": {
             "colorbar": {
              "outlinewidth": 0,
              "ticks": ""
             }
            },
            "marker": {
             "colorbar": {
              "outlinewidth": 0,
              "ticks": ""
             }
            },
            "type": "scatter3d"
           }
          ],
          "scattercarpet": [
           {
            "marker": {
             "colorbar": {
              "outlinewidth": 0,
              "ticks": ""
             }
            },
            "type": "scattercarpet"
           }
          ],
          "scattergeo": [
           {
            "marker": {
             "colorbar": {
              "outlinewidth": 0,
              "ticks": ""
             }
            },
            "type": "scattergeo"
           }
          ],
          "scattergl": [
           {
            "marker": {
             "colorbar": {
              "outlinewidth": 0,
              "ticks": ""
             }
            },
            "type": "scattergl"
           }
          ],
          "scattermapbox": [
           {
            "marker": {
             "colorbar": {
              "outlinewidth": 0,
              "ticks": ""
             }
            },
            "type": "scattermapbox"
           }
          ],
          "scatterpolar": [
           {
            "marker": {
             "colorbar": {
              "outlinewidth": 0,
              "ticks": ""
             }
            },
            "type": "scatterpolar"
           }
          ],
          "scatterpolargl": [
           {
            "marker": {
             "colorbar": {
              "outlinewidth": 0,
              "ticks": ""
             }
            },
            "type": "scatterpolargl"
           }
          ],
          "scatterternary": [
           {
            "marker": {
             "colorbar": {
              "outlinewidth": 0,
              "ticks": ""
             }
            },
            "type": "scatterternary"
           }
          ],
          "surface": [
           {
            "colorbar": {
             "outlinewidth": 0,
             "ticks": ""
            },
            "colorscale": [
             [
              0,
              "#0d0887"
             ],
             [
              0.1111111111111111,
              "#46039f"
             ],
             [
              0.2222222222222222,
              "#7201a8"
             ],
             [
              0.3333333333333333,
              "#9c179e"
             ],
             [
              0.4444444444444444,
              "#bd3786"
             ],
             [
              0.5555555555555556,
              "#d8576b"
             ],
             [
              0.6666666666666666,
              "#ed7953"
             ],
             [
              0.7777777777777778,
              "#fb9f3a"
             ],
             [
              0.8888888888888888,
              "#fdca26"
             ],
             [
              1,
              "#f0f921"
             ]
            ],
            "type": "surface"
           }
          ],
          "table": [
           {
            "cells": {
             "fill": {
              "color": "#EBF0F8"
             },
             "line": {
              "color": "white"
             }
            },
            "header": {
             "fill": {
              "color": "#C8D4E3"
             },
             "line": {
              "color": "white"
             }
            },
            "type": "table"
           }
          ]
         },
         "layout": {
          "annotationdefaults": {
           "arrowcolor": "#2a3f5f",
           "arrowhead": 0,
           "arrowwidth": 1
          },
          "autotypenumbers": "strict",
          "coloraxis": {
           "colorbar": {
            "outlinewidth": 0,
            "ticks": ""
           }
          },
          "colorscale": {
           "diverging": [
            [
             0,
             "#8e0152"
            ],
            [
             0.1,
             "#c51b7d"
            ],
            [
             0.2,
             "#de77ae"
            ],
            [
             0.3,
             "#f1b6da"
            ],
            [
             0.4,
             "#fde0ef"
            ],
            [
             0.5,
             "#f7f7f7"
            ],
            [
             0.6,
             "#e6f5d0"
            ],
            [
             0.7,
             "#b8e186"
            ],
            [
             0.8,
             "#7fbc41"
            ],
            [
             0.9,
             "#4d9221"
            ],
            [
             1,
             "#276419"
            ]
           ],
           "sequential": [
            [
             0,
             "#0d0887"
            ],
            [
             0.1111111111111111,
             "#46039f"
            ],
            [
             0.2222222222222222,
             "#7201a8"
            ],
            [
             0.3333333333333333,
             "#9c179e"
            ],
            [
             0.4444444444444444,
             "#bd3786"
            ],
            [
             0.5555555555555556,
             "#d8576b"
            ],
            [
             0.6666666666666666,
             "#ed7953"
            ],
            [
             0.7777777777777778,
             "#fb9f3a"
            ],
            [
             0.8888888888888888,
             "#fdca26"
            ],
            [
             1,
             "#f0f921"
            ]
           ],
           "sequentialminus": [
            [
             0,
             "#0d0887"
            ],
            [
             0.1111111111111111,
             "#46039f"
            ],
            [
             0.2222222222222222,
             "#7201a8"
            ],
            [
             0.3333333333333333,
             "#9c179e"
            ],
            [
             0.4444444444444444,
             "#bd3786"
            ],
            [
             0.5555555555555556,
             "#d8576b"
            ],
            [
             0.6666666666666666,
             "#ed7953"
            ],
            [
             0.7777777777777778,
             "#fb9f3a"
            ],
            [
             0.8888888888888888,
             "#fdca26"
            ],
            [
             1,
             "#f0f921"
            ]
           ]
          },
          "colorway": [
           "#636efa",
           "#EF553B",
           "#00cc96",
           "#ab63fa",
           "#FFA15A",
           "#19d3f3",
           "#FF6692",
           "#B6E880",
           "#FF97FF",
           "#FECB52"
          ],
          "font": {
           "color": "#2a3f5f"
          },
          "geo": {
           "bgcolor": "white",
           "lakecolor": "white",
           "landcolor": "white",
           "showlakes": true,
           "showland": true,
           "subunitcolor": "#C8D4E3"
          },
          "hoverlabel": {
           "align": "left"
          },
          "hovermode": "closest",
          "mapbox": {
           "style": "light"
          },
          "paper_bgcolor": "white",
          "plot_bgcolor": "white",
          "polar": {
           "angularaxis": {
            "gridcolor": "#EBF0F8",
            "linecolor": "#EBF0F8",
            "ticks": ""
           },
           "bgcolor": "white",
           "radialaxis": {
            "gridcolor": "#EBF0F8",
            "linecolor": "#EBF0F8",
            "ticks": ""
           }
          },
          "scene": {
           "xaxis": {
            "backgroundcolor": "white",
            "gridcolor": "#DFE8F3",
            "gridwidth": 2,
            "linecolor": "#EBF0F8",
            "showbackground": true,
            "ticks": "",
            "zerolinecolor": "#EBF0F8"
           },
           "yaxis": {
            "backgroundcolor": "white",
            "gridcolor": "#DFE8F3",
            "gridwidth": 2,
            "linecolor": "#EBF0F8",
            "showbackground": true,
            "ticks": "",
            "zerolinecolor": "#EBF0F8"
           },
           "zaxis": {
            "backgroundcolor": "white",
            "gridcolor": "#DFE8F3",
            "gridwidth": 2,
            "linecolor": "#EBF0F8",
            "showbackground": true,
            "ticks": "",
            "zerolinecolor": "#EBF0F8"
           }
          },
          "shapedefaults": {
           "line": {
            "color": "#2a3f5f"
           }
          },
          "ternary": {
           "aaxis": {
            "gridcolor": "#DFE8F3",
            "linecolor": "#A2B1C6",
            "ticks": ""
           },
           "baxis": {
            "gridcolor": "#DFE8F3",
            "linecolor": "#A2B1C6",
            "ticks": ""
           },
           "bgcolor": "white",
           "caxis": {
            "gridcolor": "#DFE8F3",
            "linecolor": "#A2B1C6",
            "ticks": ""
           }
          },
          "title": {
           "x": 0.05
          },
          "xaxis": {
           "automargin": true,
           "gridcolor": "#EBF0F8",
           "linecolor": "#EBF0F8",
           "ticks": "",
           "title": {
            "standoff": 15
           },
           "zerolinecolor": "#EBF0F8",
           "zerolinewidth": 2
          },
          "yaxis": {
           "automargin": true,
           "gridcolor": "#EBF0F8",
           "linecolor": "#EBF0F8",
           "ticks": "",
           "title": {
            "standoff": 15
           },
           "zerolinecolor": "#EBF0F8",
           "zerolinewidth": 2
          }
         }
        },
        "title": {
         "text": "<b>Distribution of Acquisition Cost</b>",
         "x": 0.5,
         "xanchor": "center",
         "yanchor": "top"
        },
        "xaxis": {
         "anchor": "y",
         "domain": [
          0,
          1
         ],
         "title": {
          "text": "cost"
         }
        },
        "yaxis": {
         "anchor": "x",
         "domain": [
          0,
          1
         ],
         "title": {
          "text": "count"
         }
        }
       }
      }
     },
     "metadata": {},
     "output_type": "display_data"
    }
   ],
   "source": [
    "\n",
    "\n",
    "# Create the histogram figure\n",
    "fig = px.histogram(data, x=\"cost\", nbins=10, title='Distribution of Acquisition Cost')\n",
    "\n",
    "# Update layout to center the title and make it bold\n",
    "fig.update_layout(\n",
    "    title={\n",
    "        'text': '<b>Distribution of Acquisition Cost</b>',\n",
    "        'x': 0.5,  # Centered\n",
    "        'xanchor': 'center',  # Anchor to center\n",
    "        'yanchor': 'top'  # Anchor to top\n",
    "    }\n",
    ")\n",
    "\n",
    "# Show the figure\n",
    "fig.show()\n"
   ]
  },
  {
   "cell_type": "markdown",
   "metadata": {},
   "source": [
    "\n",
    "\n",
    "- The majority (about 75%) of acquisition costs fall within the range of $5 to $10.\n",
    "- The remaining 25% of acquisition costs are significantly higher, falling within the range of $30 to $35.\n",
    "\n"
   ]
  },
  {
   "cell_type": "code",
   "execution_count": 16,
   "metadata": {},
   "outputs": [
    {
     "data": {
      "application/vnd.plotly.v1+json": {
       "config": {
        "plotlyServerURL": "https://plot.ly"
       },
       "data": [
        {
         "alignmentgroup": "True",
         "bingroup": "x",
         "hovertemplate": "revenue=%{x}<br>count=%{y}<extra></extra>",
         "legendgroup": "",
         "marker": {
          "color": "#636efa",
          "pattern": {
           "shape": ""
          }
         },
         "name": "",
         "nbinsx": 20,
         "offsetgroup": "",
         "orientation": "v",
         "showlegend": false,
         "type": "histogram",
         "x": [
          4199,
          3410,
          3164,
          1520,
          2419,
          3856,
          1172,
          700,
          2137,
          982,
          3003,
          1455,
          3388,
          3562,
          1147,
          1303,
          1456,
          4549,
          2054,
          4439,
          1976,
          4004,
          2010,
          3932,
          1885,
          4455,
          4681,
          1867,
          4342,
          1385,
          3239,
          1459,
          2021,
          1947,
          2026,
          4776,
          3836,
          3172,
          4846,
          3868,
          3947,
          1118,
          3326,
          1004,
          3596,
          1052,
          3466,
          832,
          1575,
          571,
          1962,
          2573,
          3603,
          2390,
          2949,
          719,
          2754,
          674,
          868,
          1806,
          3472,
          792,
          3890,
          4131,
          4210,
          1568,
          2529,
          2376,
          2952,
          4833,
          2237,
          1361,
          2807,
          2620,
          3525,
          3112,
          1736,
          1812,
          4540,
          4586,
          800,
          2741,
          711,
          3308,
          4312,
          3280,
          3469,
          1487,
          1771,
          1364,
          4302,
          1874,
          3453,
          2933,
          2987,
          3642,
          845,
          3809,
          4947,
          4539,
          1929,
          1174,
          2574,
          1499,
          4420,
          1411,
          3338,
          1681,
          3326,
          558,
          3953,
          3642,
          1694,
          3115,
          4560,
          3442,
          4340,
          1919,
          2695,
          4134,
          3951,
          3474,
          730,
          3376,
          1067,
          2723,
          1272,
          2800,
          2389,
          1988,
          912,
          3149,
          2624,
          1429,
          4615,
          1809,
          1528,
          2486,
          4854,
          1722,
          4756,
          755,
          3066,
          2357,
          3522,
          4301,
          3580,
          1960,
          1777,
          2506,
          4043,
          3966,
          1023,
          4727,
          4647,
          2312,
          2963,
          3803,
          3433,
          2894,
          918,
          1336,
          2688,
          2257,
          3886,
          4732,
          3309,
          1268,
          3677,
          3667,
          2949,
          3842,
          2357,
          4365,
          4235,
          4947,
          2906,
          2823,
          1249,
          3120,
          3886,
          622,
          3902,
          1294,
          2615,
          2715,
          4674,
          3879,
          1719,
          1220,
          3944,
          3267,
          2216,
          3146,
          4728,
          620,
          1838,
          2723,
          3180,
          2692,
          1638,
          3037,
          1357,
          2510,
          3360,
          1865,
          1377,
          1275,
          1054,
          4266,
          2201,
          800,
          791,
          606,
          2574,
          4887,
          3593,
          2979,
          620,
          3602,
          1711,
          3062,
          1760,
          3550,
          2224,
          3306,
          1121,
          4872,
          2457,
          1361,
          1643,
          3069,
          2962,
          4504,
          2058,
          4172,
          3105,
          2980,
          790,
          2213,
          3270,
          1644,
          1218,
          4162,
          1467,
          2079,
          3729,
          4933,
          3428,
          4940,
          1303,
          2736,
          3730,
          4994,
          3754,
          3139,
          2490,
          4212,
          1314,
          4632,
          966,
          2729,
          1150,
          1453,
          4469,
          4742,
          2230,
          4923,
          4290,
          1165,
          2176,
          2116,
          3326,
          2139,
          1237,
          2322,
          1492,
          1568,
          3847,
          4720,
          3377,
          1171,
          4155,
          3175,
          3796,
          2387,
          1502,
          1717,
          4645,
          2086,
          2230,
          3315,
          3397,
          3040,
          3672,
          1979,
          923,
          753,
          1089,
          984,
          2749,
          4559,
          905,
          4517,
          2497,
          3170,
          3226,
          3975,
          3436,
          755,
          3941,
          3780,
          2974,
          849,
          3456,
          2219,
          4505,
          4105,
          4575,
          2164,
          1804,
          3092,
          4653,
          3196,
          2661,
          3527,
          2537,
          2529,
          3872,
          1608,
          2183,
          3288,
          1588,
          4318,
          4956,
          2748,
          500,
          813,
          3903,
          2881,
          3458,
          4731,
          1280,
          838,
          4032,
          999,
          3212,
          2380,
          2155,
          1524,
          1248,
          2973,
          2245,
          2995,
          3613,
          3278,
          1090,
          2593,
          3218,
          2242,
          3984,
          4951,
          4127,
          1194,
          3929,
          2297,
          4923,
          3954,
          1293,
          3573,
          1451,
          3625,
          3806,
          1085,
          1267,
          3875,
          2949,
          2557,
          3463,
          1670,
          1163,
          1939,
          2674,
          1719,
          3822,
          2424,
          2685,
          2891,
          3947,
          2190,
          1694,
          3857,
          2531,
          549,
          4779,
          1016,
          4460,
          534,
          829,
          1859,
          2064,
          3970,
          4257,
          1303,
          3809,
          4944,
          4998,
          1008,
          2650,
          3252,
          4444,
          2028,
          999,
          3444,
          2152,
          941,
          1056,
          1111,
          1335,
          1438,
          1948,
          3315,
          931,
          3444,
          4171,
          3974,
          3667,
          1120,
          4598,
          2415,
          1432,
          4954,
          2824,
          863,
          4091,
          4338,
          3273,
          3742,
          4844,
          2068,
          949,
          3229,
          1770,
          608,
          1523,
          859,
          533,
          2762,
          3639,
          578,
          2589,
          1923,
          3722,
          2052,
          1835,
          2012,
          4493,
          3277,
          3803,
          510,
          2211,
          2648,
          3732,
          516,
          2837,
          2003,
          983,
          4044,
          2624,
          2146,
          1976,
          3673,
          2630,
          2272,
          1659,
          2244,
          4273,
          1571,
          2561,
          3929,
          2440,
          4820,
          2681,
          2609,
          2975,
          3090,
          3543,
          3622,
          4118,
          4511,
          3165,
          2112,
          1850,
          4746,
          956,
          3630,
          4427,
          1597,
          1412,
          3798,
          2759,
          1474,
          1206,
          3174,
          4931,
          3643,
          4603,
          2132,
          2900,
          4496,
          4806,
          3040,
          849,
          871,
          1079,
          3779,
          2721,
          1397,
          3195,
          2923,
          2328,
          1212,
          4098,
          3768,
          4767,
          2525,
          2490,
          1642,
          3683,
          4882,
          3476,
          4342,
          545,
          2472,
          3092,
          4667,
          2054,
          3320,
          1103,
          2816,
          2952,
          4533,
          3032,
          4080,
          3917,
          4568,
          1592,
          3669,
          4330,
          2040,
          4598,
          2128,
          4932,
          2060,
          4625,
          4734,
          2766,
          4055,
          3540,
          1207,
          1758,
          2757,
          1302,
          2410,
          2422,
          3471,
          4866,
          4998,
          3882,
          2291,
          1268,
          545,
          1267,
          4288,
          1398,
          2826,
          749,
          4603,
          1796,
          3988,
          1855,
          765,
          1847,
          1241,
          4624,
          2558,
          3385,
          3508,
          1518,
          3097,
          1027,
          2528,
          3831,
          2821,
          4698,
          3433,
          1576,
          3989,
          3395,
          2745,
          2362,
          2179,
          2014,
          3982,
          3797,
          3509,
          4905,
          2098,
          1140,
          2555,
          3770,
          1899,
          2604,
          3597,
          1014,
          2555,
          3419,
          1093,
          3500,
          1766,
          4600,
          4128,
          3885,
          2580,
          3111,
          3904,
          1008,
          1661,
          3100,
          2276,
          2435,
          1491,
          3367,
          3991,
          1151,
          1313,
          3525,
          4659,
          4693,
          500,
          2807,
          2296,
          1549,
          4735,
          3792,
          4085,
          1370,
          1253,
          4649,
          4910,
          1208,
          3089,
          1071,
          3436,
          3902,
          684,
          676,
          1992,
          1214,
          4171,
          4402,
          2327,
          4056,
          1176,
          2777,
          1244,
          2607,
          1173,
          519,
          4662,
          4332,
          2666,
          2472,
          736,
          4085,
          1903,
          3916,
          933,
          2540,
          1375,
          3862,
          2849,
          3810,
          1704,
          4164,
          2680,
          3036,
          2506,
          1004,
          3512,
          3652,
          1849,
          2198,
          4062,
          684,
          2689,
          2857,
          3363,
          3343,
          1344,
          4289,
          2058,
          4350,
          2898,
          3751,
          3657,
          4228,
          4832,
          1464,
          2333,
          4027,
          702,
          1855,
          2750,
          3959,
          2362,
          4354,
          1053,
          2755,
          2195,
          513,
          1638,
          565,
          3980,
          2384,
          1825,
          4125,
          4237,
          3519,
          1388,
          4750,
          4396,
          4550,
          3233,
          1002,
          1704,
          681,
          3436,
          808,
          3520,
          3554,
          1794,
          1348,
          3708,
          1740,
          2026,
          2257,
          1111,
          4778,
          2428,
          970,
          4268,
          4533,
          3531,
          2007,
          4419,
          4090,
          4659,
          4264,
          2193,
          4468,
          2996,
          3601,
          4647,
          4423,
          3027,
          2970,
          2027,
          4634,
          923,
          2044,
          607,
          4902,
          2953,
          1597,
          4178,
          1190,
          3694,
          4217,
          3818,
          3236,
          3376,
          4306,
          3620,
          3122,
          2583,
          3017,
          4401,
          2336,
          1828,
          3049,
          1492,
          1454,
          4947,
          4509,
          2813,
          3439,
          2101,
          813,
          4820
         ],
         "xaxis": "x",
         "yaxis": "y"
        }
       ],
       "layout": {
        "barmode": "relative",
        "legend": {
         "tracegroupgap": 0
        },
        "template": {
         "data": {
          "bar": [
           {
            "error_x": {
             "color": "#2a3f5f"
            },
            "error_y": {
             "color": "#2a3f5f"
            },
            "marker": {
             "line": {
              "color": "white",
              "width": 0.5
             },
             "pattern": {
              "fillmode": "overlay",
              "size": 10,
              "solidity": 0.2
             }
            },
            "type": "bar"
           }
          ],
          "barpolar": [
           {
            "marker": {
             "line": {
              "color": "white",
              "width": 0.5
             },
             "pattern": {
              "fillmode": "overlay",
              "size": 10,
              "solidity": 0.2
             }
            },
            "type": "barpolar"
           }
          ],
          "carpet": [
           {
            "aaxis": {
             "endlinecolor": "#2a3f5f",
             "gridcolor": "#C8D4E3",
             "linecolor": "#C8D4E3",
             "minorgridcolor": "#C8D4E3",
             "startlinecolor": "#2a3f5f"
            },
            "baxis": {
             "endlinecolor": "#2a3f5f",
             "gridcolor": "#C8D4E3",
             "linecolor": "#C8D4E3",
             "minorgridcolor": "#C8D4E3",
             "startlinecolor": "#2a3f5f"
            },
            "type": "carpet"
           }
          ],
          "choropleth": [
           {
            "colorbar": {
             "outlinewidth": 0,
             "ticks": ""
            },
            "type": "choropleth"
           }
          ],
          "contour": [
           {
            "colorbar": {
             "outlinewidth": 0,
             "ticks": ""
            },
            "colorscale": [
             [
              0,
              "#0d0887"
             ],
             [
              0.1111111111111111,
              "#46039f"
             ],
             [
              0.2222222222222222,
              "#7201a8"
             ],
             [
              0.3333333333333333,
              "#9c179e"
             ],
             [
              0.4444444444444444,
              "#bd3786"
             ],
             [
              0.5555555555555556,
              "#d8576b"
             ],
             [
              0.6666666666666666,
              "#ed7953"
             ],
             [
              0.7777777777777778,
              "#fb9f3a"
             ],
             [
              0.8888888888888888,
              "#fdca26"
             ],
             [
              1,
              "#f0f921"
             ]
            ],
            "type": "contour"
           }
          ],
          "contourcarpet": [
           {
            "colorbar": {
             "outlinewidth": 0,
             "ticks": ""
            },
            "type": "contourcarpet"
           }
          ],
          "heatmap": [
           {
            "colorbar": {
             "outlinewidth": 0,
             "ticks": ""
            },
            "colorscale": [
             [
              0,
              "#0d0887"
             ],
             [
              0.1111111111111111,
              "#46039f"
             ],
             [
              0.2222222222222222,
              "#7201a8"
             ],
             [
              0.3333333333333333,
              "#9c179e"
             ],
             [
              0.4444444444444444,
              "#bd3786"
             ],
             [
              0.5555555555555556,
              "#d8576b"
             ],
             [
              0.6666666666666666,
              "#ed7953"
             ],
             [
              0.7777777777777778,
              "#fb9f3a"
             ],
             [
              0.8888888888888888,
              "#fdca26"
             ],
             [
              1,
              "#f0f921"
             ]
            ],
            "type": "heatmap"
           }
          ],
          "heatmapgl": [
           {
            "colorbar": {
             "outlinewidth": 0,
             "ticks": ""
            },
            "colorscale": [
             [
              0,
              "#0d0887"
             ],
             [
              0.1111111111111111,
              "#46039f"
             ],
             [
              0.2222222222222222,
              "#7201a8"
             ],
             [
              0.3333333333333333,
              "#9c179e"
             ],
             [
              0.4444444444444444,
              "#bd3786"
             ],
             [
              0.5555555555555556,
              "#d8576b"
             ],
             [
              0.6666666666666666,
              "#ed7953"
             ],
             [
              0.7777777777777778,
              "#fb9f3a"
             ],
             [
              0.8888888888888888,
              "#fdca26"
             ],
             [
              1,
              "#f0f921"
             ]
            ],
            "type": "heatmapgl"
           }
          ],
          "histogram": [
           {
            "marker": {
             "pattern": {
              "fillmode": "overlay",
              "size": 10,
              "solidity": 0.2
             }
            },
            "type": "histogram"
           }
          ],
          "histogram2d": [
           {
            "colorbar": {
             "outlinewidth": 0,
             "ticks": ""
            },
            "colorscale": [
             [
              0,
              "#0d0887"
             ],
             [
              0.1111111111111111,
              "#46039f"
             ],
             [
              0.2222222222222222,
              "#7201a8"
             ],
             [
              0.3333333333333333,
              "#9c179e"
             ],
             [
              0.4444444444444444,
              "#bd3786"
             ],
             [
              0.5555555555555556,
              "#d8576b"
             ],
             [
              0.6666666666666666,
              "#ed7953"
             ],
             [
              0.7777777777777778,
              "#fb9f3a"
             ],
             [
              0.8888888888888888,
              "#fdca26"
             ],
             [
              1,
              "#f0f921"
             ]
            ],
            "type": "histogram2d"
           }
          ],
          "histogram2dcontour": [
           {
            "colorbar": {
             "outlinewidth": 0,
             "ticks": ""
            },
            "colorscale": [
             [
              0,
              "#0d0887"
             ],
             [
              0.1111111111111111,
              "#46039f"
             ],
             [
              0.2222222222222222,
              "#7201a8"
             ],
             [
              0.3333333333333333,
              "#9c179e"
             ],
             [
              0.4444444444444444,
              "#bd3786"
             ],
             [
              0.5555555555555556,
              "#d8576b"
             ],
             [
              0.6666666666666666,
              "#ed7953"
             ],
             [
              0.7777777777777778,
              "#fb9f3a"
             ],
             [
              0.8888888888888888,
              "#fdca26"
             ],
             [
              1,
              "#f0f921"
             ]
            ],
            "type": "histogram2dcontour"
           }
          ],
          "mesh3d": [
           {
            "colorbar": {
             "outlinewidth": 0,
             "ticks": ""
            },
            "type": "mesh3d"
           }
          ],
          "parcoords": [
           {
            "line": {
             "colorbar": {
              "outlinewidth": 0,
              "ticks": ""
             }
            },
            "type": "parcoords"
           }
          ],
          "pie": [
           {
            "automargin": true,
            "type": "pie"
           }
          ],
          "scatter": [
           {
            "fillpattern": {
             "fillmode": "overlay",
             "size": 10,
             "solidity": 0.2
            },
            "type": "scatter"
           }
          ],
          "scatter3d": [
           {
            "line": {
             "colorbar": {
              "outlinewidth": 0,
              "ticks": ""
             }
            },
            "marker": {
             "colorbar": {
              "outlinewidth": 0,
              "ticks": ""
             }
            },
            "type": "scatter3d"
           }
          ],
          "scattercarpet": [
           {
            "marker": {
             "colorbar": {
              "outlinewidth": 0,
              "ticks": ""
             }
            },
            "type": "scattercarpet"
           }
          ],
          "scattergeo": [
           {
            "marker": {
             "colorbar": {
              "outlinewidth": 0,
              "ticks": ""
             }
            },
            "type": "scattergeo"
           }
          ],
          "scattergl": [
           {
            "marker": {
             "colorbar": {
              "outlinewidth": 0,
              "ticks": ""
             }
            },
            "type": "scattergl"
           }
          ],
          "scattermapbox": [
           {
            "marker": {
             "colorbar": {
              "outlinewidth": 0,
              "ticks": ""
             }
            },
            "type": "scattermapbox"
           }
          ],
          "scatterpolar": [
           {
            "marker": {
             "colorbar": {
              "outlinewidth": 0,
              "ticks": ""
             }
            },
            "type": "scatterpolar"
           }
          ],
          "scatterpolargl": [
           {
            "marker": {
             "colorbar": {
              "outlinewidth": 0,
              "ticks": ""
             }
            },
            "type": "scatterpolargl"
           }
          ],
          "scatterternary": [
           {
            "marker": {
             "colorbar": {
              "outlinewidth": 0,
              "ticks": ""
             }
            },
            "type": "scatterternary"
           }
          ],
          "surface": [
           {
            "colorbar": {
             "outlinewidth": 0,
             "ticks": ""
            },
            "colorscale": [
             [
              0,
              "#0d0887"
             ],
             [
              0.1111111111111111,
              "#46039f"
             ],
             [
              0.2222222222222222,
              "#7201a8"
             ],
             [
              0.3333333333333333,
              "#9c179e"
             ],
             [
              0.4444444444444444,
              "#bd3786"
             ],
             [
              0.5555555555555556,
              "#d8576b"
             ],
             [
              0.6666666666666666,
              "#ed7953"
             ],
             [
              0.7777777777777778,
              "#fb9f3a"
             ],
             [
              0.8888888888888888,
              "#fdca26"
             ],
             [
              1,
              "#f0f921"
             ]
            ],
            "type": "surface"
           }
          ],
          "table": [
           {
            "cells": {
             "fill": {
              "color": "#EBF0F8"
             },
             "line": {
              "color": "white"
             }
            },
            "header": {
             "fill": {
              "color": "#C8D4E3"
             },
             "line": {
              "color": "white"
             }
            },
            "type": "table"
           }
          ]
         },
         "layout": {
          "annotationdefaults": {
           "arrowcolor": "#2a3f5f",
           "arrowhead": 0,
           "arrowwidth": 1
          },
          "autotypenumbers": "strict",
          "coloraxis": {
           "colorbar": {
            "outlinewidth": 0,
            "ticks": ""
           }
          },
          "colorscale": {
           "diverging": [
            [
             0,
             "#8e0152"
            ],
            [
             0.1,
             "#c51b7d"
            ],
            [
             0.2,
             "#de77ae"
            ],
            [
             0.3,
             "#f1b6da"
            ],
            [
             0.4,
             "#fde0ef"
            ],
            [
             0.5,
             "#f7f7f7"
            ],
            [
             0.6,
             "#e6f5d0"
            ],
            [
             0.7,
             "#b8e186"
            ],
            [
             0.8,
             "#7fbc41"
            ],
            [
             0.9,
             "#4d9221"
            ],
            [
             1,
             "#276419"
            ]
           ],
           "sequential": [
            [
             0,
             "#0d0887"
            ],
            [
             0.1111111111111111,
             "#46039f"
            ],
            [
             0.2222222222222222,
             "#7201a8"
            ],
            [
             0.3333333333333333,
             "#9c179e"
            ],
            [
             0.4444444444444444,
             "#bd3786"
            ],
            [
             0.5555555555555556,
             "#d8576b"
            ],
            [
             0.6666666666666666,
             "#ed7953"
            ],
            [
             0.7777777777777778,
             "#fb9f3a"
            ],
            [
             0.8888888888888888,
             "#fdca26"
            ],
            [
             1,
             "#f0f921"
            ]
           ],
           "sequentialminus": [
            [
             0,
             "#0d0887"
            ],
            [
             0.1111111111111111,
             "#46039f"
            ],
            [
             0.2222222222222222,
             "#7201a8"
            ],
            [
             0.3333333333333333,
             "#9c179e"
            ],
            [
             0.4444444444444444,
             "#bd3786"
            ],
            [
             0.5555555555555556,
             "#d8576b"
            ],
            [
             0.6666666666666666,
             "#ed7953"
            ],
            [
             0.7777777777777778,
             "#fb9f3a"
            ],
            [
             0.8888888888888888,
             "#fdca26"
            ],
            [
             1,
             "#f0f921"
            ]
           ]
          },
          "colorway": [
           "#636efa",
           "#EF553B",
           "#00cc96",
           "#ab63fa",
           "#FFA15A",
           "#19d3f3",
           "#FF6692",
           "#B6E880",
           "#FF97FF",
           "#FECB52"
          ],
          "font": {
           "color": "#2a3f5f"
          },
          "geo": {
           "bgcolor": "white",
           "lakecolor": "white",
           "landcolor": "white",
           "showlakes": true,
           "showland": true,
           "subunitcolor": "#C8D4E3"
          },
          "hoverlabel": {
           "align": "left"
          },
          "hovermode": "closest",
          "mapbox": {
           "style": "light"
          },
          "paper_bgcolor": "white",
          "plot_bgcolor": "white",
          "polar": {
           "angularaxis": {
            "gridcolor": "#EBF0F8",
            "linecolor": "#EBF0F8",
            "ticks": ""
           },
           "bgcolor": "white",
           "radialaxis": {
            "gridcolor": "#EBF0F8",
            "linecolor": "#EBF0F8",
            "ticks": ""
           }
          },
          "scene": {
           "xaxis": {
            "backgroundcolor": "white",
            "gridcolor": "#DFE8F3",
            "gridwidth": 2,
            "linecolor": "#EBF0F8",
            "showbackground": true,
            "ticks": "",
            "zerolinecolor": "#EBF0F8"
           },
           "yaxis": {
            "backgroundcolor": "white",
            "gridcolor": "#DFE8F3",
            "gridwidth": 2,
            "linecolor": "#EBF0F8",
            "showbackground": true,
            "ticks": "",
            "zerolinecolor": "#EBF0F8"
           },
           "zaxis": {
            "backgroundcolor": "white",
            "gridcolor": "#DFE8F3",
            "gridwidth": 2,
            "linecolor": "#EBF0F8",
            "showbackground": true,
            "ticks": "",
            "zerolinecolor": "#EBF0F8"
           }
          },
          "shapedefaults": {
           "line": {
            "color": "#2a3f5f"
           }
          },
          "ternary": {
           "aaxis": {
            "gridcolor": "#DFE8F3",
            "linecolor": "#A2B1C6",
            "ticks": ""
           },
           "baxis": {
            "gridcolor": "#DFE8F3",
            "linecolor": "#A2B1C6",
            "ticks": ""
           },
           "bgcolor": "white",
           "caxis": {
            "gridcolor": "#DFE8F3",
            "linecolor": "#A2B1C6",
            "ticks": ""
           }
          },
          "title": {
           "x": 0.05
          },
          "xaxis": {
           "automargin": true,
           "gridcolor": "#EBF0F8",
           "linecolor": "#EBF0F8",
           "ticks": "",
           "title": {
            "standoff": 15
           },
           "zerolinecolor": "#EBF0F8",
           "zerolinewidth": 2
          },
          "yaxis": {
           "automargin": true,
           "gridcolor": "#EBF0F8",
           "linecolor": "#EBF0F8",
           "ticks": "",
           "title": {
            "standoff": 15
           },
           "zerolinecolor": "#EBF0F8",
           "zerolinewidth": 2
          }
         }
        },
        "title": {
         "text": "<b>Distribution of Revenue</b>",
         "x": 0.5,
         "xanchor": "center",
         "yanchor": "top"
        },
        "xaxis": {
         "anchor": "y",
         "domain": [
          0,
          1
         ],
         "title": {
          "text": "revenue"
         }
        },
        "yaxis": {
         "anchor": "x",
         "domain": [
          0,
          1
         ],
         "title": {
          "text": "count"
         }
        }
       }
      }
     },
     "metadata": {},
     "output_type": "display_data"
    }
   ],
   "source": [
    "\n",
    "\n",
    "fig = px.histogram(data, x=\"revenue\", nbins=20, title='Distribution of Revenue')\n",
    "\n",
    "# Update layout to center the title and make it bold\n",
    "fig.update_layout(\n",
    "    title={\n",
    "        'text': '<b>Distribution of Revenue</b>',\n",
    "        'x': 0.5,  # Centered\n",
    "        'xanchor': 'center',  # Anchor to center\n",
    "        'yanchor': 'top'  # Anchor to top\n",
    "    }\n",
    ")\n",
    "\n",
    "fig.show()\n",
    "\n"
   ]
  },
  {
   "cell_type": "markdown",
   "metadata": {},
   "source": [
    "The revenue data is spread out across $500 to $50,000"
   ]
  },
  {
   "cell_type": "markdown",
   "metadata": {},
   "source": [
    "\n",
    "\n",
    "Now let’s compare the cost of acquisition across different channels and identify the most and least profitable channels:"
   ]
  },
  {
   "cell_type": "code",
   "execution_count": 17,
   "metadata": {},
   "outputs": [
    {
     "data": {
      "application/vnd.plotly.v1+json": {
       "config": {
        "plotlyServerURL": "https://plot.ly"
       },
       "data": [
        {
         "alignmentgroup": "True",
         "hovertemplate": "channel=%{x}<br>cost=%{y}<extra></extra>",
         "legendgroup": "",
         "marker": {
          "color": "#636efa",
          "pattern": {
           "shape": ""
          }
         },
         "name": "",
         "offsetgroup": "",
         "orientation": "v",
         "showlegend": false,
         "textposition": "auto",
         "type": "bar",
         "x": [
          "email marketing",
          "paid advertising",
          "referral",
          "social media"
         ],
         "xaxis": "x",
         "y": [
          5.2462632712450965,
          30.450327213520207,
          8.320326732170223,
          9.546325667652964
         ],
         "yaxis": "y"
        }
       ],
       "layout": {
        "barmode": "relative",
        "legend": {
         "tracegroupgap": 0
        },
        "template": {
         "data": {
          "bar": [
           {
            "error_x": {
             "color": "#2a3f5f"
            },
            "error_y": {
             "color": "#2a3f5f"
            },
            "marker": {
             "line": {
              "color": "white",
              "width": 0.5
             },
             "pattern": {
              "fillmode": "overlay",
              "size": 10,
              "solidity": 0.2
             }
            },
            "type": "bar"
           }
          ],
          "barpolar": [
           {
            "marker": {
             "line": {
              "color": "white",
              "width": 0.5
             },
             "pattern": {
              "fillmode": "overlay",
              "size": 10,
              "solidity": 0.2
             }
            },
            "type": "barpolar"
           }
          ],
          "carpet": [
           {
            "aaxis": {
             "endlinecolor": "#2a3f5f",
             "gridcolor": "#C8D4E3",
             "linecolor": "#C8D4E3",
             "minorgridcolor": "#C8D4E3",
             "startlinecolor": "#2a3f5f"
            },
            "baxis": {
             "endlinecolor": "#2a3f5f",
             "gridcolor": "#C8D4E3",
             "linecolor": "#C8D4E3",
             "minorgridcolor": "#C8D4E3",
             "startlinecolor": "#2a3f5f"
            },
            "type": "carpet"
           }
          ],
          "choropleth": [
           {
            "colorbar": {
             "outlinewidth": 0,
             "ticks": ""
            },
            "type": "choropleth"
           }
          ],
          "contour": [
           {
            "colorbar": {
             "outlinewidth": 0,
             "ticks": ""
            },
            "colorscale": [
             [
              0,
              "#0d0887"
             ],
             [
              0.1111111111111111,
              "#46039f"
             ],
             [
              0.2222222222222222,
              "#7201a8"
             ],
             [
              0.3333333333333333,
              "#9c179e"
             ],
             [
              0.4444444444444444,
              "#bd3786"
             ],
             [
              0.5555555555555556,
              "#d8576b"
             ],
             [
              0.6666666666666666,
              "#ed7953"
             ],
             [
              0.7777777777777778,
              "#fb9f3a"
             ],
             [
              0.8888888888888888,
              "#fdca26"
             ],
             [
              1,
              "#f0f921"
             ]
            ],
            "type": "contour"
           }
          ],
          "contourcarpet": [
           {
            "colorbar": {
             "outlinewidth": 0,
             "ticks": ""
            },
            "type": "contourcarpet"
           }
          ],
          "heatmap": [
           {
            "colorbar": {
             "outlinewidth": 0,
             "ticks": ""
            },
            "colorscale": [
             [
              0,
              "#0d0887"
             ],
             [
              0.1111111111111111,
              "#46039f"
             ],
             [
              0.2222222222222222,
              "#7201a8"
             ],
             [
              0.3333333333333333,
              "#9c179e"
             ],
             [
              0.4444444444444444,
              "#bd3786"
             ],
             [
              0.5555555555555556,
              "#d8576b"
             ],
             [
              0.6666666666666666,
              "#ed7953"
             ],
             [
              0.7777777777777778,
              "#fb9f3a"
             ],
             [
              0.8888888888888888,
              "#fdca26"
             ],
             [
              1,
              "#f0f921"
             ]
            ],
            "type": "heatmap"
           }
          ],
          "heatmapgl": [
           {
            "colorbar": {
             "outlinewidth": 0,
             "ticks": ""
            },
            "colorscale": [
             [
              0,
              "#0d0887"
             ],
             [
              0.1111111111111111,
              "#46039f"
             ],
             [
              0.2222222222222222,
              "#7201a8"
             ],
             [
              0.3333333333333333,
              "#9c179e"
             ],
             [
              0.4444444444444444,
              "#bd3786"
             ],
             [
              0.5555555555555556,
              "#d8576b"
             ],
             [
              0.6666666666666666,
              "#ed7953"
             ],
             [
              0.7777777777777778,
              "#fb9f3a"
             ],
             [
              0.8888888888888888,
              "#fdca26"
             ],
             [
              1,
              "#f0f921"
             ]
            ],
            "type": "heatmapgl"
           }
          ],
          "histogram": [
           {
            "marker": {
             "pattern": {
              "fillmode": "overlay",
              "size": 10,
              "solidity": 0.2
             }
            },
            "type": "histogram"
           }
          ],
          "histogram2d": [
           {
            "colorbar": {
             "outlinewidth": 0,
             "ticks": ""
            },
            "colorscale": [
             [
              0,
              "#0d0887"
             ],
             [
              0.1111111111111111,
              "#46039f"
             ],
             [
              0.2222222222222222,
              "#7201a8"
             ],
             [
              0.3333333333333333,
              "#9c179e"
             ],
             [
              0.4444444444444444,
              "#bd3786"
             ],
             [
              0.5555555555555556,
              "#d8576b"
             ],
             [
              0.6666666666666666,
              "#ed7953"
             ],
             [
              0.7777777777777778,
              "#fb9f3a"
             ],
             [
              0.8888888888888888,
              "#fdca26"
             ],
             [
              1,
              "#f0f921"
             ]
            ],
            "type": "histogram2d"
           }
          ],
          "histogram2dcontour": [
           {
            "colorbar": {
             "outlinewidth": 0,
             "ticks": ""
            },
            "colorscale": [
             [
              0,
              "#0d0887"
             ],
             [
              0.1111111111111111,
              "#46039f"
             ],
             [
              0.2222222222222222,
              "#7201a8"
             ],
             [
              0.3333333333333333,
              "#9c179e"
             ],
             [
              0.4444444444444444,
              "#bd3786"
             ],
             [
              0.5555555555555556,
              "#d8576b"
             ],
             [
              0.6666666666666666,
              "#ed7953"
             ],
             [
              0.7777777777777778,
              "#fb9f3a"
             ],
             [
              0.8888888888888888,
              "#fdca26"
             ],
             [
              1,
              "#f0f921"
             ]
            ],
            "type": "histogram2dcontour"
           }
          ],
          "mesh3d": [
           {
            "colorbar": {
             "outlinewidth": 0,
             "ticks": ""
            },
            "type": "mesh3d"
           }
          ],
          "parcoords": [
           {
            "line": {
             "colorbar": {
              "outlinewidth": 0,
              "ticks": ""
             }
            },
            "type": "parcoords"
           }
          ],
          "pie": [
           {
            "automargin": true,
            "type": "pie"
           }
          ],
          "scatter": [
           {
            "fillpattern": {
             "fillmode": "overlay",
             "size": 10,
             "solidity": 0.2
            },
            "type": "scatter"
           }
          ],
          "scatter3d": [
           {
            "line": {
             "colorbar": {
              "outlinewidth": 0,
              "ticks": ""
             }
            },
            "marker": {
             "colorbar": {
              "outlinewidth": 0,
              "ticks": ""
             }
            },
            "type": "scatter3d"
           }
          ],
          "scattercarpet": [
           {
            "marker": {
             "colorbar": {
              "outlinewidth": 0,
              "ticks": ""
             }
            },
            "type": "scattercarpet"
           }
          ],
          "scattergeo": [
           {
            "marker": {
             "colorbar": {
              "outlinewidth": 0,
              "ticks": ""
             }
            },
            "type": "scattergeo"
           }
          ],
          "scattergl": [
           {
            "marker": {
             "colorbar": {
              "outlinewidth": 0,
              "ticks": ""
             }
            },
            "type": "scattergl"
           }
          ],
          "scattermapbox": [
           {
            "marker": {
             "colorbar": {
              "outlinewidth": 0,
              "ticks": ""
             }
            },
            "type": "scattermapbox"
           }
          ],
          "scatterpolar": [
           {
            "marker": {
             "colorbar": {
              "outlinewidth": 0,
              "ticks": ""
             }
            },
            "type": "scatterpolar"
           }
          ],
          "scatterpolargl": [
           {
            "marker": {
             "colorbar": {
              "outlinewidth": 0,
              "ticks": ""
             }
            },
            "type": "scatterpolargl"
           }
          ],
          "scatterternary": [
           {
            "marker": {
             "colorbar": {
              "outlinewidth": 0,
              "ticks": ""
             }
            },
            "type": "scatterternary"
           }
          ],
          "surface": [
           {
            "colorbar": {
             "outlinewidth": 0,
             "ticks": ""
            },
            "colorscale": [
             [
              0,
              "#0d0887"
             ],
             [
              0.1111111111111111,
              "#46039f"
             ],
             [
              0.2222222222222222,
              "#7201a8"
             ],
             [
              0.3333333333333333,
              "#9c179e"
             ],
             [
              0.4444444444444444,
              "#bd3786"
             ],
             [
              0.5555555555555556,
              "#d8576b"
             ],
             [
              0.6666666666666666,
              "#ed7953"
             ],
             [
              0.7777777777777778,
              "#fb9f3a"
             ],
             [
              0.8888888888888888,
              "#fdca26"
             ],
             [
              1,
              "#f0f921"
             ]
            ],
            "type": "surface"
           }
          ],
          "table": [
           {
            "cells": {
             "fill": {
              "color": "#EBF0F8"
             },
             "line": {
              "color": "white"
             }
            },
            "header": {
             "fill": {
              "color": "#C8D4E3"
             },
             "line": {
              "color": "white"
             }
            },
            "type": "table"
           }
          ]
         },
         "layout": {
          "annotationdefaults": {
           "arrowcolor": "#2a3f5f",
           "arrowhead": 0,
           "arrowwidth": 1
          },
          "autotypenumbers": "strict",
          "coloraxis": {
           "colorbar": {
            "outlinewidth": 0,
            "ticks": ""
           }
          },
          "colorscale": {
           "diverging": [
            [
             0,
             "#8e0152"
            ],
            [
             0.1,
             "#c51b7d"
            ],
            [
             0.2,
             "#de77ae"
            ],
            [
             0.3,
             "#f1b6da"
            ],
            [
             0.4,
             "#fde0ef"
            ],
            [
             0.5,
             "#f7f7f7"
            ],
            [
             0.6,
             "#e6f5d0"
            ],
            [
             0.7,
             "#b8e186"
            ],
            [
             0.8,
             "#7fbc41"
            ],
            [
             0.9,
             "#4d9221"
            ],
            [
             1,
             "#276419"
            ]
           ],
           "sequential": [
            [
             0,
             "#0d0887"
            ],
            [
             0.1111111111111111,
             "#46039f"
            ],
            [
             0.2222222222222222,
             "#7201a8"
            ],
            [
             0.3333333333333333,
             "#9c179e"
            ],
            [
             0.4444444444444444,
             "#bd3786"
            ],
            [
             0.5555555555555556,
             "#d8576b"
            ],
            [
             0.6666666666666666,
             "#ed7953"
            ],
            [
             0.7777777777777778,
             "#fb9f3a"
            ],
            [
             0.8888888888888888,
             "#fdca26"
            ],
            [
             1,
             "#f0f921"
            ]
           ],
           "sequentialminus": [
            [
             0,
             "#0d0887"
            ],
            [
             0.1111111111111111,
             "#46039f"
            ],
            [
             0.2222222222222222,
             "#7201a8"
            ],
            [
             0.3333333333333333,
             "#9c179e"
            ],
            [
             0.4444444444444444,
             "#bd3786"
            ],
            [
             0.5555555555555556,
             "#d8576b"
            ],
            [
             0.6666666666666666,
             "#ed7953"
            ],
            [
             0.7777777777777778,
             "#fb9f3a"
            ],
            [
             0.8888888888888888,
             "#fdca26"
            ],
            [
             1,
             "#f0f921"
            ]
           ]
          },
          "colorway": [
           "#636efa",
           "#EF553B",
           "#00cc96",
           "#ab63fa",
           "#FFA15A",
           "#19d3f3",
           "#FF6692",
           "#B6E880",
           "#FF97FF",
           "#FECB52"
          ],
          "font": {
           "color": "#2a3f5f"
          },
          "geo": {
           "bgcolor": "white",
           "lakecolor": "white",
           "landcolor": "white",
           "showlakes": true,
           "showland": true,
           "subunitcolor": "#C8D4E3"
          },
          "hoverlabel": {
           "align": "left"
          },
          "hovermode": "closest",
          "mapbox": {
           "style": "light"
          },
          "paper_bgcolor": "white",
          "plot_bgcolor": "white",
          "polar": {
           "angularaxis": {
            "gridcolor": "#EBF0F8",
            "linecolor": "#EBF0F8",
            "ticks": ""
           },
           "bgcolor": "white",
           "radialaxis": {
            "gridcolor": "#EBF0F8",
            "linecolor": "#EBF0F8",
            "ticks": ""
           }
          },
          "scene": {
           "xaxis": {
            "backgroundcolor": "white",
            "gridcolor": "#DFE8F3",
            "gridwidth": 2,
            "linecolor": "#EBF0F8",
            "showbackground": true,
            "ticks": "",
            "zerolinecolor": "#EBF0F8"
           },
           "yaxis": {
            "backgroundcolor": "white",
            "gridcolor": "#DFE8F3",
            "gridwidth": 2,
            "linecolor": "#EBF0F8",
            "showbackground": true,
            "ticks": "",
            "zerolinecolor": "#EBF0F8"
           },
           "zaxis": {
            "backgroundcolor": "white",
            "gridcolor": "#DFE8F3",
            "gridwidth": 2,
            "linecolor": "#EBF0F8",
            "showbackground": true,
            "ticks": "",
            "zerolinecolor": "#EBF0F8"
           }
          },
          "shapedefaults": {
           "line": {
            "color": "#2a3f5f"
           }
          },
          "ternary": {
           "aaxis": {
            "gridcolor": "#DFE8F3",
            "linecolor": "#A2B1C6",
            "ticks": ""
           },
           "baxis": {
            "gridcolor": "#DFE8F3",
            "linecolor": "#A2B1C6",
            "ticks": ""
           },
           "bgcolor": "white",
           "caxis": {
            "gridcolor": "#DFE8F3",
            "linecolor": "#A2B1C6",
            "ticks": ""
           }
          },
          "title": {
           "x": 0.05
          },
          "xaxis": {
           "automargin": true,
           "gridcolor": "#EBF0F8",
           "linecolor": "#EBF0F8",
           "ticks": "",
           "title": {
            "standoff": 15
           },
           "zerolinecolor": "#EBF0F8",
           "zerolinewidth": 2
          },
          "yaxis": {
           "automargin": true,
           "gridcolor": "#EBF0F8",
           "linecolor": "#EBF0F8",
           "ticks": "",
           "title": {
            "standoff": 15
           },
           "zerolinecolor": "#EBF0F8",
           "zerolinewidth": 2
          }
         }
        },
        "title": {
         "text": "<b>Customer Acquisition Cost by Channel</b>",
         "x": 0.5,
         "xanchor": "center",
         "yanchor": "top"
        },
        "xaxis": {
         "anchor": "y",
         "domain": [
          0,
          1
         ],
         "title": {
          "text": "channel"
         }
        },
        "yaxis": {
         "anchor": "x",
         "domain": [
          0,
          1
         ],
         "title": {
          "text": "cost"
         }
        }
       }
      }
     },
     "metadata": {},
     "output_type": "display_data"
    }
   ],
   "source": [
    "\n",
    "\n",
    "cost_by_channel = data.groupby('channel')['cost'].mean().reset_index()\n",
    "\n",
    "fig = px.bar(cost_by_channel, \n",
    "             x='channel', \n",
    "             y='cost', \n",
    "             title='Customer Acquisition Cost by Channel')\n",
    "\n",
    "\n",
    "fig.update_layout(\n",
    "    title={\n",
    "        'text': '<b>Customer Acquisition Cost by Channel</b>',\n",
    "        'x': 0.5,  # Centered\n",
    "        'xanchor': 'center',  # Anchor to center\n",
    "        'yanchor': 'top'  # Anchor to top\n",
    "    }\n",
    ")\n",
    "\n",
    "\n",
    "fig.show()\n",
    "\n"
   ]
  },
  {
   "cell_type": "markdown",
   "metadata": {},
   "source": [
    "\n",
    "\n",
    "So paid advertisement is the most expensive channel, and email marketing is the least expensive channel. Now let’s see which channels are most and least effective at converting customers:"
   ]
  },
  {
   "cell_type": "code",
   "execution_count": 18,
   "metadata": {},
   "outputs": [
    {
     "data": {
      "application/vnd.plotly.v1+json": {
       "config": {
        "plotlyServerURL": "https://plot.ly"
       },
       "data": [
        {
         "alignmentgroup": "True",
         "hovertemplate": "channel=%{x}<br>conversion_rate=%{y}<extra></extra>",
         "legendgroup": "",
         "marker": {
          "color": "#636efa",
          "pattern": {
           "shape": ""
          }
         },
         "name": "",
         "offsetgroup": "",
         "orientation": "v",
         "showlegend": false,
         "textposition": "auto",
         "type": "bar",
         "x": [
          "email marketing",
          "paid advertising",
          "referral",
          "social media"
         ],
         "xaxis": "x",
         "y": [
          0.04382222859493809,
          0.0163414915688768,
          0.1231449787166301,
          0.1675922473559195
         ],
         "yaxis": "y"
        }
       ],
       "layout": {
        "barmode": "relative",
        "legend": {
         "tracegroupgap": 0
        },
        "template": {
         "data": {
          "bar": [
           {
            "error_x": {
             "color": "#2a3f5f"
            },
            "error_y": {
             "color": "#2a3f5f"
            },
            "marker": {
             "line": {
              "color": "white",
              "width": 0.5
             },
             "pattern": {
              "fillmode": "overlay",
              "size": 10,
              "solidity": 0.2
             }
            },
            "type": "bar"
           }
          ],
          "barpolar": [
           {
            "marker": {
             "line": {
              "color": "white",
              "width": 0.5
             },
             "pattern": {
              "fillmode": "overlay",
              "size": 10,
              "solidity": 0.2
             }
            },
            "type": "barpolar"
           }
          ],
          "carpet": [
           {
            "aaxis": {
             "endlinecolor": "#2a3f5f",
             "gridcolor": "#C8D4E3",
             "linecolor": "#C8D4E3",
             "minorgridcolor": "#C8D4E3",
             "startlinecolor": "#2a3f5f"
            },
            "baxis": {
             "endlinecolor": "#2a3f5f",
             "gridcolor": "#C8D4E3",
             "linecolor": "#C8D4E3",
             "minorgridcolor": "#C8D4E3",
             "startlinecolor": "#2a3f5f"
            },
            "type": "carpet"
           }
          ],
          "choropleth": [
           {
            "colorbar": {
             "outlinewidth": 0,
             "ticks": ""
            },
            "type": "choropleth"
           }
          ],
          "contour": [
           {
            "colorbar": {
             "outlinewidth": 0,
             "ticks": ""
            },
            "colorscale": [
             [
              0,
              "#0d0887"
             ],
             [
              0.1111111111111111,
              "#46039f"
             ],
             [
              0.2222222222222222,
              "#7201a8"
             ],
             [
              0.3333333333333333,
              "#9c179e"
             ],
             [
              0.4444444444444444,
              "#bd3786"
             ],
             [
              0.5555555555555556,
              "#d8576b"
             ],
             [
              0.6666666666666666,
              "#ed7953"
             ],
             [
              0.7777777777777778,
              "#fb9f3a"
             ],
             [
              0.8888888888888888,
              "#fdca26"
             ],
             [
              1,
              "#f0f921"
             ]
            ],
            "type": "contour"
           }
          ],
          "contourcarpet": [
           {
            "colorbar": {
             "outlinewidth": 0,
             "ticks": ""
            },
            "type": "contourcarpet"
           }
          ],
          "heatmap": [
           {
            "colorbar": {
             "outlinewidth": 0,
             "ticks": ""
            },
            "colorscale": [
             [
              0,
              "#0d0887"
             ],
             [
              0.1111111111111111,
              "#46039f"
             ],
             [
              0.2222222222222222,
              "#7201a8"
             ],
             [
              0.3333333333333333,
              "#9c179e"
             ],
             [
              0.4444444444444444,
              "#bd3786"
             ],
             [
              0.5555555555555556,
              "#d8576b"
             ],
             [
              0.6666666666666666,
              "#ed7953"
             ],
             [
              0.7777777777777778,
              "#fb9f3a"
             ],
             [
              0.8888888888888888,
              "#fdca26"
             ],
             [
              1,
              "#f0f921"
             ]
            ],
            "type": "heatmap"
           }
          ],
          "heatmapgl": [
           {
            "colorbar": {
             "outlinewidth": 0,
             "ticks": ""
            },
            "colorscale": [
             [
              0,
              "#0d0887"
             ],
             [
              0.1111111111111111,
              "#46039f"
             ],
             [
              0.2222222222222222,
              "#7201a8"
             ],
             [
              0.3333333333333333,
              "#9c179e"
             ],
             [
              0.4444444444444444,
              "#bd3786"
             ],
             [
              0.5555555555555556,
              "#d8576b"
             ],
             [
              0.6666666666666666,
              "#ed7953"
             ],
             [
              0.7777777777777778,
              "#fb9f3a"
             ],
             [
              0.8888888888888888,
              "#fdca26"
             ],
             [
              1,
              "#f0f921"
             ]
            ],
            "type": "heatmapgl"
           }
          ],
          "histogram": [
           {
            "marker": {
             "pattern": {
              "fillmode": "overlay",
              "size": 10,
              "solidity": 0.2
             }
            },
            "type": "histogram"
           }
          ],
          "histogram2d": [
           {
            "colorbar": {
             "outlinewidth": 0,
             "ticks": ""
            },
            "colorscale": [
             [
              0,
              "#0d0887"
             ],
             [
              0.1111111111111111,
              "#46039f"
             ],
             [
              0.2222222222222222,
              "#7201a8"
             ],
             [
              0.3333333333333333,
              "#9c179e"
             ],
             [
              0.4444444444444444,
              "#bd3786"
             ],
             [
              0.5555555555555556,
              "#d8576b"
             ],
             [
              0.6666666666666666,
              "#ed7953"
             ],
             [
              0.7777777777777778,
              "#fb9f3a"
             ],
             [
              0.8888888888888888,
              "#fdca26"
             ],
             [
              1,
              "#f0f921"
             ]
            ],
            "type": "histogram2d"
           }
          ],
          "histogram2dcontour": [
           {
            "colorbar": {
             "outlinewidth": 0,
             "ticks": ""
            },
            "colorscale": [
             [
              0,
              "#0d0887"
             ],
             [
              0.1111111111111111,
              "#46039f"
             ],
             [
              0.2222222222222222,
              "#7201a8"
             ],
             [
              0.3333333333333333,
              "#9c179e"
             ],
             [
              0.4444444444444444,
              "#bd3786"
             ],
             [
              0.5555555555555556,
              "#d8576b"
             ],
             [
              0.6666666666666666,
              "#ed7953"
             ],
             [
              0.7777777777777778,
              "#fb9f3a"
             ],
             [
              0.8888888888888888,
              "#fdca26"
             ],
             [
              1,
              "#f0f921"
             ]
            ],
            "type": "histogram2dcontour"
           }
          ],
          "mesh3d": [
           {
            "colorbar": {
             "outlinewidth": 0,
             "ticks": ""
            },
            "type": "mesh3d"
           }
          ],
          "parcoords": [
           {
            "line": {
             "colorbar": {
              "outlinewidth": 0,
              "ticks": ""
             }
            },
            "type": "parcoords"
           }
          ],
          "pie": [
           {
            "automargin": true,
            "type": "pie"
           }
          ],
          "scatter": [
           {
            "fillpattern": {
             "fillmode": "overlay",
             "size": 10,
             "solidity": 0.2
            },
            "type": "scatter"
           }
          ],
          "scatter3d": [
           {
            "line": {
             "colorbar": {
              "outlinewidth": 0,
              "ticks": ""
             }
            },
            "marker": {
             "colorbar": {
              "outlinewidth": 0,
              "ticks": ""
             }
            },
            "type": "scatter3d"
           }
          ],
          "scattercarpet": [
           {
            "marker": {
             "colorbar": {
              "outlinewidth": 0,
              "ticks": ""
             }
            },
            "type": "scattercarpet"
           }
          ],
          "scattergeo": [
           {
            "marker": {
             "colorbar": {
              "outlinewidth": 0,
              "ticks": ""
             }
            },
            "type": "scattergeo"
           }
          ],
          "scattergl": [
           {
            "marker": {
             "colorbar": {
              "outlinewidth": 0,
              "ticks": ""
             }
            },
            "type": "scattergl"
           }
          ],
          "scattermapbox": [
           {
            "marker": {
             "colorbar": {
              "outlinewidth": 0,
              "ticks": ""
             }
            },
            "type": "scattermapbox"
           }
          ],
          "scatterpolar": [
           {
            "marker": {
             "colorbar": {
              "outlinewidth": 0,
              "ticks": ""
             }
            },
            "type": "scatterpolar"
           }
          ],
          "scatterpolargl": [
           {
            "marker": {
             "colorbar": {
              "outlinewidth": 0,
              "ticks": ""
             }
            },
            "type": "scatterpolargl"
           }
          ],
          "scatterternary": [
           {
            "marker": {
             "colorbar": {
              "outlinewidth": 0,
              "ticks": ""
             }
            },
            "type": "scatterternary"
           }
          ],
          "surface": [
           {
            "colorbar": {
             "outlinewidth": 0,
             "ticks": ""
            },
            "colorscale": [
             [
              0,
              "#0d0887"
             ],
             [
              0.1111111111111111,
              "#46039f"
             ],
             [
              0.2222222222222222,
              "#7201a8"
             ],
             [
              0.3333333333333333,
              "#9c179e"
             ],
             [
              0.4444444444444444,
              "#bd3786"
             ],
             [
              0.5555555555555556,
              "#d8576b"
             ],
             [
              0.6666666666666666,
              "#ed7953"
             ],
             [
              0.7777777777777778,
              "#fb9f3a"
             ],
             [
              0.8888888888888888,
              "#fdca26"
             ],
             [
              1,
              "#f0f921"
             ]
            ],
            "type": "surface"
           }
          ],
          "table": [
           {
            "cells": {
             "fill": {
              "color": "#EBF0F8"
             },
             "line": {
              "color": "white"
             }
            },
            "header": {
             "fill": {
              "color": "#C8D4E3"
             },
             "line": {
              "color": "white"
             }
            },
            "type": "table"
           }
          ]
         },
         "layout": {
          "annotationdefaults": {
           "arrowcolor": "#2a3f5f",
           "arrowhead": 0,
           "arrowwidth": 1
          },
          "autotypenumbers": "strict",
          "coloraxis": {
           "colorbar": {
            "outlinewidth": 0,
            "ticks": ""
           }
          },
          "colorscale": {
           "diverging": [
            [
             0,
             "#8e0152"
            ],
            [
             0.1,
             "#c51b7d"
            ],
            [
             0.2,
             "#de77ae"
            ],
            [
             0.3,
             "#f1b6da"
            ],
            [
             0.4,
             "#fde0ef"
            ],
            [
             0.5,
             "#f7f7f7"
            ],
            [
             0.6,
             "#e6f5d0"
            ],
            [
             0.7,
             "#b8e186"
            ],
            [
             0.8,
             "#7fbc41"
            ],
            [
             0.9,
             "#4d9221"
            ],
            [
             1,
             "#276419"
            ]
           ],
           "sequential": [
            [
             0,
             "#0d0887"
            ],
            [
             0.1111111111111111,
             "#46039f"
            ],
            [
             0.2222222222222222,
             "#7201a8"
            ],
            [
             0.3333333333333333,
             "#9c179e"
            ],
            [
             0.4444444444444444,
             "#bd3786"
            ],
            [
             0.5555555555555556,
             "#d8576b"
            ],
            [
             0.6666666666666666,
             "#ed7953"
            ],
            [
             0.7777777777777778,
             "#fb9f3a"
            ],
            [
             0.8888888888888888,
             "#fdca26"
            ],
            [
             1,
             "#f0f921"
            ]
           ],
           "sequentialminus": [
            [
             0,
             "#0d0887"
            ],
            [
             0.1111111111111111,
             "#46039f"
            ],
            [
             0.2222222222222222,
             "#7201a8"
            ],
            [
             0.3333333333333333,
             "#9c179e"
            ],
            [
             0.4444444444444444,
             "#bd3786"
            ],
            [
             0.5555555555555556,
             "#d8576b"
            ],
            [
             0.6666666666666666,
             "#ed7953"
            ],
            [
             0.7777777777777778,
             "#fb9f3a"
            ],
            [
             0.8888888888888888,
             "#fdca26"
            ],
            [
             1,
             "#f0f921"
            ]
           ]
          },
          "colorway": [
           "#636efa",
           "#EF553B",
           "#00cc96",
           "#ab63fa",
           "#FFA15A",
           "#19d3f3",
           "#FF6692",
           "#B6E880",
           "#FF97FF",
           "#FECB52"
          ],
          "font": {
           "color": "#2a3f5f"
          },
          "geo": {
           "bgcolor": "white",
           "lakecolor": "white",
           "landcolor": "white",
           "showlakes": true,
           "showland": true,
           "subunitcolor": "#C8D4E3"
          },
          "hoverlabel": {
           "align": "left"
          },
          "hovermode": "closest",
          "mapbox": {
           "style": "light"
          },
          "paper_bgcolor": "white",
          "plot_bgcolor": "white",
          "polar": {
           "angularaxis": {
            "gridcolor": "#EBF0F8",
            "linecolor": "#EBF0F8",
            "ticks": ""
           },
           "bgcolor": "white",
           "radialaxis": {
            "gridcolor": "#EBF0F8",
            "linecolor": "#EBF0F8",
            "ticks": ""
           }
          },
          "scene": {
           "xaxis": {
            "backgroundcolor": "white",
            "gridcolor": "#DFE8F3",
            "gridwidth": 2,
            "linecolor": "#EBF0F8",
            "showbackground": true,
            "ticks": "",
            "zerolinecolor": "#EBF0F8"
           },
           "yaxis": {
            "backgroundcolor": "white",
            "gridcolor": "#DFE8F3",
            "gridwidth": 2,
            "linecolor": "#EBF0F8",
            "showbackground": true,
            "ticks": "",
            "zerolinecolor": "#EBF0F8"
           },
           "zaxis": {
            "backgroundcolor": "white",
            "gridcolor": "#DFE8F3",
            "gridwidth": 2,
            "linecolor": "#EBF0F8",
            "showbackground": true,
            "ticks": "",
            "zerolinecolor": "#EBF0F8"
           }
          },
          "shapedefaults": {
           "line": {
            "color": "#2a3f5f"
           }
          },
          "ternary": {
           "aaxis": {
            "gridcolor": "#DFE8F3",
            "linecolor": "#A2B1C6",
            "ticks": ""
           },
           "baxis": {
            "gridcolor": "#DFE8F3",
            "linecolor": "#A2B1C6",
            "ticks": ""
           },
           "bgcolor": "white",
           "caxis": {
            "gridcolor": "#DFE8F3",
            "linecolor": "#A2B1C6",
            "ticks": ""
           }
          },
          "title": {
           "x": 0.05
          },
          "xaxis": {
           "automargin": true,
           "gridcolor": "#EBF0F8",
           "linecolor": "#EBF0F8",
           "ticks": "",
           "title": {
            "standoff": 15
           },
           "zerolinecolor": "#EBF0F8",
           "zerolinewidth": 2
          },
          "yaxis": {
           "automargin": true,
           "gridcolor": "#EBF0F8",
           "linecolor": "#EBF0F8",
           "ticks": "",
           "title": {
            "standoff": 15
           },
           "zerolinecolor": "#EBF0F8",
           "zerolinewidth": 2
          }
         }
        },
        "title": {
         "text": "<b>Conversion Rate by Channel</b>",
         "x": 0.5,
         "xanchor": "center",
         "yanchor": "top"
        },
        "xaxis": {
         "anchor": "y",
         "domain": [
          0,
          1
         ],
         "title": {
          "text": "channel"
         }
        },
        "yaxis": {
         "anchor": "x",
         "domain": [
          0,
          1
         ],
         "title": {
          "text": "conversion_rate"
         }
        }
       }
      }
     },
     "metadata": {},
     "output_type": "display_data"
    }
   ],
   "source": [
    "\n",
    "\n",
    "conversion_by_channel = data.groupby('channel')['conversion_rate'].mean().reset_index()\n",
    "\n",
    "fig = px.bar(conversion_by_channel, x='channel', \n",
    "             y='conversion_rate', \n",
    "             title='Conversion Rate by Channel')\n",
    "\n",
    "fig.update_layout(\n",
    "    title={\n",
    "        'text': '<b>Conversion Rate by Channel</b>',\n",
    "        'x': 0.5,  # Centered\n",
    "        'xanchor': 'center',  # Anchor to center\n",
    "        'yanchor': 'top'  # Anchor to top\n",
    "    }\n",
    ")\n",
    "\n",
    "fig.show()\n",
    "\n"
   ]
  },
  {
   "cell_type": "markdown",
   "metadata": {},
   "source": [
    "Social media is the most effective channel for converting customers, while paid advertising is the least effective. Now let’s calculate the total revenue by channel and have a look at the most and least profitable channels in terms of generating revenue:"
   ]
  },
  {
   "cell_type": "code",
   "execution_count": 20,
   "metadata": {},
   "outputs": [
    {
     "data": {
      "application/vnd.plotly.v1+json": {
       "config": {
        "plotlyServerURL": "https://plot.ly"
       },
       "data": [
        {
         "domain": {
          "x": [
           0,
           1
          ],
          "y": [
           0,
           1
          ]
         },
         "hole": 0.5,
         "hovertemplate": "channel=%{label}<br>revenue=%{value}<extra></extra>",
         "labels": [
          "email marketing",
          "paid advertising",
          "referral",
          "social media"
         ],
         "legendgroup": "",
         "name": "",
         "showlegend": true,
         "type": "pie",
         "values": [
          604706,
          548396,
          569552,
          492667
         ]
        }
       ],
       "layout": {
        "legend": {
         "tracegroupgap": 0
        },
        "piecolorway": [
         "rgb(102,194,165)",
         "rgb(252,141,98)",
         "rgb(141,160,203)",
         "rgb(231,138,195)",
         "rgb(166,216,84)",
         "rgb(255,217,47)",
         "rgb(229,196,148)",
         "rgb(179,179,179)"
        ],
        "template": {
         "data": {
          "bar": [
           {
            "error_x": {
             "color": "#2a3f5f"
            },
            "error_y": {
             "color": "#2a3f5f"
            },
            "marker": {
             "line": {
              "color": "white",
              "width": 0.5
             },
             "pattern": {
              "fillmode": "overlay",
              "size": 10,
              "solidity": 0.2
             }
            },
            "type": "bar"
           }
          ],
          "barpolar": [
           {
            "marker": {
             "line": {
              "color": "white",
              "width": 0.5
             },
             "pattern": {
              "fillmode": "overlay",
              "size": 10,
              "solidity": 0.2
             }
            },
            "type": "barpolar"
           }
          ],
          "carpet": [
           {
            "aaxis": {
             "endlinecolor": "#2a3f5f",
             "gridcolor": "#C8D4E3",
             "linecolor": "#C8D4E3",
             "minorgridcolor": "#C8D4E3",
             "startlinecolor": "#2a3f5f"
            },
            "baxis": {
             "endlinecolor": "#2a3f5f",
             "gridcolor": "#C8D4E3",
             "linecolor": "#C8D4E3",
             "minorgridcolor": "#C8D4E3",
             "startlinecolor": "#2a3f5f"
            },
            "type": "carpet"
           }
          ],
          "choropleth": [
           {
            "colorbar": {
             "outlinewidth": 0,
             "ticks": ""
            },
            "type": "choropleth"
           }
          ],
          "contour": [
           {
            "colorbar": {
             "outlinewidth": 0,
             "ticks": ""
            },
            "colorscale": [
             [
              0,
              "#0d0887"
             ],
             [
              0.1111111111111111,
              "#46039f"
             ],
             [
              0.2222222222222222,
              "#7201a8"
             ],
             [
              0.3333333333333333,
              "#9c179e"
             ],
             [
              0.4444444444444444,
              "#bd3786"
             ],
             [
              0.5555555555555556,
              "#d8576b"
             ],
             [
              0.6666666666666666,
              "#ed7953"
             ],
             [
              0.7777777777777778,
              "#fb9f3a"
             ],
             [
              0.8888888888888888,
              "#fdca26"
             ],
             [
              1,
              "#f0f921"
             ]
            ],
            "type": "contour"
           }
          ],
          "contourcarpet": [
           {
            "colorbar": {
             "outlinewidth": 0,
             "ticks": ""
            },
            "type": "contourcarpet"
           }
          ],
          "heatmap": [
           {
            "colorbar": {
             "outlinewidth": 0,
             "ticks": ""
            },
            "colorscale": [
             [
              0,
              "#0d0887"
             ],
             [
              0.1111111111111111,
              "#46039f"
             ],
             [
              0.2222222222222222,
              "#7201a8"
             ],
             [
              0.3333333333333333,
              "#9c179e"
             ],
             [
              0.4444444444444444,
              "#bd3786"
             ],
             [
              0.5555555555555556,
              "#d8576b"
             ],
             [
              0.6666666666666666,
              "#ed7953"
             ],
             [
              0.7777777777777778,
              "#fb9f3a"
             ],
             [
              0.8888888888888888,
              "#fdca26"
             ],
             [
              1,
              "#f0f921"
             ]
            ],
            "type": "heatmap"
           }
          ],
          "heatmapgl": [
           {
            "colorbar": {
             "outlinewidth": 0,
             "ticks": ""
            },
            "colorscale": [
             [
              0,
              "#0d0887"
             ],
             [
              0.1111111111111111,
              "#46039f"
             ],
             [
              0.2222222222222222,
              "#7201a8"
             ],
             [
              0.3333333333333333,
              "#9c179e"
             ],
             [
              0.4444444444444444,
              "#bd3786"
             ],
             [
              0.5555555555555556,
              "#d8576b"
             ],
             [
              0.6666666666666666,
              "#ed7953"
             ],
             [
              0.7777777777777778,
              "#fb9f3a"
             ],
             [
              0.8888888888888888,
              "#fdca26"
             ],
             [
              1,
              "#f0f921"
             ]
            ],
            "type": "heatmapgl"
           }
          ],
          "histogram": [
           {
            "marker": {
             "pattern": {
              "fillmode": "overlay",
              "size": 10,
              "solidity": 0.2
             }
            },
            "type": "histogram"
           }
          ],
          "histogram2d": [
           {
            "colorbar": {
             "outlinewidth": 0,
             "ticks": ""
            },
            "colorscale": [
             [
              0,
              "#0d0887"
             ],
             [
              0.1111111111111111,
              "#46039f"
             ],
             [
              0.2222222222222222,
              "#7201a8"
             ],
             [
              0.3333333333333333,
              "#9c179e"
             ],
             [
              0.4444444444444444,
              "#bd3786"
             ],
             [
              0.5555555555555556,
              "#d8576b"
             ],
             [
              0.6666666666666666,
              "#ed7953"
             ],
             [
              0.7777777777777778,
              "#fb9f3a"
             ],
             [
              0.8888888888888888,
              "#fdca26"
             ],
             [
              1,
              "#f0f921"
             ]
            ],
            "type": "histogram2d"
           }
          ],
          "histogram2dcontour": [
           {
            "colorbar": {
             "outlinewidth": 0,
             "ticks": ""
            },
            "colorscale": [
             [
              0,
              "#0d0887"
             ],
             [
              0.1111111111111111,
              "#46039f"
             ],
             [
              0.2222222222222222,
              "#7201a8"
             ],
             [
              0.3333333333333333,
              "#9c179e"
             ],
             [
              0.4444444444444444,
              "#bd3786"
             ],
             [
              0.5555555555555556,
              "#d8576b"
             ],
             [
              0.6666666666666666,
              "#ed7953"
             ],
             [
              0.7777777777777778,
              "#fb9f3a"
             ],
             [
              0.8888888888888888,
              "#fdca26"
             ],
             [
              1,
              "#f0f921"
             ]
            ],
            "type": "histogram2dcontour"
           }
          ],
          "mesh3d": [
           {
            "colorbar": {
             "outlinewidth": 0,
             "ticks": ""
            },
            "type": "mesh3d"
           }
          ],
          "parcoords": [
           {
            "line": {
             "colorbar": {
              "outlinewidth": 0,
              "ticks": ""
             }
            },
            "type": "parcoords"
           }
          ],
          "pie": [
           {
            "automargin": true,
            "type": "pie"
           }
          ],
          "scatter": [
           {
            "fillpattern": {
             "fillmode": "overlay",
             "size": 10,
             "solidity": 0.2
            },
            "type": "scatter"
           }
          ],
          "scatter3d": [
           {
            "line": {
             "colorbar": {
              "outlinewidth": 0,
              "ticks": ""
             }
            },
            "marker": {
             "colorbar": {
              "outlinewidth": 0,
              "ticks": ""
             }
            },
            "type": "scatter3d"
           }
          ],
          "scattercarpet": [
           {
            "marker": {
             "colorbar": {
              "outlinewidth": 0,
              "ticks": ""
             }
            },
            "type": "scattercarpet"
           }
          ],
          "scattergeo": [
           {
            "marker": {
             "colorbar": {
              "outlinewidth": 0,
              "ticks": ""
             }
            },
            "type": "scattergeo"
           }
          ],
          "scattergl": [
           {
            "marker": {
             "colorbar": {
              "outlinewidth": 0,
              "ticks": ""
             }
            },
            "type": "scattergl"
           }
          ],
          "scattermapbox": [
           {
            "marker": {
             "colorbar": {
              "outlinewidth": 0,
              "ticks": ""
             }
            },
            "type": "scattermapbox"
           }
          ],
          "scatterpolar": [
           {
            "marker": {
             "colorbar": {
              "outlinewidth": 0,
              "ticks": ""
             }
            },
            "type": "scatterpolar"
           }
          ],
          "scatterpolargl": [
           {
            "marker": {
             "colorbar": {
              "outlinewidth": 0,
              "ticks": ""
             }
            },
            "type": "scatterpolargl"
           }
          ],
          "scatterternary": [
           {
            "marker": {
             "colorbar": {
              "outlinewidth": 0,
              "ticks": ""
             }
            },
            "type": "scatterternary"
           }
          ],
          "surface": [
           {
            "colorbar": {
             "outlinewidth": 0,
             "ticks": ""
            },
            "colorscale": [
             [
              0,
              "#0d0887"
             ],
             [
              0.1111111111111111,
              "#46039f"
             ],
             [
              0.2222222222222222,
              "#7201a8"
             ],
             [
              0.3333333333333333,
              "#9c179e"
             ],
             [
              0.4444444444444444,
              "#bd3786"
             ],
             [
              0.5555555555555556,
              "#d8576b"
             ],
             [
              0.6666666666666666,
              "#ed7953"
             ],
             [
              0.7777777777777778,
              "#fb9f3a"
             ],
             [
              0.8888888888888888,
              "#fdca26"
             ],
             [
              1,
              "#f0f921"
             ]
            ],
            "type": "surface"
           }
          ],
          "table": [
           {
            "cells": {
             "fill": {
              "color": "#EBF0F8"
             },
             "line": {
              "color": "white"
             }
            },
            "header": {
             "fill": {
              "color": "#C8D4E3"
             },
             "line": {
              "color": "white"
             }
            },
            "type": "table"
           }
          ]
         },
         "layout": {
          "annotationdefaults": {
           "arrowcolor": "#2a3f5f",
           "arrowhead": 0,
           "arrowwidth": 1
          },
          "autotypenumbers": "strict",
          "coloraxis": {
           "colorbar": {
            "outlinewidth": 0,
            "ticks": ""
           }
          },
          "colorscale": {
           "diverging": [
            [
             0,
             "#8e0152"
            ],
            [
             0.1,
             "#c51b7d"
            ],
            [
             0.2,
             "#de77ae"
            ],
            [
             0.3,
             "#f1b6da"
            ],
            [
             0.4,
             "#fde0ef"
            ],
            [
             0.5,
             "#f7f7f7"
            ],
            [
             0.6,
             "#e6f5d0"
            ],
            [
             0.7,
             "#b8e186"
            ],
            [
             0.8,
             "#7fbc41"
            ],
            [
             0.9,
             "#4d9221"
            ],
            [
             1,
             "#276419"
            ]
           ],
           "sequential": [
            [
             0,
             "#0d0887"
            ],
            [
             0.1111111111111111,
             "#46039f"
            ],
            [
             0.2222222222222222,
             "#7201a8"
            ],
            [
             0.3333333333333333,
             "#9c179e"
            ],
            [
             0.4444444444444444,
             "#bd3786"
            ],
            [
             0.5555555555555556,
             "#d8576b"
            ],
            [
             0.6666666666666666,
             "#ed7953"
            ],
            [
             0.7777777777777778,
             "#fb9f3a"
            ],
            [
             0.8888888888888888,
             "#fdca26"
            ],
            [
             1,
             "#f0f921"
            ]
           ],
           "sequentialminus": [
            [
             0,
             "#0d0887"
            ],
            [
             0.1111111111111111,
             "#46039f"
            ],
            [
             0.2222222222222222,
             "#7201a8"
            ],
            [
             0.3333333333333333,
             "#9c179e"
            ],
            [
             0.4444444444444444,
             "#bd3786"
            ],
            [
             0.5555555555555556,
             "#d8576b"
            ],
            [
             0.6666666666666666,
             "#ed7953"
            ],
            [
             0.7777777777777778,
             "#fb9f3a"
            ],
            [
             0.8888888888888888,
             "#fdca26"
            ],
            [
             1,
             "#f0f921"
            ]
           ]
          },
          "colorway": [
           "#636efa",
           "#EF553B",
           "#00cc96",
           "#ab63fa",
           "#FFA15A",
           "#19d3f3",
           "#FF6692",
           "#B6E880",
           "#FF97FF",
           "#FECB52"
          ],
          "font": {
           "color": "#2a3f5f"
          },
          "geo": {
           "bgcolor": "white",
           "lakecolor": "white",
           "landcolor": "white",
           "showlakes": true,
           "showland": true,
           "subunitcolor": "#C8D4E3"
          },
          "hoverlabel": {
           "align": "left"
          },
          "hovermode": "closest",
          "mapbox": {
           "style": "light"
          },
          "paper_bgcolor": "white",
          "plot_bgcolor": "white",
          "polar": {
           "angularaxis": {
            "gridcolor": "#EBF0F8",
            "linecolor": "#EBF0F8",
            "ticks": ""
           },
           "bgcolor": "white",
           "radialaxis": {
            "gridcolor": "#EBF0F8",
            "linecolor": "#EBF0F8",
            "ticks": ""
           }
          },
          "scene": {
           "xaxis": {
            "backgroundcolor": "white",
            "gridcolor": "#DFE8F3",
            "gridwidth": 2,
            "linecolor": "#EBF0F8",
            "showbackground": true,
            "ticks": "",
            "zerolinecolor": "#EBF0F8"
           },
           "yaxis": {
            "backgroundcolor": "white",
            "gridcolor": "#DFE8F3",
            "gridwidth": 2,
            "linecolor": "#EBF0F8",
            "showbackground": true,
            "ticks": "",
            "zerolinecolor": "#EBF0F8"
           },
           "zaxis": {
            "backgroundcolor": "white",
            "gridcolor": "#DFE8F3",
            "gridwidth": 2,
            "linecolor": "#EBF0F8",
            "showbackground": true,
            "ticks": "",
            "zerolinecolor": "#EBF0F8"
           }
          },
          "shapedefaults": {
           "line": {
            "color": "#2a3f5f"
           }
          },
          "ternary": {
           "aaxis": {
            "gridcolor": "#DFE8F3",
            "linecolor": "#A2B1C6",
            "ticks": ""
           },
           "baxis": {
            "gridcolor": "#DFE8F3",
            "linecolor": "#A2B1C6",
            "ticks": ""
           },
           "bgcolor": "white",
           "caxis": {
            "gridcolor": "#DFE8F3",
            "linecolor": "#A2B1C6",
            "ticks": ""
           }
          },
          "title": {
           "x": 0.05
          },
          "xaxis": {
           "automargin": true,
           "gridcolor": "#EBF0F8",
           "linecolor": "#EBF0F8",
           "ticks": "",
           "title": {
            "standoff": 15
           },
           "zerolinecolor": "#EBF0F8",
           "zerolinewidth": 2
          },
          "yaxis": {
           "automargin": true,
           "gridcolor": "#EBF0F8",
           "linecolor": "#EBF0F8",
           "ticks": "",
           "title": {
            "standoff": 15
           },
           "zerolinecolor": "#EBF0F8",
           "zerolinewidth": 2
          }
         }
        },
        "title": {
         "text": "<b>Total Revenue by Channel</b>"
        }
       }
      }
     },
     "metadata": {},
     "output_type": "display_data"
    }
   ],
   "source": [
    "\n",
    "\n",
    "revenue_by_channel = data.groupby('channel')['revenue'].sum().reset_index()\n",
    "\n",
    "fig = px.pie(revenue_by_channel, \n",
    "             values='revenue', \n",
    "             names='channel', \n",
    "             title='Total Revenue by Channel', \n",
    "             hole=0.5, color_discrete_sequence=px.colors.qualitative.Set2)\n",
    "\n",
    "\n",
    "fig.update_layout(\n",
    "    title={\n",
    "        'text': '<b>Total Revenue by Channel</b>',\n",
    "        \n",
    "    }\n",
    ")\n",
    "\n",
    "fig.show()\n"
   ]
  },
  {
   "cell_type": "markdown",
   "metadata": {},
   "source": [
    "\n",
    "So email marketing is the most profitable channel in terms of generating revenue. But there’s not a huge difference between the percentages of revenue generation from all the channels to call any channel the least profitable channel.\n",
    "\n",
    "Now let’s calculate the return on investment (ROI) for each channel:"
   ]
  },
  {
   "cell_type": "code",
   "execution_count": 21,
   "metadata": {},
   "outputs": [
    {
     "data": {
      "application/vnd.plotly.v1+json": {
       "config": {
        "plotlyServerURL": "https://plot.ly"
       },
       "data": [
        {
         "alignmentgroup": "True",
         "hovertemplate": "channel=%{x}<br>roi=%{y}<extra></extra>",
         "legendgroup": "",
         "marker": {
          "color": "#636efa",
          "pattern": {
           "shape": ""
          }
         },
         "name": "",
         "offsetgroup": "",
         "orientation": "v",
         "showlegend": false,
         "textposition": "auto",
         "type": "bar",
         "x": [
          "email marketing",
          "paid advertising",
          "referral",
          "social media"
         ],
         "xaxis": "x",
         "y": [
          538.6174551038089,
          92.83261507612053,
          330.6912127091906,
          278.96228953182145
         ],
         "yaxis": "y"
        }
       ],
       "layout": {
        "barmode": "relative",
        "legend": {
         "tracegroupgap": 0
        },
        "template": {
         "data": {
          "bar": [
           {
            "error_x": {
             "color": "#2a3f5f"
            },
            "error_y": {
             "color": "#2a3f5f"
            },
            "marker": {
             "line": {
              "color": "white",
              "width": 0.5
             },
             "pattern": {
              "fillmode": "overlay",
              "size": 10,
              "solidity": 0.2
             }
            },
            "type": "bar"
           }
          ],
          "barpolar": [
           {
            "marker": {
             "line": {
              "color": "white",
              "width": 0.5
             },
             "pattern": {
              "fillmode": "overlay",
              "size": 10,
              "solidity": 0.2
             }
            },
            "type": "barpolar"
           }
          ],
          "carpet": [
           {
            "aaxis": {
             "endlinecolor": "#2a3f5f",
             "gridcolor": "#C8D4E3",
             "linecolor": "#C8D4E3",
             "minorgridcolor": "#C8D4E3",
             "startlinecolor": "#2a3f5f"
            },
            "baxis": {
             "endlinecolor": "#2a3f5f",
             "gridcolor": "#C8D4E3",
             "linecolor": "#C8D4E3",
             "minorgridcolor": "#C8D4E3",
             "startlinecolor": "#2a3f5f"
            },
            "type": "carpet"
           }
          ],
          "choropleth": [
           {
            "colorbar": {
             "outlinewidth": 0,
             "ticks": ""
            },
            "type": "choropleth"
           }
          ],
          "contour": [
           {
            "colorbar": {
             "outlinewidth": 0,
             "ticks": ""
            },
            "colorscale": [
             [
              0,
              "#0d0887"
             ],
             [
              0.1111111111111111,
              "#46039f"
             ],
             [
              0.2222222222222222,
              "#7201a8"
             ],
             [
              0.3333333333333333,
              "#9c179e"
             ],
             [
              0.4444444444444444,
              "#bd3786"
             ],
             [
              0.5555555555555556,
              "#d8576b"
             ],
             [
              0.6666666666666666,
              "#ed7953"
             ],
             [
              0.7777777777777778,
              "#fb9f3a"
             ],
             [
              0.8888888888888888,
              "#fdca26"
             ],
             [
              1,
              "#f0f921"
             ]
            ],
            "type": "contour"
           }
          ],
          "contourcarpet": [
           {
            "colorbar": {
             "outlinewidth": 0,
             "ticks": ""
            },
            "type": "contourcarpet"
           }
          ],
          "heatmap": [
           {
            "colorbar": {
             "outlinewidth": 0,
             "ticks": ""
            },
            "colorscale": [
             [
              0,
              "#0d0887"
             ],
             [
              0.1111111111111111,
              "#46039f"
             ],
             [
              0.2222222222222222,
              "#7201a8"
             ],
             [
              0.3333333333333333,
              "#9c179e"
             ],
             [
              0.4444444444444444,
              "#bd3786"
             ],
             [
              0.5555555555555556,
              "#d8576b"
             ],
             [
              0.6666666666666666,
              "#ed7953"
             ],
             [
              0.7777777777777778,
              "#fb9f3a"
             ],
             [
              0.8888888888888888,
              "#fdca26"
             ],
             [
              1,
              "#f0f921"
             ]
            ],
            "type": "heatmap"
           }
          ],
          "heatmapgl": [
           {
            "colorbar": {
             "outlinewidth": 0,
             "ticks": ""
            },
            "colorscale": [
             [
              0,
              "#0d0887"
             ],
             [
              0.1111111111111111,
              "#46039f"
             ],
             [
              0.2222222222222222,
              "#7201a8"
             ],
             [
              0.3333333333333333,
              "#9c179e"
             ],
             [
              0.4444444444444444,
              "#bd3786"
             ],
             [
              0.5555555555555556,
              "#d8576b"
             ],
             [
              0.6666666666666666,
              "#ed7953"
             ],
             [
              0.7777777777777778,
              "#fb9f3a"
             ],
             [
              0.8888888888888888,
              "#fdca26"
             ],
             [
              1,
              "#f0f921"
             ]
            ],
            "type": "heatmapgl"
           }
          ],
          "histogram": [
           {
            "marker": {
             "pattern": {
              "fillmode": "overlay",
              "size": 10,
              "solidity": 0.2
             }
            },
            "type": "histogram"
           }
          ],
          "histogram2d": [
           {
            "colorbar": {
             "outlinewidth": 0,
             "ticks": ""
            },
            "colorscale": [
             [
              0,
              "#0d0887"
             ],
             [
              0.1111111111111111,
              "#46039f"
             ],
             [
              0.2222222222222222,
              "#7201a8"
             ],
             [
              0.3333333333333333,
              "#9c179e"
             ],
             [
              0.4444444444444444,
              "#bd3786"
             ],
             [
              0.5555555555555556,
              "#d8576b"
             ],
             [
              0.6666666666666666,
              "#ed7953"
             ],
             [
              0.7777777777777778,
              "#fb9f3a"
             ],
             [
              0.8888888888888888,
              "#fdca26"
             ],
             [
              1,
              "#f0f921"
             ]
            ],
            "type": "histogram2d"
           }
          ],
          "histogram2dcontour": [
           {
            "colorbar": {
             "outlinewidth": 0,
             "ticks": ""
            },
            "colorscale": [
             [
              0,
              "#0d0887"
             ],
             [
              0.1111111111111111,
              "#46039f"
             ],
             [
              0.2222222222222222,
              "#7201a8"
             ],
             [
              0.3333333333333333,
              "#9c179e"
             ],
             [
              0.4444444444444444,
              "#bd3786"
             ],
             [
              0.5555555555555556,
              "#d8576b"
             ],
             [
              0.6666666666666666,
              "#ed7953"
             ],
             [
              0.7777777777777778,
              "#fb9f3a"
             ],
             [
              0.8888888888888888,
              "#fdca26"
             ],
             [
              1,
              "#f0f921"
             ]
            ],
            "type": "histogram2dcontour"
           }
          ],
          "mesh3d": [
           {
            "colorbar": {
             "outlinewidth": 0,
             "ticks": ""
            },
            "type": "mesh3d"
           }
          ],
          "parcoords": [
           {
            "line": {
             "colorbar": {
              "outlinewidth": 0,
              "ticks": ""
             }
            },
            "type": "parcoords"
           }
          ],
          "pie": [
           {
            "automargin": true,
            "type": "pie"
           }
          ],
          "scatter": [
           {
            "fillpattern": {
             "fillmode": "overlay",
             "size": 10,
             "solidity": 0.2
            },
            "type": "scatter"
           }
          ],
          "scatter3d": [
           {
            "line": {
             "colorbar": {
              "outlinewidth": 0,
              "ticks": ""
             }
            },
            "marker": {
             "colorbar": {
              "outlinewidth": 0,
              "ticks": ""
             }
            },
            "type": "scatter3d"
           }
          ],
          "scattercarpet": [
           {
            "marker": {
             "colorbar": {
              "outlinewidth": 0,
              "ticks": ""
             }
            },
            "type": "scattercarpet"
           }
          ],
          "scattergeo": [
           {
            "marker": {
             "colorbar": {
              "outlinewidth": 0,
              "ticks": ""
             }
            },
            "type": "scattergeo"
           }
          ],
          "scattergl": [
           {
            "marker": {
             "colorbar": {
              "outlinewidth": 0,
              "ticks": ""
             }
            },
            "type": "scattergl"
           }
          ],
          "scattermapbox": [
           {
            "marker": {
             "colorbar": {
              "outlinewidth": 0,
              "ticks": ""
             }
            },
            "type": "scattermapbox"
           }
          ],
          "scatterpolar": [
           {
            "marker": {
             "colorbar": {
              "outlinewidth": 0,
              "ticks": ""
             }
            },
            "type": "scatterpolar"
           }
          ],
          "scatterpolargl": [
           {
            "marker": {
             "colorbar": {
              "outlinewidth": 0,
              "ticks": ""
             }
            },
            "type": "scatterpolargl"
           }
          ],
          "scatterternary": [
           {
            "marker": {
             "colorbar": {
              "outlinewidth": 0,
              "ticks": ""
             }
            },
            "type": "scatterternary"
           }
          ],
          "surface": [
           {
            "colorbar": {
             "outlinewidth": 0,
             "ticks": ""
            },
            "colorscale": [
             [
              0,
              "#0d0887"
             ],
             [
              0.1111111111111111,
              "#46039f"
             ],
             [
              0.2222222222222222,
              "#7201a8"
             ],
             [
              0.3333333333333333,
              "#9c179e"
             ],
             [
              0.4444444444444444,
              "#bd3786"
             ],
             [
              0.5555555555555556,
              "#d8576b"
             ],
             [
              0.6666666666666666,
              "#ed7953"
             ],
             [
              0.7777777777777778,
              "#fb9f3a"
             ],
             [
              0.8888888888888888,
              "#fdca26"
             ],
             [
              1,
              "#f0f921"
             ]
            ],
            "type": "surface"
           }
          ],
          "table": [
           {
            "cells": {
             "fill": {
              "color": "#EBF0F8"
             },
             "line": {
              "color": "white"
             }
            },
            "header": {
             "fill": {
              "color": "#C8D4E3"
             },
             "line": {
              "color": "white"
             }
            },
            "type": "table"
           }
          ]
         },
         "layout": {
          "annotationdefaults": {
           "arrowcolor": "#2a3f5f",
           "arrowhead": 0,
           "arrowwidth": 1
          },
          "autotypenumbers": "strict",
          "coloraxis": {
           "colorbar": {
            "outlinewidth": 0,
            "ticks": ""
           }
          },
          "colorscale": {
           "diverging": [
            [
             0,
             "#8e0152"
            ],
            [
             0.1,
             "#c51b7d"
            ],
            [
             0.2,
             "#de77ae"
            ],
            [
             0.3,
             "#f1b6da"
            ],
            [
             0.4,
             "#fde0ef"
            ],
            [
             0.5,
             "#f7f7f7"
            ],
            [
             0.6,
             "#e6f5d0"
            ],
            [
             0.7,
             "#b8e186"
            ],
            [
             0.8,
             "#7fbc41"
            ],
            [
             0.9,
             "#4d9221"
            ],
            [
             1,
             "#276419"
            ]
           ],
           "sequential": [
            [
             0,
             "#0d0887"
            ],
            [
             0.1111111111111111,
             "#46039f"
            ],
            [
             0.2222222222222222,
             "#7201a8"
            ],
            [
             0.3333333333333333,
             "#9c179e"
            ],
            [
             0.4444444444444444,
             "#bd3786"
            ],
            [
             0.5555555555555556,
             "#d8576b"
            ],
            [
             0.6666666666666666,
             "#ed7953"
            ],
            [
             0.7777777777777778,
             "#fb9f3a"
            ],
            [
             0.8888888888888888,
             "#fdca26"
            ],
            [
             1,
             "#f0f921"
            ]
           ],
           "sequentialminus": [
            [
             0,
             "#0d0887"
            ],
            [
             0.1111111111111111,
             "#46039f"
            ],
            [
             0.2222222222222222,
             "#7201a8"
            ],
            [
             0.3333333333333333,
             "#9c179e"
            ],
            [
             0.4444444444444444,
             "#bd3786"
            ],
            [
             0.5555555555555556,
             "#d8576b"
            ],
            [
             0.6666666666666666,
             "#ed7953"
            ],
            [
             0.7777777777777778,
             "#fb9f3a"
            ],
            [
             0.8888888888888888,
             "#fdca26"
            ],
            [
             1,
             "#f0f921"
            ]
           ]
          },
          "colorway": [
           "#636efa",
           "#EF553B",
           "#00cc96",
           "#ab63fa",
           "#FFA15A",
           "#19d3f3",
           "#FF6692",
           "#B6E880",
           "#FF97FF",
           "#FECB52"
          ],
          "font": {
           "color": "#2a3f5f"
          },
          "geo": {
           "bgcolor": "white",
           "lakecolor": "white",
           "landcolor": "white",
           "showlakes": true,
           "showland": true,
           "subunitcolor": "#C8D4E3"
          },
          "hoverlabel": {
           "align": "left"
          },
          "hovermode": "closest",
          "mapbox": {
           "style": "light"
          },
          "paper_bgcolor": "white",
          "plot_bgcolor": "white",
          "polar": {
           "angularaxis": {
            "gridcolor": "#EBF0F8",
            "linecolor": "#EBF0F8",
            "ticks": ""
           },
           "bgcolor": "white",
           "radialaxis": {
            "gridcolor": "#EBF0F8",
            "linecolor": "#EBF0F8",
            "ticks": ""
           }
          },
          "scene": {
           "xaxis": {
            "backgroundcolor": "white",
            "gridcolor": "#DFE8F3",
            "gridwidth": 2,
            "linecolor": "#EBF0F8",
            "showbackground": true,
            "ticks": "",
            "zerolinecolor": "#EBF0F8"
           },
           "yaxis": {
            "backgroundcolor": "white",
            "gridcolor": "#DFE8F3",
            "gridwidth": 2,
            "linecolor": "#EBF0F8",
            "showbackground": true,
            "ticks": "",
            "zerolinecolor": "#EBF0F8"
           },
           "zaxis": {
            "backgroundcolor": "white",
            "gridcolor": "#DFE8F3",
            "gridwidth": 2,
            "linecolor": "#EBF0F8",
            "showbackground": true,
            "ticks": "",
            "zerolinecolor": "#EBF0F8"
           }
          },
          "shapedefaults": {
           "line": {
            "color": "#2a3f5f"
           }
          },
          "ternary": {
           "aaxis": {
            "gridcolor": "#DFE8F3",
            "linecolor": "#A2B1C6",
            "ticks": ""
           },
           "baxis": {
            "gridcolor": "#DFE8F3",
            "linecolor": "#A2B1C6",
            "ticks": ""
           },
           "bgcolor": "white",
           "caxis": {
            "gridcolor": "#DFE8F3",
            "linecolor": "#A2B1C6",
            "ticks": ""
           }
          },
          "title": {
           "x": 0.05
          },
          "xaxis": {
           "automargin": true,
           "gridcolor": "#EBF0F8",
           "linecolor": "#EBF0F8",
           "ticks": "",
           "title": {
            "standoff": 15
           },
           "zerolinecolor": "#EBF0F8",
           "zerolinewidth": 2
          },
          "yaxis": {
           "automargin": true,
           "gridcolor": "#EBF0F8",
           "linecolor": "#EBF0F8",
           "ticks": "",
           "title": {
            "standoff": 15
           },
           "zerolinecolor": "#EBF0F8",
           "zerolinewidth": 2
          }
         }
        },
        "title": {
         "text": "<b>Return on Investment (ROI) by Channel</b>",
         "x": 0.5,
         "xanchor": "center",
         "yanchor": "top"
        },
        "xaxis": {
         "anchor": "y",
         "domain": [
          0,
          1
         ],
         "title": {
          "text": "channel"
         }
        },
        "yaxis": {
         "anchor": "x",
         "domain": [
          0,
          1
         ],
         "title": {
          "text": "roi"
         }
        }
       }
      }
     },
     "metadata": {},
     "output_type": "display_data"
    }
   ],
   "source": [
    "\n",
    "\n",
    "data['roi'] = data['revenue'] / data['cost']\n",
    "roi_by_channel = data.groupby('channel')['roi'].mean().reset_index()\n",
    "\n",
    "\n",
    "fig = px.bar(roi_by_channel, \n",
    "             x='channel', \n",
    "             y='roi', title='Return on Investment (ROI) by Channel')\n",
    "\n",
    "\n",
    "fig.update_layout(\n",
    "    title={\n",
    "        'text': '<b>Return on Investment (ROI) by Channel</b>',\n",
    "        'x': 0.5,  # Centered\n",
    "        'xanchor': 'center',  # Anchor to center\n",
    "        'yanchor': 'top'  # Anchor to top\n",
    "    }\n",
    ")\n",
    "\n",
    "\n",
    "fig.show()\n",
    "\n"
   ]
  },
  {
   "cell_type": "markdown",
   "metadata": {},
   "source": [
    "\n",
    "\n",
    "The ROI from email marketing is way higher than all other channels, while the ROI from paid advertising is the lowest. Now let’s calculate the customer lifetime value from each channel. Based on the data we have, we can use the formula mentioned below to calculate CLTV:"
   ]
  },
  {
   "cell_type": "markdown",
   "metadata": {},
   "source": [
    "**CLTV = (revenue – cost) * conversion_rate / cost**"
   ]
  },
  {
   "cell_type": "code",
   "execution_count": 22,
   "metadata": {},
   "outputs": [
    {
     "data": {
      "application/vnd.plotly.v1+json": {
       "config": {
        "plotlyServerURL": "https://plot.ly"
       },
       "data": [
        {
         "alignmentgroup": "True",
         "hovertemplate": "channel=%{x}<br>cltv=%{y}<extra></extra>",
         "legendgroup": "email marketing",
         "marker": {
          "color": "#636efa",
          "pattern": {
           "shape": ""
          }
         },
         "name": "email marketing",
         "offsetgroup": "email marketing",
         "orientation": "v",
         "showlegend": false,
         "textposition": "auto",
         "type": "bar",
         "x": [
          "email marketing"
         ],
         "xaxis": "x",
         "y": [
          23.55959501418798
         ],
         "yaxis": "y"
        },
        {
         "alignmentgroup": "True",
         "hovertemplate": "channel=%{x}<br>cltv=%{y}<extra></extra>",
         "legendgroup": "paid advertising",
         "marker": {
          "color": "#EF553B",
          "pattern": {
           "shape": ""
          }
         },
         "name": "paid advertising",
         "offsetgroup": "paid advertising",
         "orientation": "v",
         "showlegend": false,
         "textposition": "auto",
         "type": "bar",
         "x": [
          "paid advertising"
         ],
         "xaxis": "x",
         "y": [
          1.5006819050143323
         ],
         "yaxis": "y"
        },
        {
         "alignmentgroup": "True",
         "hovertemplate": "channel=%{x}<br>cltv=%{y}<extra></extra>",
         "legendgroup": "referral",
         "marker": {
          "color": "#00cc96",
          "pattern": {
           "shape": ""
          }
         },
         "name": "referral",
         "offsetgroup": "referral",
         "orientation": "v",
         "showlegend": false,
         "textposition": "auto",
         "type": "bar",
         "x": [
          "referral"
         ],
         "xaxis": "x",
         "y": [
          40.59981737213324
         ],
         "yaxis": "y"
        },
        {
         "alignmentgroup": "True",
         "hovertemplate": "channel=%{x}<br>cltv=%{y}<extra></extra>",
         "legendgroup": "social media",
         "marker": {
          "color": "#ab63fa",
          "pattern": {
           "shape": ""
          }
         },
         "name": "social media",
         "offsetgroup": "social media",
         "orientation": "v",
         "showlegend": false,
         "textposition": "auto",
         "type": "bar",
         "x": [
          "social media"
         ],
         "xaxis": "x",
         "y": [
          46.584324782834734
         ],
         "yaxis": "y"
        }
       ],
       "layout": {
        "barmode": "relative",
        "legend": {
         "title": {
          "text": "channel"
         },
         "tracegroupgap": 0
        },
        "template": {
         "data": {
          "bar": [
           {
            "error_x": {
             "color": "#2a3f5f"
            },
            "error_y": {
             "color": "#2a3f5f"
            },
            "marker": {
             "line": {
              "color": "white",
              "width": 0.5
             },
             "pattern": {
              "fillmode": "overlay",
              "size": 10,
              "solidity": 0.2
             }
            },
            "type": "bar"
           }
          ],
          "barpolar": [
           {
            "marker": {
             "line": {
              "color": "white",
              "width": 0.5
             },
             "pattern": {
              "fillmode": "overlay",
              "size": 10,
              "solidity": 0.2
             }
            },
            "type": "barpolar"
           }
          ],
          "carpet": [
           {
            "aaxis": {
             "endlinecolor": "#2a3f5f",
             "gridcolor": "#C8D4E3",
             "linecolor": "#C8D4E3",
             "minorgridcolor": "#C8D4E3",
             "startlinecolor": "#2a3f5f"
            },
            "baxis": {
             "endlinecolor": "#2a3f5f",
             "gridcolor": "#C8D4E3",
             "linecolor": "#C8D4E3",
             "minorgridcolor": "#C8D4E3",
             "startlinecolor": "#2a3f5f"
            },
            "type": "carpet"
           }
          ],
          "choropleth": [
           {
            "colorbar": {
             "outlinewidth": 0,
             "ticks": ""
            },
            "type": "choropleth"
           }
          ],
          "contour": [
           {
            "colorbar": {
             "outlinewidth": 0,
             "ticks": ""
            },
            "colorscale": [
             [
              0,
              "#0d0887"
             ],
             [
              0.1111111111111111,
              "#46039f"
             ],
             [
              0.2222222222222222,
              "#7201a8"
             ],
             [
              0.3333333333333333,
              "#9c179e"
             ],
             [
              0.4444444444444444,
              "#bd3786"
             ],
             [
              0.5555555555555556,
              "#d8576b"
             ],
             [
              0.6666666666666666,
              "#ed7953"
             ],
             [
              0.7777777777777778,
              "#fb9f3a"
             ],
             [
              0.8888888888888888,
              "#fdca26"
             ],
             [
              1,
              "#f0f921"
             ]
            ],
            "type": "contour"
           }
          ],
          "contourcarpet": [
           {
            "colorbar": {
             "outlinewidth": 0,
             "ticks": ""
            },
            "type": "contourcarpet"
           }
          ],
          "heatmap": [
           {
            "colorbar": {
             "outlinewidth": 0,
             "ticks": ""
            },
            "colorscale": [
             [
              0,
              "#0d0887"
             ],
             [
              0.1111111111111111,
              "#46039f"
             ],
             [
              0.2222222222222222,
              "#7201a8"
             ],
             [
              0.3333333333333333,
              "#9c179e"
             ],
             [
              0.4444444444444444,
              "#bd3786"
             ],
             [
              0.5555555555555556,
              "#d8576b"
             ],
             [
              0.6666666666666666,
              "#ed7953"
             ],
             [
              0.7777777777777778,
              "#fb9f3a"
             ],
             [
              0.8888888888888888,
              "#fdca26"
             ],
             [
              1,
              "#f0f921"
             ]
            ],
            "type": "heatmap"
           }
          ],
          "heatmapgl": [
           {
            "colorbar": {
             "outlinewidth": 0,
             "ticks": ""
            },
            "colorscale": [
             [
              0,
              "#0d0887"
             ],
             [
              0.1111111111111111,
              "#46039f"
             ],
             [
              0.2222222222222222,
              "#7201a8"
             ],
             [
              0.3333333333333333,
              "#9c179e"
             ],
             [
              0.4444444444444444,
              "#bd3786"
             ],
             [
              0.5555555555555556,
              "#d8576b"
             ],
             [
              0.6666666666666666,
              "#ed7953"
             ],
             [
              0.7777777777777778,
              "#fb9f3a"
             ],
             [
              0.8888888888888888,
              "#fdca26"
             ],
             [
              1,
              "#f0f921"
             ]
            ],
            "type": "heatmapgl"
           }
          ],
          "histogram": [
           {
            "marker": {
             "pattern": {
              "fillmode": "overlay",
              "size": 10,
              "solidity": 0.2
             }
            },
            "type": "histogram"
           }
          ],
          "histogram2d": [
           {
            "colorbar": {
             "outlinewidth": 0,
             "ticks": ""
            },
            "colorscale": [
             [
              0,
              "#0d0887"
             ],
             [
              0.1111111111111111,
              "#46039f"
             ],
             [
              0.2222222222222222,
              "#7201a8"
             ],
             [
              0.3333333333333333,
              "#9c179e"
             ],
             [
              0.4444444444444444,
              "#bd3786"
             ],
             [
              0.5555555555555556,
              "#d8576b"
             ],
             [
              0.6666666666666666,
              "#ed7953"
             ],
             [
              0.7777777777777778,
              "#fb9f3a"
             ],
             [
              0.8888888888888888,
              "#fdca26"
             ],
             [
              1,
              "#f0f921"
             ]
            ],
            "type": "histogram2d"
           }
          ],
          "histogram2dcontour": [
           {
            "colorbar": {
             "outlinewidth": 0,
             "ticks": ""
            },
            "colorscale": [
             [
              0,
              "#0d0887"
             ],
             [
              0.1111111111111111,
              "#46039f"
             ],
             [
              0.2222222222222222,
              "#7201a8"
             ],
             [
              0.3333333333333333,
              "#9c179e"
             ],
             [
              0.4444444444444444,
              "#bd3786"
             ],
             [
              0.5555555555555556,
              "#d8576b"
             ],
             [
              0.6666666666666666,
              "#ed7953"
             ],
             [
              0.7777777777777778,
              "#fb9f3a"
             ],
             [
              0.8888888888888888,
              "#fdca26"
             ],
             [
              1,
              "#f0f921"
             ]
            ],
            "type": "histogram2dcontour"
           }
          ],
          "mesh3d": [
           {
            "colorbar": {
             "outlinewidth": 0,
             "ticks": ""
            },
            "type": "mesh3d"
           }
          ],
          "parcoords": [
           {
            "line": {
             "colorbar": {
              "outlinewidth": 0,
              "ticks": ""
             }
            },
            "type": "parcoords"
           }
          ],
          "pie": [
           {
            "automargin": true,
            "type": "pie"
           }
          ],
          "scatter": [
           {
            "fillpattern": {
             "fillmode": "overlay",
             "size": 10,
             "solidity": 0.2
            },
            "type": "scatter"
           }
          ],
          "scatter3d": [
           {
            "line": {
             "colorbar": {
              "outlinewidth": 0,
              "ticks": ""
             }
            },
            "marker": {
             "colorbar": {
              "outlinewidth": 0,
              "ticks": ""
             }
            },
            "type": "scatter3d"
           }
          ],
          "scattercarpet": [
           {
            "marker": {
             "colorbar": {
              "outlinewidth": 0,
              "ticks": ""
             }
            },
            "type": "scattercarpet"
           }
          ],
          "scattergeo": [
           {
            "marker": {
             "colorbar": {
              "outlinewidth": 0,
              "ticks": ""
             }
            },
            "type": "scattergeo"
           }
          ],
          "scattergl": [
           {
            "marker": {
             "colorbar": {
              "outlinewidth": 0,
              "ticks": ""
             }
            },
            "type": "scattergl"
           }
          ],
          "scattermapbox": [
           {
            "marker": {
             "colorbar": {
              "outlinewidth": 0,
              "ticks": ""
             }
            },
            "type": "scattermapbox"
           }
          ],
          "scatterpolar": [
           {
            "marker": {
             "colorbar": {
              "outlinewidth": 0,
              "ticks": ""
             }
            },
            "type": "scatterpolar"
           }
          ],
          "scatterpolargl": [
           {
            "marker": {
             "colorbar": {
              "outlinewidth": 0,
              "ticks": ""
             }
            },
            "type": "scatterpolargl"
           }
          ],
          "scatterternary": [
           {
            "marker": {
             "colorbar": {
              "outlinewidth": 0,
              "ticks": ""
             }
            },
            "type": "scatterternary"
           }
          ],
          "surface": [
           {
            "colorbar": {
             "outlinewidth": 0,
             "ticks": ""
            },
            "colorscale": [
             [
              0,
              "#0d0887"
             ],
             [
              0.1111111111111111,
              "#46039f"
             ],
             [
              0.2222222222222222,
              "#7201a8"
             ],
             [
              0.3333333333333333,
              "#9c179e"
             ],
             [
              0.4444444444444444,
              "#bd3786"
             ],
             [
              0.5555555555555556,
              "#d8576b"
             ],
             [
              0.6666666666666666,
              "#ed7953"
             ],
             [
              0.7777777777777778,
              "#fb9f3a"
             ],
             [
              0.8888888888888888,
              "#fdca26"
             ],
             [
              1,
              "#f0f921"
             ]
            ],
            "type": "surface"
           }
          ],
          "table": [
           {
            "cells": {
             "fill": {
              "color": "#EBF0F8"
             },
             "line": {
              "color": "white"
             }
            },
            "header": {
             "fill": {
              "color": "#C8D4E3"
             },
             "line": {
              "color": "white"
             }
            },
            "type": "table"
           }
          ]
         },
         "layout": {
          "annotationdefaults": {
           "arrowcolor": "#2a3f5f",
           "arrowhead": 0,
           "arrowwidth": 1
          },
          "autotypenumbers": "strict",
          "coloraxis": {
           "colorbar": {
            "outlinewidth": 0,
            "ticks": ""
           }
          },
          "colorscale": {
           "diverging": [
            [
             0,
             "#8e0152"
            ],
            [
             0.1,
             "#c51b7d"
            ],
            [
             0.2,
             "#de77ae"
            ],
            [
             0.3,
             "#f1b6da"
            ],
            [
             0.4,
             "#fde0ef"
            ],
            [
             0.5,
             "#f7f7f7"
            ],
            [
             0.6,
             "#e6f5d0"
            ],
            [
             0.7,
             "#b8e186"
            ],
            [
             0.8,
             "#7fbc41"
            ],
            [
             0.9,
             "#4d9221"
            ],
            [
             1,
             "#276419"
            ]
           ],
           "sequential": [
            [
             0,
             "#0d0887"
            ],
            [
             0.1111111111111111,
             "#46039f"
            ],
            [
             0.2222222222222222,
             "#7201a8"
            ],
            [
             0.3333333333333333,
             "#9c179e"
            ],
            [
             0.4444444444444444,
             "#bd3786"
            ],
            [
             0.5555555555555556,
             "#d8576b"
            ],
            [
             0.6666666666666666,
             "#ed7953"
            ],
            [
             0.7777777777777778,
             "#fb9f3a"
            ],
            [
             0.8888888888888888,
             "#fdca26"
            ],
            [
             1,
             "#f0f921"
            ]
           ],
           "sequentialminus": [
            [
             0,
             "#0d0887"
            ],
            [
             0.1111111111111111,
             "#46039f"
            ],
            [
             0.2222222222222222,
             "#7201a8"
            ],
            [
             0.3333333333333333,
             "#9c179e"
            ],
            [
             0.4444444444444444,
             "#bd3786"
            ],
            [
             0.5555555555555556,
             "#d8576b"
            ],
            [
             0.6666666666666666,
             "#ed7953"
            ],
            [
             0.7777777777777778,
             "#fb9f3a"
            ],
            [
             0.8888888888888888,
             "#fdca26"
            ],
            [
             1,
             "#f0f921"
            ]
           ]
          },
          "colorway": [
           "#636efa",
           "#EF553B",
           "#00cc96",
           "#ab63fa",
           "#FFA15A",
           "#19d3f3",
           "#FF6692",
           "#B6E880",
           "#FF97FF",
           "#FECB52"
          ],
          "font": {
           "color": "#2a3f5f"
          },
          "geo": {
           "bgcolor": "white",
           "lakecolor": "white",
           "landcolor": "white",
           "showlakes": true,
           "showland": true,
           "subunitcolor": "#C8D4E3"
          },
          "hoverlabel": {
           "align": "left"
          },
          "hovermode": "closest",
          "mapbox": {
           "style": "light"
          },
          "paper_bgcolor": "white",
          "plot_bgcolor": "white",
          "polar": {
           "angularaxis": {
            "gridcolor": "#EBF0F8",
            "linecolor": "#EBF0F8",
            "ticks": ""
           },
           "bgcolor": "white",
           "radialaxis": {
            "gridcolor": "#EBF0F8",
            "linecolor": "#EBF0F8",
            "ticks": ""
           }
          },
          "scene": {
           "xaxis": {
            "backgroundcolor": "white",
            "gridcolor": "#DFE8F3",
            "gridwidth": 2,
            "linecolor": "#EBF0F8",
            "showbackground": true,
            "ticks": "",
            "zerolinecolor": "#EBF0F8"
           },
           "yaxis": {
            "backgroundcolor": "white",
            "gridcolor": "#DFE8F3",
            "gridwidth": 2,
            "linecolor": "#EBF0F8",
            "showbackground": true,
            "ticks": "",
            "zerolinecolor": "#EBF0F8"
           },
           "zaxis": {
            "backgroundcolor": "white",
            "gridcolor": "#DFE8F3",
            "gridwidth": 2,
            "linecolor": "#EBF0F8",
            "showbackground": true,
            "ticks": "",
            "zerolinecolor": "#EBF0F8"
           }
          },
          "shapedefaults": {
           "line": {
            "color": "#2a3f5f"
           }
          },
          "ternary": {
           "aaxis": {
            "gridcolor": "#DFE8F3",
            "linecolor": "#A2B1C6",
            "ticks": ""
           },
           "baxis": {
            "gridcolor": "#DFE8F3",
            "linecolor": "#A2B1C6",
            "ticks": ""
           },
           "bgcolor": "white",
           "caxis": {
            "gridcolor": "#DFE8F3",
            "linecolor": "#A2B1C6",
            "ticks": ""
           }
          },
          "title": {
           "x": 0.05
          },
          "xaxis": {
           "automargin": true,
           "gridcolor": "#EBF0F8",
           "linecolor": "#EBF0F8",
           "ticks": "",
           "title": {
            "standoff": 15
           },
           "zerolinecolor": "#EBF0F8",
           "zerolinewidth": 2
          },
          "yaxis": {
           "automargin": true,
           "gridcolor": "#EBF0F8",
           "linecolor": "#EBF0F8",
           "ticks": "",
           "title": {
            "standoff": 15
           },
           "zerolinecolor": "#EBF0F8",
           "zerolinewidth": 2
          }
         }
        },
        "title": {
         "text": "<b>Customer Lifetime Value by Channel</b>",
         "x": 0.5,
         "xanchor": "center",
         "yanchor": "top"
        },
        "xaxis": {
         "anchor": "y",
         "categoryarray": [
          "email marketing",
          "paid advertising",
          "referral",
          "social media"
         ],
         "categoryorder": "array",
         "domain": [
          0,
          1
         ],
         "title": {
          "text": "Channel"
         }
        },
        "yaxis": {
         "anchor": "x",
         "domain": [
          0,
          1
         ],
         "title": {
          "text": "CLTV"
         }
        }
       }
      }
     },
     "metadata": {},
     "output_type": "display_data"
    }
   ],
   "source": [
    "data['cltv'] = (data['revenue'] - data['cost']) * data['conversion_rate'] / data['cost']\n",
    "\n",
    "channel_cltv = data.groupby('channel')['cltv'].mean().reset_index()\n",
    "\n",
    "fig = px.bar(channel_cltv, x='channel', y='cltv', color='channel',\n",
    "             title='Customer Lifetime Value by Channel')\n",
    "\n",
    "fig.update_layout(\n",
    "    title={\n",
    "        'text': '<b>Customer Lifetime Value by Channel</b>',\n",
    "        'x': 0.5,  # Centered\n",
    "        'xanchor': 'center',  # Anchor to center\n",
    "        'yanchor': 'top'  # Anchor to top\n",
    "    }\n",
    ")\n",
    "\n",
    "\n",
    "fig.update_xaxes(title='Channel')\n",
    "fig.update_yaxes(title='CLTV')\n",
    "\n",
    "# Remove the legend\n",
    "fig.for_each_trace(lambda t: t.update(showlegend=False))\n",
    "\n",
    "fig.show()\n"
   ]
  },
  {
   "cell_type": "markdown",
   "metadata": {},
   "source": [
    "\n",
    "\n",
    "So the customer lifetime value from Social Media and the referral channels is the highest.\n",
    "\n",
    "Now let’s compare the CLTV distributions of the social media and referral channels:\n"
   ]
  },
  {
   "cell_type": "code",
   "execution_count": 23,
   "metadata": {},
   "outputs": [
    {
     "data": {
      "application/vnd.plotly.v1+json": {
       "config": {
        "plotlyServerURL": "https://plot.ly"
       },
       "data": [
        {
         "alignmentgroup": "True",
         "hovertemplate": "channel=%{x}<br>cltv=%{y}<extra></extra>",
         "legendgroup": "",
         "marker": {
          "color": "#636efa"
         },
         "name": "",
         "notched": false,
         "offsetgroup": "",
         "orientation": "v",
         "showlegend": false,
         "type": "box",
         "x": [
          "referral",
          "social media",
          "referral",
          "social media",
          "social media",
          "social media",
          "referral",
          "social media",
          "referral",
          "referral",
          "social media",
          "referral",
          "social media",
          "social media",
          "referral",
          "social media",
          "referral",
          "social media",
          "referral",
          "social media",
          "social media",
          "referral",
          "social media",
          "social media",
          "social media",
          "referral",
          "social media",
          "referral",
          "referral",
          "referral",
          "referral",
          "social media",
          "social media",
          "social media",
          "referral",
          "social media",
          "referral",
          "referral",
          "social media",
          "social media",
          "social media",
          "social media",
          "referral",
          "social media",
          "referral",
          "social media",
          "social media",
          "social media",
          "social media",
          "social media",
          "social media",
          "referral",
          "referral",
          "referral",
          "referral",
          "social media",
          "referral",
          "referral",
          "social media",
          "referral",
          "referral",
          "social media",
          "referral",
          "social media",
          "social media",
          "referral",
          "social media",
          "social media",
          "social media",
          "social media",
          "social media",
          "referral",
          "social media",
          "social media",
          "social media",
          "referral",
          "referral",
          "referral",
          "social media",
          "social media",
          "referral",
          "referral",
          "social media",
          "social media",
          "referral",
          "referral",
          "referral",
          "social media",
          "social media",
          "referral",
          "referral",
          "social media",
          "social media",
          "social media",
          "referral",
          "referral",
          "referral",
          "social media",
          "social media",
          "referral",
          "social media",
          "social media",
          "referral",
          "referral",
          "referral",
          "social media",
          "referral",
          "referral",
          "referral",
          "social media",
          "referral",
          "social media",
          "referral",
          "social media",
          "referral",
          "social media",
          "referral",
          "referral",
          "referral",
          "social media",
          "referral",
          "referral",
          "social media",
          "referral",
          "referral",
          "referral",
          "referral",
          "referral",
          "social media",
          "social media",
          "referral",
          "referral",
          "referral",
          "referral",
          "referral",
          "referral",
          "social media",
          "referral",
          "referral",
          "referral",
          "referral",
          "referral",
          "social media",
          "referral",
          "referral",
          "social media",
          "social media",
          "referral",
          "social media",
          "social media",
          "social media",
          "social media",
          "referral",
          "referral",
          "social media",
          "social media",
          "referral",
          "social media",
          "referral",
          "referral",
          "social media",
          "referral",
          "referral",
          "referral",
          "referral",
          "social media",
          "referral",
          "referral",
          "social media",
          "referral",
          "referral",
          "social media",
          "social media",
          "social media",
          "referral",
          "referral",
          "social media",
          "referral",
          "referral",
          "referral",
          "social media",
          "social media",
          "social media",
          "referral",
          "referral",
          "social media",
          "referral",
          "referral",
          "referral",
          "social media",
          "referral",
          "referral",
          "social media",
          "social media",
          "referral",
          "referral",
          "social media",
          "social media",
          "referral",
          "referral",
          "social media",
          "referral",
          "social media",
          "social media",
          "referral",
          "referral",
          "referral",
          "social media",
          "social media",
          "social media",
          "social media",
          "referral",
          "referral",
          "referral",
          "referral",
          "referral",
          "referral",
          "social media",
          "social media",
          "social media",
          "social media",
          "referral",
          "referral",
          "referral",
          "social media",
          "referral",
          "referral",
          "social media",
          "social media",
          "referral",
          "referral",
          "social media",
          "referral",
          "referral",
          "social media",
          "referral",
          "social media",
          "referral",
          "social media",
          "social media",
          "referral",
          "referral",
          "social media",
          "referral",
          "social media",
          "referral",
          "referral",
          "social media",
          "referral",
          "referral",
          "social media",
          "social media",
          "social media",
          "social media",
          "social media",
          "referral",
          "social media",
          "referral",
          "referral",
          "referral",
          "social media",
          "referral",
          "referral",
          "referral",
          "referral",
          "referral",
          "referral",
          "referral",
          "social media",
          "referral",
          "social media",
          "referral",
          "social media",
          "social media",
          "referral",
          "social media",
          "referral",
          "social media",
          "social media",
          "referral",
          "social media",
          "referral",
          "referral",
          "referral",
          "referral",
          "social media",
          "social media",
          "referral",
          "referral",
          "social media",
          "social media",
          "referral",
          "referral",
          "referral",
          "referral",
          "referral",
          "social media",
          "referral",
          "social media",
          "social media",
          "social media",
          "social media",
          "social media",
          "social media",
          "referral",
          "social media",
          "social media",
          "referral",
          "referral",
          "referral",
          "social media",
          "referral",
          "referral",
          "social media",
          "referral",
          "referral",
          "referral",
          "social media",
          "social media",
          "referral",
          "referral",
          "social media",
          "social media",
          "referral",
          "referral",
          "social media",
          "referral",
          "referral",
          "social media",
          "social media",
          "social media",
          "referral",
          "social media",
          "referral",
          "referral",
          "social media",
          "social media",
          "referral",
          "referral",
          "social media",
          "referral",
          "social media",
          "social media",
          "referral",
          "social media",
          "social media",
          "referral",
          "referral",
          "referral",
          "social media",
          "social media",
          "referral",
          "referral",
          "social media",
          "referral",
          "referral",
          "social media",
          "social media",
          "referral",
          "social media",
          "referral",
          "social media",
          "referral",
          "social media",
          "referral",
          "referral",
          "referral",
          "social media",
          "referral",
          "social media",
          "social media",
          "social media",
          "social media",
          "referral",
          "referral",
          "referral",
          "social media",
          "social media",
          "social media",
          "referral",
          "social media",
          "referral",
          "social media",
          "referral",
          "referral",
          "social media",
          "referral",
          "social media",
          "social media",
          "social media",
          "social media",
          "social media"
         ],
         "x0": " ",
         "xaxis": "x",
         "y": [
          62.0241459001184,
          26.517042747254255,
          35.679259554720375,
          20.407665787961925,
          37.34889787335589,
          17.072086413635656,
          21.411579533954235,
          59.31105470115676,
          16.853026166323566,
          21.42638003190109,
          35.89177635720283,
          65.57626540736308,
          35.11932639683254,
          32.608864025629074,
          47.81566787113969,
          25.446146211286347,
          29.78866137187294,
          34.013318499029616,
          70.56403321545248,
          67.17599975219976,
          55.51902762297532,
          57.12518107971012,
          69.124680334043,
          19.459659018416563,
          18.300984077861123,
          12.190869313064924,
          27.482605197717124,
          8.327939348936336,
          53.20304912379412,
          35.25004511426164,
          12.723687239151628,
          13.736507039309384,
          72.35492562286423,
          27.359715431294575,
          35.0428381430057,
          84.67901362695393,
          20.02033272695007,
          52.048610283939595,
          31.643301575166213,
          13.876952486649438,
          60.7330648554748,
          25.937705276976533,
          50.982974431766195,
          52.271226653236575,
          53.78026854372138,
          14.666958127937239,
          33.697316242514496,
          20.44277714979694,
          26.148373447986614,
          77.42851740802367,
          24.603473527246024,
          8.13553287562725,
          58.383223405192616,
          53.78026854372138,
          45.980406125729935,
          76.02406293462313,
          28.27901058129395,
          49.843336089858525,
          55.115246961872664,
          21.026766587336066,
          68.18115304600917,
          31.590634532413688,
          70.26802325651543,
          53.658125445719605,
          75.33939137884036,
          28.88583099711492,
          31.028852743053474,
          70.81002570212365,
          69.45823827147564,
          81.41365697629769,
          40.42114203391956,
          50.68696447282914,
          23.286797458433025,
          47.022078058902075,
          39.45557958345669,
          43.52352346655237,
          34.76162868201549,
          64.48102855929598,
          74.18071643828493,
          49.39209498276548,
          46.054408615464205,
          57.39159004275347,
          68.3346746927552,
          47.496081443674754,
          69.0543824248735,
          57.28798655712551,
          25.318910991923385,
          69.07201329129047,
          57.18681731013845,
          32.67475847150924,
          27.080170247598872,
          47.63652689101481,
          28.588613095520042,
          58.81949563546657,
          27.4797836921639,
          18.747489903520727,
          15.476579857266254,
          74.72494254672765,
          13.718951358391879,
          8.845956777076186,
          45.020730434306316,
          52.130781205896525,
          9.053163748332125,
          25.200507008348563,
          45.19597973454674,
          38.87624211317897,
          48.80730123357883,
          16.468213219705394,
          71.98488101835035,
          42.96671576695803,
          45.29958322017471,
          51.83233463029891,
          61.62453245555337,
          54.34279700150236,
          43.98233890290481,
          13.70139567747437,
          32.63035697766868,
          48.274483307492126,
          61.47652747608485,
          65.29754189402655,
          72.88771139310838,
          50.61296198309488,
          65.31509757494405,
          73.7905417678664,
          62.21655237342748,
          68.43276151110567,
          14.174136037943205,
          40.26741391824474,
          20.021440807776777,
          25.340812125781305,
          72.73970641363985,
          31.19470867682396,
          49.10331119251589,
          31.535120129601577,
          34.24361125387564,
          21.959197957987794,
          82.69522168327568,
          49.85813658780538,
          17.208238117048033,
          61.372923990456876,
          35.20564362042108,
          30.750693738418377,
          38.98157619868401,
          48.94050571510051,
          29.16704045810512,
          13.051835483526622,
          18.95054427180887,
          66.7307042472176,
          43.6689430036583,
          13.086946845361636,
          69.01934624853797,
          52.04300280130899,
          12.442477778161424,
          32.7191599653498,
          78.92075028601174,
          80.14964795023721,
          45.63999467295232,
          81.51899106180274,
          39.26098005785875,
          52.07821127983331,
          44.23072479301851,
          23.67605571982272,
          32.1863420392631,
          23.380045760885665,
          63.78540515579388,
          48.075418913952475,
          7.277103994709786,
          42.51708960616637,
          60.53995236538223,
          18.821492393254992,
          12.279672300746043,
          70.61691321203108,
          41.61492833631001,
          37.66490012987101,
          22.432813892287083,
          18.347876458955703,
          52.02544712039148,
          33.10397291196797,
          44.204346372107594,
          53.351054103262655,
          57.379929800231025,
          18.968099952726377,
          45.35428837173894,
          58.84203884154505,
          73.15412035615174,
          72.28470289919422,
          17.54864956982565,
          58.02801145446814,
          72.73970641363985,
          22.531903178980233,
          21.352377542166824,
          56.20755020700525,
          18.88032154813884,
          22.07545547512506,
          37.721728271386056,
          17.08983413347321,
          33.87287305168956,
          30.010623249838087,
          35.75326204445464,
          39.616192008583226,
          38.279348961983736,
          56.962375602294735,
          9.470476576355257,
          14.386067233257132,
          19.161903846032608,
          56.2519517008458,
          39.09817458044338,
          16.352303496017882,
          18.371206801531148,
          19.336769251994017,
          34.03087417994712,
          48.94050571510051,
          58.694033862076516,
          54.1502809923927,
          73.19852184999229,
          41.673461223195766,
          64.08141511473094,
          16.492748943357935,
          56.5197014352732,
          10.50626175048815,
          14.912737660782332,
          53.73586704988082,
          8.431542834564306,
          38.19534420568535,
          33.591982157009454,
          54.96430837946961,
          30.247476808225375,
          32.047082236268864,
          35.15443775866755,
          66.37549229649314,
          48.3780867931201,
          38.64801826125138,
          7.5139119618594306,
          41.86586769650486,
          34.99643663040999,
          14.425744503039702,
          70.82758138304115,
          54.23908398007382,
          74.84783231315019,
          27.412382474047096,
          37.780930263173474,
          71.21525512511401,
          72.12670177093665,
          27.257776222961105,
          83.15166938713085,
          53.60266256835915,
          23.513250242407338,
          24.62102920816353,
          56.089146223430426,
          40.711428856650336,
          55.55413898481033,
          86.3994703568696,
          15.123405831792413,
          18.774987462633803,
          66.17532593990188,
          47.16444596147817,
          65.98221344980931,
          37.248112337086766,
          24.17927265001572,
          72.13288599781889,
          76.05917429645814,
          36.46368594590357,
          16.20180425666204,
          43.56792496039292,
          60.262886644442915,
          57.85040547910591,
          67.4855296425071,
          54.17988198828641,
          80.55342861133987,
          31.372314652186198,
          86.4170260377871,
          30.365880791800205,
          81.02743199611254,
          48.391421170467595,
          52.27061775314239,
          21.02211462007466,
          19.147103348085754,
          60.768176217309815,
          85.25835109723165,
          68.00354707064695,
          31.362410680486104,
          27.21337472912055,
          37.736528769332914,
          51.7970018188431,
          56.577562655676566,
          82.30899670309053,
          60.10106034244456,
          58.91604133127931,
          40.504221885394394,
          41.29892607979489,
          38.08623647189117,
          29.68505788624497,
          58.812437845651345,
          56.07434572548357,
          51.81180231678996,
          16.749422680695595,
          44.687172496873686,
          27.983000622356894,
          62.98019201291566,
          17.63386820299587,
          19.020766995478898,
          72.30225858011173,
          45.12606451981135,
          68.36978605459022,
          14.795756951711024,
          58.94238540188912,
          69.8971302944133,
          16.912228158110977,
          19.309908825501136,
          52.048610283939595,
          49.11120408808537,
          22.802826340958404,
          56.000343235749305,
          23.88369060962825,
          15.72818832236275,
          29.359446931414205,
          17.844659528762705,
          77.11251515150855,
          71.03824955405123,
          17.282240606782295,
          18.288674467168292,
          20.425221468879432,
          8.943806148830054,
          63.99261212704983,
          39.334982547593015,
          12.753388907929008,
          60.336889134177184,
          28.042202614144305,
          68.5804542256003,
          44.423837283111084,
          66.71955204834458,
          61.50612847197855,
          46.881632611562026,
          36.96690287609656,
          14.736554959923613,
          61.487959134927586,
          63.945754463378535,
          39.67539400037063,
          42.16187765544191,
          35.96199908087286,
          55.393522819928336,
          74.05782667186239,
          84.66145794603642,
          21.544784015475912,
          12.156495756733781,
          32.398195854619,
          40.578224375128656,
          34.83563117174975,
          15.461779359319397,
          48.19830868037502,
          9.751367471035364,
          58.782836849757636,
          26.887763774289784,
          72.2495915373592,
          62.586564822098815,
          20.419946171515097,
          77.00718106600351,
          56.58992415894323,
          25.09690352272059,
          11.78782645746614,
          51.97460779420533,
          62.225297733462874,
          54.757101408213664,
          39.45557958345669,
          16.320208240236866,
          70.5936342113462,
          14.233338029730616,
          74.76005390856265,
          52.137413271620716,
          77.41096172710617,
          74.68983118489263,
          38.33201600473626,
          78.27119009206399,
          53.173448127900414,
          65.33945744021344,
          43.834333923436276,
          16.036301239502762,
          35.716219548027766,
          51.67433350204135,
          23.513250242407338,
          73.18004262598706,
          17.489447578038238,
          66.85999749568464,
          47.77126637729913,
          53.45465758889062,
          52.79789708076177,
          26.932165268130344,
          53.35967887012199,
          25.358367806698812,
          78.99097300968177,
          49.216538173590415,
          36.71689336032565
         ],
         "y0": " ",
         "yaxis": "y"
        }
       ],
       "layout": {
        "boxmode": "group",
        "legend": {
         "title": {
          "text": "Channel"
         },
         "tracegroupgap": 0
        },
        "template": {
         "data": {
          "bar": [
           {
            "error_x": {
             "color": "#2a3f5f"
            },
            "error_y": {
             "color": "#2a3f5f"
            },
            "marker": {
             "line": {
              "color": "white",
              "width": 0.5
             },
             "pattern": {
              "fillmode": "overlay",
              "size": 10,
              "solidity": 0.2
             }
            },
            "type": "bar"
           }
          ],
          "barpolar": [
           {
            "marker": {
             "line": {
              "color": "white",
              "width": 0.5
             },
             "pattern": {
              "fillmode": "overlay",
              "size": 10,
              "solidity": 0.2
             }
            },
            "type": "barpolar"
           }
          ],
          "carpet": [
           {
            "aaxis": {
             "endlinecolor": "#2a3f5f",
             "gridcolor": "#C8D4E3",
             "linecolor": "#C8D4E3",
             "minorgridcolor": "#C8D4E3",
             "startlinecolor": "#2a3f5f"
            },
            "baxis": {
             "endlinecolor": "#2a3f5f",
             "gridcolor": "#C8D4E3",
             "linecolor": "#C8D4E3",
             "minorgridcolor": "#C8D4E3",
             "startlinecolor": "#2a3f5f"
            },
            "type": "carpet"
           }
          ],
          "choropleth": [
           {
            "colorbar": {
             "outlinewidth": 0,
             "ticks": ""
            },
            "type": "choropleth"
           }
          ],
          "contour": [
           {
            "colorbar": {
             "outlinewidth": 0,
             "ticks": ""
            },
            "colorscale": [
             [
              0,
              "#0d0887"
             ],
             [
              0.1111111111111111,
              "#46039f"
             ],
             [
              0.2222222222222222,
              "#7201a8"
             ],
             [
              0.3333333333333333,
              "#9c179e"
             ],
             [
              0.4444444444444444,
              "#bd3786"
             ],
             [
              0.5555555555555556,
              "#d8576b"
             ],
             [
              0.6666666666666666,
              "#ed7953"
             ],
             [
              0.7777777777777778,
              "#fb9f3a"
             ],
             [
              0.8888888888888888,
              "#fdca26"
             ],
             [
              1,
              "#f0f921"
             ]
            ],
            "type": "contour"
           }
          ],
          "contourcarpet": [
           {
            "colorbar": {
             "outlinewidth": 0,
             "ticks": ""
            },
            "type": "contourcarpet"
           }
          ],
          "heatmap": [
           {
            "colorbar": {
             "outlinewidth": 0,
             "ticks": ""
            },
            "colorscale": [
             [
              0,
              "#0d0887"
             ],
             [
              0.1111111111111111,
              "#46039f"
             ],
             [
              0.2222222222222222,
              "#7201a8"
             ],
             [
              0.3333333333333333,
              "#9c179e"
             ],
             [
              0.4444444444444444,
              "#bd3786"
             ],
             [
              0.5555555555555556,
              "#d8576b"
             ],
             [
              0.6666666666666666,
              "#ed7953"
             ],
             [
              0.7777777777777778,
              "#fb9f3a"
             ],
             [
              0.8888888888888888,
              "#fdca26"
             ],
             [
              1,
              "#f0f921"
             ]
            ],
            "type": "heatmap"
           }
          ],
          "heatmapgl": [
           {
            "colorbar": {
             "outlinewidth": 0,
             "ticks": ""
            },
            "colorscale": [
             [
              0,
              "#0d0887"
             ],
             [
              0.1111111111111111,
              "#46039f"
             ],
             [
              0.2222222222222222,
              "#7201a8"
             ],
             [
              0.3333333333333333,
              "#9c179e"
             ],
             [
              0.4444444444444444,
              "#bd3786"
             ],
             [
              0.5555555555555556,
              "#d8576b"
             ],
             [
              0.6666666666666666,
              "#ed7953"
             ],
             [
              0.7777777777777778,
              "#fb9f3a"
             ],
             [
              0.8888888888888888,
              "#fdca26"
             ],
             [
              1,
              "#f0f921"
             ]
            ],
            "type": "heatmapgl"
           }
          ],
          "histogram": [
           {
            "marker": {
             "pattern": {
              "fillmode": "overlay",
              "size": 10,
              "solidity": 0.2
             }
            },
            "type": "histogram"
           }
          ],
          "histogram2d": [
           {
            "colorbar": {
             "outlinewidth": 0,
             "ticks": ""
            },
            "colorscale": [
             [
              0,
              "#0d0887"
             ],
             [
              0.1111111111111111,
              "#46039f"
             ],
             [
              0.2222222222222222,
              "#7201a8"
             ],
             [
              0.3333333333333333,
              "#9c179e"
             ],
             [
              0.4444444444444444,
              "#bd3786"
             ],
             [
              0.5555555555555556,
              "#d8576b"
             ],
             [
              0.6666666666666666,
              "#ed7953"
             ],
             [
              0.7777777777777778,
              "#fb9f3a"
             ],
             [
              0.8888888888888888,
              "#fdca26"
             ],
             [
              1,
              "#f0f921"
             ]
            ],
            "type": "histogram2d"
           }
          ],
          "histogram2dcontour": [
           {
            "colorbar": {
             "outlinewidth": 0,
             "ticks": ""
            },
            "colorscale": [
             [
              0,
              "#0d0887"
             ],
             [
              0.1111111111111111,
              "#46039f"
             ],
             [
              0.2222222222222222,
              "#7201a8"
             ],
             [
              0.3333333333333333,
              "#9c179e"
             ],
             [
              0.4444444444444444,
              "#bd3786"
             ],
             [
              0.5555555555555556,
              "#d8576b"
             ],
             [
              0.6666666666666666,
              "#ed7953"
             ],
             [
              0.7777777777777778,
              "#fb9f3a"
             ],
             [
              0.8888888888888888,
              "#fdca26"
             ],
             [
              1,
              "#f0f921"
             ]
            ],
            "type": "histogram2dcontour"
           }
          ],
          "mesh3d": [
           {
            "colorbar": {
             "outlinewidth": 0,
             "ticks": ""
            },
            "type": "mesh3d"
           }
          ],
          "parcoords": [
           {
            "line": {
             "colorbar": {
              "outlinewidth": 0,
              "ticks": ""
             }
            },
            "type": "parcoords"
           }
          ],
          "pie": [
           {
            "automargin": true,
            "type": "pie"
           }
          ],
          "scatter": [
           {
            "fillpattern": {
             "fillmode": "overlay",
             "size": 10,
             "solidity": 0.2
            },
            "type": "scatter"
           }
          ],
          "scatter3d": [
           {
            "line": {
             "colorbar": {
              "outlinewidth": 0,
              "ticks": ""
             }
            },
            "marker": {
             "colorbar": {
              "outlinewidth": 0,
              "ticks": ""
             }
            },
            "type": "scatter3d"
           }
          ],
          "scattercarpet": [
           {
            "marker": {
             "colorbar": {
              "outlinewidth": 0,
              "ticks": ""
             }
            },
            "type": "scattercarpet"
           }
          ],
          "scattergeo": [
           {
            "marker": {
             "colorbar": {
              "outlinewidth": 0,
              "ticks": ""
             }
            },
            "type": "scattergeo"
           }
          ],
          "scattergl": [
           {
            "marker": {
             "colorbar": {
              "outlinewidth": 0,
              "ticks": ""
             }
            },
            "type": "scattergl"
           }
          ],
          "scattermapbox": [
           {
            "marker": {
             "colorbar": {
              "outlinewidth": 0,
              "ticks": ""
             }
            },
            "type": "scattermapbox"
           }
          ],
          "scatterpolar": [
           {
            "marker": {
             "colorbar": {
              "outlinewidth": 0,
              "ticks": ""
             }
            },
            "type": "scatterpolar"
           }
          ],
          "scatterpolargl": [
           {
            "marker": {
             "colorbar": {
              "outlinewidth": 0,
              "ticks": ""
             }
            },
            "type": "scatterpolargl"
           }
          ],
          "scatterternary": [
           {
            "marker": {
             "colorbar": {
              "outlinewidth": 0,
              "ticks": ""
             }
            },
            "type": "scatterternary"
           }
          ],
          "surface": [
           {
            "colorbar": {
             "outlinewidth": 0,
             "ticks": ""
            },
            "colorscale": [
             [
              0,
              "#0d0887"
             ],
             [
              0.1111111111111111,
              "#46039f"
             ],
             [
              0.2222222222222222,
              "#7201a8"
             ],
             [
              0.3333333333333333,
              "#9c179e"
             ],
             [
              0.4444444444444444,
              "#bd3786"
             ],
             [
              0.5555555555555556,
              "#d8576b"
             ],
             [
              0.6666666666666666,
              "#ed7953"
             ],
             [
              0.7777777777777778,
              "#fb9f3a"
             ],
             [
              0.8888888888888888,
              "#fdca26"
             ],
             [
              1,
              "#f0f921"
             ]
            ],
            "type": "surface"
           }
          ],
          "table": [
           {
            "cells": {
             "fill": {
              "color": "#EBF0F8"
             },
             "line": {
              "color": "white"
             }
            },
            "header": {
             "fill": {
              "color": "#C8D4E3"
             },
             "line": {
              "color": "white"
             }
            },
            "type": "table"
           }
          ]
         },
         "layout": {
          "annotationdefaults": {
           "arrowcolor": "#2a3f5f",
           "arrowhead": 0,
           "arrowwidth": 1
          },
          "autotypenumbers": "strict",
          "coloraxis": {
           "colorbar": {
            "outlinewidth": 0,
            "ticks": ""
           }
          },
          "colorscale": {
           "diverging": [
            [
             0,
             "#8e0152"
            ],
            [
             0.1,
             "#c51b7d"
            ],
            [
             0.2,
             "#de77ae"
            ],
            [
             0.3,
             "#f1b6da"
            ],
            [
             0.4,
             "#fde0ef"
            ],
            [
             0.5,
             "#f7f7f7"
            ],
            [
             0.6,
             "#e6f5d0"
            ],
            [
             0.7,
             "#b8e186"
            ],
            [
             0.8,
             "#7fbc41"
            ],
            [
             0.9,
             "#4d9221"
            ],
            [
             1,
             "#276419"
            ]
           ],
           "sequential": [
            [
             0,
             "#0d0887"
            ],
            [
             0.1111111111111111,
             "#46039f"
            ],
            [
             0.2222222222222222,
             "#7201a8"
            ],
            [
             0.3333333333333333,
             "#9c179e"
            ],
            [
             0.4444444444444444,
             "#bd3786"
            ],
            [
             0.5555555555555556,
             "#d8576b"
            ],
            [
             0.6666666666666666,
             "#ed7953"
            ],
            [
             0.7777777777777778,
             "#fb9f3a"
            ],
            [
             0.8888888888888888,
             "#fdca26"
            ],
            [
             1,
             "#f0f921"
            ]
           ],
           "sequentialminus": [
            [
             0,
             "#0d0887"
            ],
            [
             0.1111111111111111,
             "#46039f"
            ],
            [
             0.2222222222222222,
             "#7201a8"
            ],
            [
             0.3333333333333333,
             "#9c179e"
            ],
            [
             0.4444444444444444,
             "#bd3786"
            ],
            [
             0.5555555555555556,
             "#d8576b"
            ],
            [
             0.6666666666666666,
             "#ed7953"
            ],
            [
             0.7777777777777778,
             "#fb9f3a"
            ],
            [
             0.8888888888888888,
             "#fdca26"
            ],
            [
             1,
             "#f0f921"
            ]
           ]
          },
          "colorway": [
           "#636efa",
           "#EF553B",
           "#00cc96",
           "#ab63fa",
           "#FFA15A",
           "#19d3f3",
           "#FF6692",
           "#B6E880",
           "#FF97FF",
           "#FECB52"
          ],
          "font": {
           "color": "#2a3f5f"
          },
          "geo": {
           "bgcolor": "white",
           "lakecolor": "white",
           "landcolor": "white",
           "showlakes": true,
           "showland": true,
           "subunitcolor": "#C8D4E3"
          },
          "hoverlabel": {
           "align": "left"
          },
          "hovermode": "closest",
          "mapbox": {
           "style": "light"
          },
          "paper_bgcolor": "white",
          "plot_bgcolor": "white",
          "polar": {
           "angularaxis": {
            "gridcolor": "#EBF0F8",
            "linecolor": "#EBF0F8",
            "ticks": ""
           },
           "bgcolor": "white",
           "radialaxis": {
            "gridcolor": "#EBF0F8",
            "linecolor": "#EBF0F8",
            "ticks": ""
           }
          },
          "scene": {
           "xaxis": {
            "backgroundcolor": "white",
            "gridcolor": "#DFE8F3",
            "gridwidth": 2,
            "linecolor": "#EBF0F8",
            "showbackground": true,
            "ticks": "",
            "zerolinecolor": "#EBF0F8"
           },
           "yaxis": {
            "backgroundcolor": "white",
            "gridcolor": "#DFE8F3",
            "gridwidth": 2,
            "linecolor": "#EBF0F8",
            "showbackground": true,
            "ticks": "",
            "zerolinecolor": "#EBF0F8"
           },
           "zaxis": {
            "backgroundcolor": "white",
            "gridcolor": "#DFE8F3",
            "gridwidth": 2,
            "linecolor": "#EBF0F8",
            "showbackground": true,
            "ticks": "",
            "zerolinecolor": "#EBF0F8"
           }
          },
          "shapedefaults": {
           "line": {
            "color": "#2a3f5f"
           }
          },
          "ternary": {
           "aaxis": {
            "gridcolor": "#DFE8F3",
            "linecolor": "#A2B1C6",
            "ticks": ""
           },
           "baxis": {
            "gridcolor": "#DFE8F3",
            "linecolor": "#A2B1C6",
            "ticks": ""
           },
           "bgcolor": "white",
           "caxis": {
            "gridcolor": "#DFE8F3",
            "linecolor": "#A2B1C6",
            "ticks": ""
           }
          },
          "title": {
           "x": 0.05
          },
          "xaxis": {
           "automargin": true,
           "gridcolor": "#EBF0F8",
           "linecolor": "#EBF0F8",
           "ticks": "",
           "title": {
            "standoff": 15
           },
           "zerolinecolor": "#EBF0F8",
           "zerolinewidth": 2
          },
          "yaxis": {
           "automargin": true,
           "gridcolor": "#EBF0F8",
           "linecolor": "#EBF0F8",
           "ticks": "",
           "title": {
            "standoff": 15
           },
           "zerolinecolor": "#EBF0F8",
           "zerolinewidth": 2
          }
         }
        },
        "title": {
         "text": "<b>CLTV Distribution by Channel</b>",
         "x": 0.5,
         "xanchor": "center",
         "yanchor": "top"
        },
        "xaxis": {
         "anchor": "y",
         "domain": [
          0,
          1
         ],
         "title": {
          "text": "Channel"
         }
        },
        "yaxis": {
         "anchor": "x",
         "domain": [
          0,
          1
         ],
         "title": {
          "text": "CLTV"
         }
        }
       }
      }
     },
     "metadata": {},
     "output_type": "display_data"
    }
   ],
   "source": [
    "\n",
    "\n",
    "subset = data.loc[data['channel'].isin(['social media', 'referral'])]\n",
    "\n",
    "fig = px.box(subset, x='channel', y='cltv', title='CLTV Distribution by Channel')\n",
    "\n",
    "fig.update_xaxes(title='Channel')\n",
    "fig.update_yaxes(title='CLTV')\n",
    "fig.update_layout(legend_title='Channel')\n",
    "\n",
    "fig.update_layout(\n",
    "    title={\n",
    "        'text': '<b>CLTV Distribution by Channel</b>',\n",
    "        'x': 0.5,  # Centered\n",
    "        'xanchor': 'center',  # Anchor to center\n",
    "        'yanchor': 'top'  # Anchor to top\n",
    "    }\n",
    ")\n",
    "\n",
    "\n",
    "fig.show()\n"
   ]
  },
  {
   "cell_type": "markdown",
   "metadata": {},
   "source": [
    "\n",
    "\n",
    "There’s not much difference, but the Customer Lifetime Value from the Social Media channel is slightly better than the referral channel."
   ]
  },
  {
   "cell_type": "markdown",
   "metadata": {},
   "source": [
    "Summary\n",
    "\n",
    "- Customer lifetime value analysis is used to estimate the total value of customers to the business over the lifetime of their relationship.\n",
    "\n",
    "- It helps companies determine how much to invest in customer acquisition and retention, as well as identify the most valuable customers to prioritize for retention efforts. \n",
    "\n"
   ]
  },
  {
   "cell_type": "markdown",
   "metadata": {},
   "source": [
    "## **REFERENCES**"
   ]
  },
  {
   "cell_type": "markdown",
   "metadata": {},
   "source": [
    "[Aman Kharwal. The clever programmer: Customer Lifetime Value Analysis using Python](https://thecleverprogrammer.com/2023/05/01/customer-lifetime-value-analysis-using-python/ \"Visit Sie\")\n",
    "\n",
    "\n",
    "[Aman Kharwal, The clever programmer: Customer Acquisition Cost Analysis using Python](https://thecleverprogrammer.com/2023/09/25/customer-acquisition-cost-analysis-using-python/ \"Customer Acquisition Cost Analysis\")\n",
    "\n",
    "\n",
    "[Zoe Nguyen. Kaggle. Marketing channel profitability annalysis](https://www.kaggle.com/code/nhi0904/marketing-channel-profitability-annalysis \"kaggle\")\n",
    "\n",
    "\n",
    "[Qualtrics. Experience Management: Customer Live Time Value](https://www.qualtrics.com/experience-management/customer/customer-lifetime-value/ \"Experience-Management\")\n",
    "\n",
    "\n",
    "[Forbes. Cstomer Lifetime Value](https://www.forbes.com/advisor/business/customer-lifetime-value/ \"Customer Live Time Value\")"
   ]
  }
 ],
 "metadata": {
  "kernelspec": {
   "display_name": "Python 3",
   "language": "python",
   "name": "python3"
  },
  "language_info": {
   "codemirror_mode": {
    "name": "ipython",
    "version": 3
   },
   "file_extension": ".py",
   "mimetype": "text/x-python",
   "name": "python",
   "nbconvert_exporter": "python",
   "pygments_lexer": "ipython3",
   "version": "3.11.4"
  },
  "orig_nbformat": 4
 },
 "nbformat": 4,
 "nbformat_minor": 2
}
